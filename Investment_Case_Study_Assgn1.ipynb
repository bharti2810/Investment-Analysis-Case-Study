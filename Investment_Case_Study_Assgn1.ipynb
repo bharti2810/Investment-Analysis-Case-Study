{
 "cells": [
  {
   "cell_type": "markdown",
   "metadata": {},
   "source": [
    "### Reading Data and Analysis of Rounds2 data."
   ]
  },
  {
   "cell_type": "code",
   "execution_count": 1,
   "metadata": {},
   "outputs": [
    {
     "name": "stdout",
     "output_type": "stream",
     "text": [
      "<class 'pandas.core.frame.DataFrame'>\n",
      "RangeIndex: 114949 entries, 0 to 114948\n",
      "Data columns (total 6 columns):\n",
      "company_permalink          114949 non-null object\n",
      "funding_round_permalink    114949 non-null object\n",
      "funding_round_type         114949 non-null object\n",
      "funding_round_code         31140 non-null object\n",
      "funded_at                  114949 non-null object\n",
      "raised_amount_usd          94959 non-null float64\n",
      "dtypes: float64(1), object(5)\n",
      "memory usage: 5.3+ MB\n",
      "                                        company_permalink  \\\n",
      "0                                     /organization/-fame   \n",
      "1                                  /ORGANIZATION/-QOUNTER   \n",
      "2                                  /organization/-qounter   \n",
      "3                     /ORGANIZATION/-THE-ONE-OF-THEM-INC-   \n",
      "4                                   /organization/0-6-com   \n",
      "...                                                   ...   \n",
      "114944                          /organization/zzzzapp-com   \n",
      "114945                          /ORGANIZATION/ZZZZAPP-COM   \n",
      "114946                               /organization/ãeron   \n",
      "114947                             /ORGANIZATION/ÃASYS-2   \n",
      "114948  /organization/ä°novatiff-reklam-ve-tanä±tä±m-h...   \n",
      "\n",
      "                                funding_round_permalink funding_round_type  \\\n",
      "0       /funding-round/9a01d05418af9f794eebff7ace91f638            venture   \n",
      "1       /funding-round/22dacff496eb7acb2b901dec1dfe5633            venture   \n",
      "2       /funding-round/b44fbb94153f6cdef13083530bb48030               seed   \n",
      "3       /funding-round/650b8f704416801069bb178a1418776b            venture   \n",
      "4       /funding-round/5727accaeaa57461bd22a9bdd945382d            venture   \n",
      "...                                                 ...                ...   \n",
      "114944  /funding-round/8f6d25b8ee4199e586484d817bceda05   convertible_note   \n",
      "114945  /funding-round/ff1aa06ed5da186c84f101549035d4ae               seed   \n",
      "114946  /funding-round/59f4dce44723b794f21ded3daed6e4fe            venture   \n",
      "114947  /funding-round/35f09d0794651719b02bbfd859ba9ff5               seed   \n",
      "114948  /funding-round/af942869878d2cd788ef5189b435ebc4              grant   \n",
      "\n",
      "       funding_round_code   funded_at  raised_amount_usd  \n",
      "0                       B  05-01-2015         10000000.0  \n",
      "1                       A  14-10-2014                NaN  \n",
      "2                     NaN  01-03-2014           700000.0  \n",
      "3                       B  30-01-2014          3406878.0  \n",
      "4                       A  19-03-2008          2000000.0  \n",
      "...                   ...         ...                ...  \n",
      "114944                NaN  01-03-2014            41313.0  \n",
      "114945                NaN  01-05-2013            32842.0  \n",
      "114946                  A  01-08-2014                NaN  \n",
      "114947                NaN  01-01-2015            18192.0  \n",
      "114948                NaN  01-10-2013            14851.0  \n",
      "\n",
      "[114949 rows x 6 columns]\n"
     ]
    }
   ],
   "source": [
    "\n",
    "# importing pandas package \n",
    "import pandas as pd \n",
    "rounds2 = pd.read_csv(\"rounds2.csv\", encoding = \"ISO-8859-1\")\n",
    "rounds2.shape\n",
    "rounds2.info()\n",
    "print(rounds2)"
   ]
  },
  {
   "cell_type": "code",
   "execution_count": 2,
   "metadata": {},
   "outputs": [
    {
     "name": "stdout",
     "output_type": "stream",
     "text": [
      "                                        company_permalink  \\\n",
      "0                                     /organization/-fame   \n",
      "1                                  /organization/-qounter   \n",
      "2                                  /organization/-qounter   \n",
      "3                     /organization/-the-one-of-them-inc-   \n",
      "4                                   /organization/0-6-com   \n",
      "...                                                   ...   \n",
      "114944                          /organization/zzzzapp-com   \n",
      "114945                          /organization/zzzzapp-com   \n",
      "114946                               /organization/ãeron   \n",
      "114947                             /organization/ãasys-2   \n",
      "114948  /organization/ä°novatiff-reklam-ve-tanä±tä±m-h...   \n",
      "\n",
      "                                funding_round_permalink funding_round_type  \\\n",
      "0       /funding-round/9a01d05418af9f794eebff7ace91f638            venture   \n",
      "1       /funding-round/22dacff496eb7acb2b901dec1dfe5633            venture   \n",
      "2       /funding-round/b44fbb94153f6cdef13083530bb48030               seed   \n",
      "3       /funding-round/650b8f704416801069bb178a1418776b            venture   \n",
      "4       /funding-round/5727accaeaa57461bd22a9bdd945382d            venture   \n",
      "...                                                 ...                ...   \n",
      "114944  /funding-round/8f6d25b8ee4199e586484d817bceda05   convertible_note   \n",
      "114945  /funding-round/ff1aa06ed5da186c84f101549035d4ae               seed   \n",
      "114946  /funding-round/59f4dce44723b794f21ded3daed6e4fe            venture   \n",
      "114947  /funding-round/35f09d0794651719b02bbfd859ba9ff5               seed   \n",
      "114948  /funding-round/af942869878d2cd788ef5189b435ebc4              grant   \n",
      "\n",
      "       funding_round_code   funded_at  raised_amount_usd  \n",
      "0                       B  05-01-2015         10000000.0  \n",
      "1                       A  14-10-2014                NaN  \n",
      "2                     NaN  01-03-2014           700000.0  \n",
      "3                       B  30-01-2014          3406878.0  \n",
      "4                       A  19-03-2008          2000000.0  \n",
      "...                   ...         ...                ...  \n",
      "114944                NaN  01-03-2014            41313.0  \n",
      "114945                NaN  01-05-2013            32842.0  \n",
      "114946                  A  01-08-2014                NaN  \n",
      "114947                NaN  01-01-2015            18192.0  \n",
      "114948                NaN  01-10-2013            14851.0  \n",
      "\n",
      "[114949 rows x 6 columns]\n"
     ]
    }
   ],
   "source": [
    "rounds2['company_permalink'] = rounds2['company_permalink'].str.lower()\n",
    "print(rounds2)\n"
   ]
  },
  {
   "cell_type": "code",
   "execution_count": 3,
   "metadata": {},
   "outputs": [
    {
     "name": "stdout",
     "output_type": "stream",
     "text": [
      "(66370, 6)\n"
     ]
    }
   ],
   "source": [
    "rounds2 = pd.DataFrame(rounds2)\n",
    "rounds2 = rounds2.drop_duplicates(subset='company_permalink',inplace=False)\n",
    "print(rounds2.shape)"
   ]
  },
  {
   "cell_type": "markdown",
   "metadata": {},
   "source": [
    "Thus number of unique companies in rounds table are 66370."
   ]
  },
  {
   "cell_type": "code",
   "execution_count": 4,
   "metadata": {},
   "outputs": [
    {
     "name": "stdout",
     "output_type": "stream",
     "text": [
      "<bound method Series.count of 0                                       /organization/-fame\n",
      "1                                    /organization/-qounter\n",
      "2                                    /organization/-qounter\n",
      "3                       /organization/-the-one-of-them-inc-\n",
      "4                                     /organization/0-6-com\n",
      "                                ...                        \n",
      "114944                            /organization/zzzzapp-com\n",
      "114945                            /organization/zzzzapp-com\n",
      "114946                                 /organization/ãeron\n",
      "114947                               /organization/ãasys-2\n",
      "114948    /organization/ä°novatiff-reklam-ve-tanä±tä±m-h...\n",
      "Name: company_permalink, Length: 114949, dtype: object>\n"
     ]
    },
    {
     "data": {
      "text/plain": [
       "company_permalink           0.00\n",
       "funding_round_permalink     0.00\n",
       "funding_round_type          0.00\n",
       "funding_round_code         72.91\n",
       "funded_at                   0.00\n",
       "raised_amount_usd          17.39\n",
       "dtype: float64"
      ]
     },
     "execution_count": 4,
     "metadata": {},
     "output_type": "execute_result"
    }
   ],
   "source": [
    "rounds2 = pd.read_csv(\"rounds2.csv\", encoding = \"ISO-8859-1\")\n",
    "rounds2['company_permalink'] = rounds2['company_permalink'].str.lower()\n",
    "# summing up the missing values (column-wise)\n",
    "print(rounds2.company_permalink.count)\n",
    "#rounds2.isnull().sum()\n",
    "round(100*(rounds2.isnull().sum()/len(rounds2.index)), 2)"
   ]
  },
  {
   "cell_type": "markdown",
   "metadata": {},
   "source": [
    "* Funding_round_code column has around 72.91%  missing values,thus it is impossible to either impute or delete these values. So it's better to drop this column.\n",
    "* No Row has all the values missing."
   ]
  },
  {
   "cell_type": "code",
   "execution_count": 5,
   "metadata": {},
   "outputs": [
    {
     "data": {
      "text/plain": [
       "company_permalink           0.00\n",
       "funding_round_permalink     0.00\n",
       "funding_round_type          0.00\n",
       "funded_at                   0.00\n",
       "raised_amount_usd          17.39\n",
       "dtype: float64"
      ]
     },
     "execution_count": 5,
     "metadata": {},
     "output_type": "execute_result"
    }
   ],
   "source": [
    "# removing the Funding_round_code columns\n",
    "rounds2 = rounds2.drop('funding_round_code', axis=1)\n",
    "round(100*(rounds2.isnull().sum()/len(rounds2.index)), 2)"
   ]
  },
  {
   "cell_type": "markdown",
   "metadata": {},
   "source": [
    "We now have columns having maximum 17.39% missing values (Landsize). Next, we need to treat the rows."
   ]
  },
  {
   "cell_type": "markdown",
   "metadata": {},
   "source": [
    "### Treating Missing Values in Rows"
   ]
  },
  {
   "cell_type": "code",
   "execution_count": 6,
   "metadata": {},
   "outputs": [
    {
     "data": {
      "text/plain": [
       "0"
      ]
     },
     "execution_count": 6,
     "metadata": {},
     "output_type": "execute_result"
    }
   ],
   "source": [
    "# sum it up to check how many rows have all missing values\n",
    "rounds2.isnull().all(axis=1).sum()"
   ]
  },
  {
   "cell_type": "code",
   "execution_count": 7,
   "metadata": {},
   "outputs": [
    {
     "data": {
      "text/plain": [
       "0.0"
      ]
     },
     "execution_count": 7,
     "metadata": {},
     "output_type": "execute_result"
    }
   ],
   "source": [
    "# Percentage of more than 1 values missing in any row.\n",
    "100*(len(rounds2[rounds2.isnull().sum(axis=1) > 1].index) / len(rounds2.index)) # gives null rows \n",
    "#round(100*(rounds2.isnull().sum()/len(rounds2.index)), 2)"
   ]
  },
  {
   "cell_type": "code",
   "execution_count": 8,
   "metadata": {},
   "outputs": [
    {
     "data": {
      "text/html": [
       "<div>\n",
       "<style scoped>\n",
       "    .dataframe tbody tr th:only-of-type {\n",
       "        vertical-align: middle;\n",
       "    }\n",
       "\n",
       "    .dataframe tbody tr th {\n",
       "        vertical-align: top;\n",
       "    }\n",
       "\n",
       "    .dataframe thead th {\n",
       "        text-align: right;\n",
       "    }\n",
       "</style>\n",
       "<table border=\"1\" class=\"dataframe\">\n",
       "  <thead>\n",
       "    <tr style=\"text-align: right;\">\n",
       "      <th></th>\n",
       "      <th>company_permalink</th>\n",
       "      <th>funding_round_permalink</th>\n",
       "      <th>funding_round_type</th>\n",
       "      <th>funded_at</th>\n",
       "      <th>raised_amount_usd</th>\n",
       "    </tr>\n",
       "  </thead>\n",
       "  <tbody>\n",
       "    <tr>\n",
       "      <td>1</td>\n",
       "      <td>/organization/-qounter</td>\n",
       "      <td>/funding-round/22dacff496eb7acb2b901dec1dfe5633</td>\n",
       "      <td>venture</td>\n",
       "      <td>14-10-2014</td>\n",
       "      <td>NaN</td>\n",
       "    </tr>\n",
       "    <tr>\n",
       "      <td>5</td>\n",
       "      <td>/organization/004-technologies</td>\n",
       "      <td>/funding-round/1278dd4e6a37fa4b7d7e06c21b3c1830</td>\n",
       "      <td>venture</td>\n",
       "      <td>24-07-2014</td>\n",
       "      <td>NaN</td>\n",
       "    </tr>\n",
       "    <tr>\n",
       "      <td>14</td>\n",
       "      <td>/organization/1</td>\n",
       "      <td>/funding-round/5de6d8828aef7d925d97918d15727670</td>\n",
       "      <td>undisclosed</td>\n",
       "      <td>05-02-2013</td>\n",
       "      <td>NaN</td>\n",
       "    </tr>\n",
       "    <tr>\n",
       "      <td>17</td>\n",
       "      <td>/organization/1-4-all</td>\n",
       "      <td>/funding-round/e97a192e13ea0ee3c4f71136b4f3ec16</td>\n",
       "      <td>equity_crowdfunding</td>\n",
       "      <td>21-04-2013</td>\n",
       "      <td>NaN</td>\n",
       "    </tr>\n",
       "    <tr>\n",
       "      <td>18</td>\n",
       "      <td>/organization/1-618-technology</td>\n",
       "      <td>/funding-round/83b8f4c7d37ecef5e001a5e953bf461a</td>\n",
       "      <td>equity_crowdfunding</td>\n",
       "      <td>22-01-2014</td>\n",
       "      <td>NaN</td>\n",
       "    </tr>\n",
       "    <tr>\n",
       "      <td>...</td>\n",
       "      <td>...</td>\n",
       "      <td>...</td>\n",
       "      <td>...</td>\n",
       "      <td>...</td>\n",
       "      <td>...</td>\n",
       "    </tr>\n",
       "    <tr>\n",
       "      <td>114899</td>\n",
       "      <td>/organization/zymr-inc-</td>\n",
       "      <td>/funding-round/9048d1a80edeae803ed1790c9f473eec</td>\n",
       "      <td>angel</td>\n",
       "      <td>12-12-2012</td>\n",
       "      <td>NaN</td>\n",
       "    </tr>\n",
       "    <tr>\n",
       "      <td>114905</td>\n",
       "      <td>/organization/zynergy-projects-services</td>\n",
       "      <td>/funding-round/3d7dbd2d92220d93e2b5455f914a0918</td>\n",
       "      <td>venture</td>\n",
       "      <td>19-08-2015</td>\n",
       "      <td>NaN</td>\n",
       "    </tr>\n",
       "    <tr>\n",
       "      <td>114913</td>\n",
       "      <td>/organization/zynga</td>\n",
       "      <td>/funding-round/d27f10a20b15b4ef3d9961d54eabf6b1</td>\n",
       "      <td>angel</td>\n",
       "      <td>01-01-2007</td>\n",
       "      <td>NaN</td>\n",
       "    </tr>\n",
       "    <tr>\n",
       "      <td>114927</td>\n",
       "      <td>/organization/zypsee</td>\n",
       "      <td>/funding-round/c67e22c5448435adaf5a2d101e449dde</td>\n",
       "      <td>seed</td>\n",
       "      <td>26-07-2013</td>\n",
       "      <td>NaN</td>\n",
       "    </tr>\n",
       "    <tr>\n",
       "      <td>114946</td>\n",
       "      <td>/organization/ãeron</td>\n",
       "      <td>/funding-round/59f4dce44723b794f21ded3daed6e4fe</td>\n",
       "      <td>venture</td>\n",
       "      <td>01-08-2014</td>\n",
       "      <td>NaN</td>\n",
       "    </tr>\n",
       "  </tbody>\n",
       "</table>\n",
       "<p>19990 rows × 5 columns</p>\n",
       "</div>"
      ],
      "text/plain": [
       "                              company_permalink  \\\n",
       "1                        /organization/-qounter   \n",
       "5                /organization/004-technologies   \n",
       "14                              /organization/1   \n",
       "17                        /organization/1-4-all   \n",
       "18               /organization/1-618-technology   \n",
       "...                                         ...   \n",
       "114899                  /organization/zymr-inc-   \n",
       "114905  /organization/zynergy-projects-services   \n",
       "114913                      /organization/zynga   \n",
       "114927                     /organization/zypsee   \n",
       "114946                     /organization/ãeron   \n",
       "\n",
       "                                funding_round_permalink   funding_round_type  \\\n",
       "1       /funding-round/22dacff496eb7acb2b901dec1dfe5633              venture   \n",
       "5       /funding-round/1278dd4e6a37fa4b7d7e06c21b3c1830              venture   \n",
       "14      /funding-round/5de6d8828aef7d925d97918d15727670          undisclosed   \n",
       "17      /funding-round/e97a192e13ea0ee3c4f71136b4f3ec16  equity_crowdfunding   \n",
       "18      /funding-round/83b8f4c7d37ecef5e001a5e953bf461a  equity_crowdfunding   \n",
       "...                                                 ...                  ...   \n",
       "114899  /funding-round/9048d1a80edeae803ed1790c9f473eec                angel   \n",
       "114905  /funding-round/3d7dbd2d92220d93e2b5455f914a0918              venture   \n",
       "114913  /funding-round/d27f10a20b15b4ef3d9961d54eabf6b1                angel   \n",
       "114927  /funding-round/c67e22c5448435adaf5a2d101e449dde                 seed   \n",
       "114946  /funding-round/59f4dce44723b794f21ded3daed6e4fe              venture   \n",
       "\n",
       "         funded_at  raised_amount_usd  \n",
       "1       14-10-2014                NaN  \n",
       "5       24-07-2014                NaN  \n",
       "14      05-02-2013                NaN  \n",
       "17      21-04-2013                NaN  \n",
       "18      22-01-2014                NaN  \n",
       "...            ...                ...  \n",
       "114899  12-12-2012                NaN  \n",
       "114905  19-08-2015                NaN  \n",
       "114913  01-01-2007                NaN  \n",
       "114927  26-07-2013                NaN  \n",
       "114946  01-08-2014                NaN  \n",
       "\n",
       "[19990 rows x 5 columns]"
      ]
     },
     "execution_count": 8,
     "metadata": {},
     "output_type": "execute_result"
    }
   ],
   "source": [
    "rounds2[rounds2.isnull().sum(axis=1) > 0]"
   ]
  },
  {
   "cell_type": "code",
   "execution_count": 9,
   "metadata": {},
   "outputs": [
    {
     "data": {
      "text/plain": [
       "17.390320924931927"
      ]
     },
     "execution_count": 9,
     "metadata": {},
     "output_type": "execute_result"
    }
   ],
   "source": [
    "100*(len(rounds2[rounds2.isnull().sum(axis=1) > 0].index) / len(rounds2.index))"
   ]
  },
  {
   "cell_type": "markdown",
   "metadata": {},
   "source": [
    "Thus total 19990 i.e 17.3 % rows have of one missing value in raised_amount_used column."
   ]
  },
  {
   "cell_type": "code",
   "execution_count": 10,
   "metadata": {},
   "outputs": [
    {
     "data": {
      "text/plain": [
       "count    9.495900e+04\n",
       "mean     1.042687e+07\n",
       "std      1.148212e+08\n",
       "min      0.000000e+00\n",
       "25%      3.225000e+05\n",
       "50%      1.680511e+06\n",
       "75%      7.000000e+06\n",
       "max      2.127194e+10\n",
       "Name: raised_amount_usd, dtype: float64"
      ]
     },
     "execution_count": 10,
     "metadata": {},
     "output_type": "execute_result"
    }
   ],
   "source": [
    "rounds2['raised_amount_usd'].describe()"
   ]
  },
  {
   "cell_type": "markdown",
   "metadata": {},
   "source": [
    "50% percentile is almost 10  folds less than mean. Also ,there's a significant variation in the 25th and the 75th percentile.\n",
    "\n",
    "Thus, imputing this with mean/median seems quite biased, and so we should remove the NaNs.\n",
    "\n"
   ]
  },
  {
   "cell_type": "code",
   "execution_count": 11,
   "metadata": {},
   "outputs": [],
   "source": [
    "import numpy as np\n",
    "rounds2 = rounds2[~np.isnan(rounds2['raised_amount_usd'])]"
   ]
  },
  {
   "cell_type": "code",
   "execution_count": 12,
   "metadata": {},
   "outputs": [
    {
     "data": {
      "text/plain": [
       "0.0"
      ]
     },
     "execution_count": 12,
     "metadata": {},
     "output_type": "execute_result"
    }
   ],
   "source": [
    "100*(len(rounds2[rounds2.isnull().sum(axis=1) > 0].index) / len(rounds2.index))"
   ]
  },
  {
   "cell_type": "code",
   "execution_count": 13,
   "metadata": {},
   "outputs": [],
   "source": [
    "#print(rounds2.tail())"
   ]
  },
  {
   "cell_type": "markdown",
   "metadata": {},
   "source": [
    "-----------------------------------------------------------------------"
   ]
  },
  {
   "cell_type": "markdown",
   "metadata": {},
   "source": [
    "### Reading Data and Analysis of Companies data.\n"
   ]
  },
  {
   "cell_type": "code",
   "execution_count": 14,
   "metadata": {},
   "outputs": [
    {
     "name": "stdout",
     "output_type": "stream",
     "text": [
      "The number of rows and columns\n",
      "<class 'pandas.core.frame.DataFrame'>\n",
      "RangeIndex: 66368 entries, 0 to 66367\n",
      "Data columns (total 10 columns):\n",
      "permalink        66368 non-null object\n",
      "name             66367 non-null object\n",
      "homepage_url     61310 non-null object\n",
      "category_list    63220 non-null object\n",
      "status           66368 non-null object\n",
      "country_code     59410 non-null object\n",
      "state_code       57821 non-null object\n",
      "region           58338 non-null object\n",
      "city             58340 non-null object\n",
      "founded_at       51147 non-null object\n",
      "dtypes: object(10)\n",
      "memory usage: 5.1+ MB\n",
      "                             permalink                    name  \\\n",
      "0                  /Organization/-Fame                   #fame   \n",
      "1               /Organization/-Qounter                :Qounter   \n",
      "2  /Organization/-The-One-Of-Them-Inc-  (THE) ONE of THEM,Inc.   \n",
      "3                /Organization/0-6-Com                 0-6.com   \n",
      "4       /Organization/004-Technologies        004 Technologies   \n",
      "\n",
      "                        homepage_url  \\\n",
      "0                 http://livfame.com   \n",
      "1             http://www.qounter.com   \n",
      "2                http://oneofthem.jp   \n",
      "3                 http://www.0-6.com   \n",
      "4  http://004gmbh.de/en/004-interact   \n",
      "\n",
      "                                       category_list     status country_code  \\\n",
      "0                                              Media  operating          IND   \n",
      "1  Application Platforms|Real Time|Social Network...  operating          USA   \n",
      "2                                  Apps|Games|Mobile  operating          NaN   \n",
      "3                                        Curated Web  operating          CHN   \n",
      "4                                           Software  operating          USA   \n",
      "\n",
      "  state_code                 region           city  founded_at  \n",
      "0         16                 Mumbai         Mumbai         NaN  \n",
      "1         DE             DE - Other  Delaware City  04-09-2014  \n",
      "2        NaN                    NaN            NaN         NaN  \n",
      "3         22                Beijing        Beijing  01-01-2007  \n",
      "4         IL  Springfield, Illinois      Champaign  01-01-2010  \n"
     ]
    }
   ],
   "source": [
    "import numpy as np\n",
    "import pandas as pd\n",
    "\n",
    "companies= pd.read_csv(\"companies.txt\", sep=\"\\t\", encoding = \"ISO-8859-1\")\n",
    "# The number of rows and columns in company database:\n",
    "print('The number of rows and columns')\n",
    "companies.shape\n",
    "companies.info()\n",
    "print(companies.head())\n",
    "#print(companies.tail())\n"
   ]
  },
  {
   "cell_type": "markdown",
   "metadata": {},
   "source": [
    "Now we will be deleting Duplicates."
   ]
  },
  {
   "cell_type": "code",
   "execution_count": 15,
   "metadata": {},
   "outputs": [
    {
     "name": "stdout",
     "output_type": "stream",
     "text": [
      "(66368, 10)\n"
     ]
    }
   ],
   "source": [
    "companies['permalink'] = companies['permalink'].str.lower()\n",
    "companies = companies.drop_duplicates(subset='permalink',inplace=False)\n",
    "print(companies.shape)"
   ]
  },
  {
   "cell_type": "code",
   "execution_count": 16,
   "metadata": {},
   "outputs": [
    {
     "name": "stdout",
     "output_type": "stream",
     "text": [
      "(66368, 10)\n"
     ]
    }
   ],
   "source": [
    "#companies = pd.DataFrame(companies)\n",
    "companies= pd.read_csv(\"companies.txt\", sep=\"\\t\", encoding = \"ISO-8859-1\")\n",
    "companies['permalink'] = companies['permalink'].str.lower()\n",
    "print(companies.shape)"
   ]
  },
  {
   "cell_type": "markdown",
   "metadata": {},
   "source": [
    "Thus number of unique company values in campany table is 2 less than that of rounds2 data."
   ]
  },
  {
   "cell_type": "markdown",
   "metadata": {},
   "source": [
    "### Treating Missing Values:"
   ]
  },
  {
   "cell_type": "code",
   "execution_count": 17,
   "metadata": {},
   "outputs": [
    {
     "name": "stdout",
     "output_type": "stream",
     "text": [
      "(66368, 10)\n"
     ]
    },
    {
     "data": {
      "text/plain": [
       "permalink         0.00\n",
       "name              0.00\n",
       "homepage_url      7.62\n",
       "category_list     4.74\n",
       "status            0.00\n",
       "country_code     10.48\n",
       "state_code       12.88\n",
       "region           12.10\n",
       "city             12.10\n",
       "founded_at       22.93\n",
       "dtype: float64"
      ]
     },
     "execution_count": 17,
     "metadata": {},
     "output_type": "execute_result"
    }
   ],
   "source": [
    "# summing up the missing values (column-wise)\n",
    "print(companies.shape)\n",
    "#rounds2.isnull().sum()\n",
    "round(100*(companies.isnull().sum()/len(companies.index)), 2)"
   ]
  },
  {
   "cell_type": "markdown",
   "metadata": {},
   "source": [
    "Hence no column has more than 23% missing values. So now we'll analyse missing values of rows."
   ]
  },
  {
   "cell_type": "code",
   "execution_count": 18,
   "metadata": {},
   "outputs": [
    {
     "data": {
      "text/plain": [
       "0"
      ]
     },
     "execution_count": 18,
     "metadata": {},
     "output_type": "execute_result"
    }
   ],
   "source": [
    "# sum it up to check how many rows have all missing values\n",
    "companies.isnull().all(axis=1).sum()"
   ]
  },
  {
   "cell_type": "code",
   "execution_count": 19,
   "metadata": {},
   "outputs": [
    {
     "data": {
      "text/plain": [
       "0.0"
      ]
     },
     "execution_count": 19,
     "metadata": {},
     "output_type": "execute_result"
    }
   ],
   "source": [
    "# Percentage of more than 5 values missing in any row.\n",
    "100*(len(companies[companies.isnull().sum(axis=1) > 7].index) / len(companies.index)) # gives null rows \n"
   ]
  },
  {
   "cell_type": "code",
   "execution_count": 20,
   "metadata": {},
   "outputs": [
    {
     "data": {
      "text/plain": [
       "6.023987463837995"
      ]
     },
     "execution_count": 20,
     "metadata": {},
     "output_type": "execute_result"
    }
   ],
   "source": [
    "100*(len(companies[companies.isnull().sum(axis=1) > 4].index) / len(companies.index)) # gives null rows "
   ]
  },
  {
   "cell_type": "markdown",
   "metadata": {},
   "source": [
    "Hence 6% rows have 5 or more than 5 values missing. So, these rows can be dropped."
   ]
  },
  {
   "cell_type": "code",
   "execution_count": 21,
   "metadata": {},
   "outputs": [],
   "source": [
    "companies = companies[companies.isnull().sum(axis=1) <= 4]"
   ]
  },
  {
   "cell_type": "code",
   "execution_count": 22,
   "metadata": {},
   "outputs": [
    {
     "data": {
      "text/plain": [
       "permalink         0.00\n",
       "name              0.00\n",
       "homepage_url      5.80\n",
       "category_list     2.54\n",
       "status            0.00\n",
       "country_code      4.82\n",
       "state_code        7.29\n",
       "region            6.46\n",
       "city              6.46\n",
       "founded_at       19.12\n",
       "dtype: float64"
      ]
     },
     "execution_count": 22,
     "metadata": {},
     "output_type": "execute_result"
    }
   ],
   "source": [
    "round(100*(companies.isnull().sum()/len(companies.index)), 2)"
   ]
  },
  {
   "cell_type": "code",
   "execution_count": 23,
   "metadata": {},
   "outputs": [
    {
     "data": {
      "text/plain": [
       "count          50442\n",
       "unique          3943\n",
       "top       01-01-2012\n",
       "freq            2709\n",
       "Name: founded_at, dtype: object"
      ]
     },
     "execution_count": 23,
     "metadata": {},
     "output_type": "execute_result"
    }
   ],
   "source": [
    "companies['founded_at'].describe()\n",
    "#companies['founded_at'].nunique()"
   ]
  },
  {
   "cell_type": "markdown",
   "metadata": {},
   "source": [
    "Date can be computed with top date as frequency of top date is very high and number of unique dates are also very less."
   ]
  },
  {
   "cell_type": "code",
   "execution_count": 24,
   "metadata": {},
   "outputs": [],
   "source": [
    "companies.loc[pd.isnull(companies['founded_at']), ['founded_at']] =  '01-01-2012'"
   ]
  },
  {
   "cell_type": "code",
   "execution_count": 25,
   "metadata": {},
   "outputs": [
    {
     "data": {
      "text/plain": [
       "permalink        0.00\n",
       "name             0.00\n",
       "homepage_url     5.80\n",
       "category_list    2.54\n",
       "status           0.00\n",
       "country_code     4.82\n",
       "state_code       7.29\n",
       "region           6.46\n",
       "city             6.46\n",
       "founded_at       0.00\n",
       "dtype: float64"
      ]
     },
     "execution_count": 25,
     "metadata": {},
     "output_type": "execute_result"
    }
   ],
   "source": [
    "round(100*(companies.isnull().sum()/len(companies.index)), 2)"
   ]
  },
  {
   "cell_type": "markdown",
   "metadata": {},
   "source": [
    "As country code is missing in some rows and it is important factor to determine english speaking country, we can drop these missing rows."
   ]
  },
  {
   "cell_type": "code",
   "execution_count": 26,
   "metadata": {},
   "outputs": [
    {
     "data": {
      "text/plain": [
       "permalink        0.00\n",
       "name             0.00\n",
       "homepage_url     6.09\n",
       "category_list    2.67\n",
       "status           0.00\n",
       "country_code     0.00\n",
       "state_code       2.60\n",
       "region           1.73\n",
       "city             1.73\n",
       "founded_at       0.00\n",
       "dtype: float64"
      ]
     },
     "execution_count": 26,
     "metadata": {},
     "output_type": "execute_result"
    }
   ],
   "source": [
    "companies = companies[pd.notnull(companies['country_code'])]\n",
    "round(100*(companies.isnull().sum()/len(companies.index)), 2)"
   ]
  },
  {
   "cell_type": "code",
   "execution_count": 27,
   "metadata": {},
   "outputs": [
    {
     "data": {
      "text/plain": [
       "permalink        0.00\n",
       "name             0.00\n",
       "homepage_url     5.73\n",
       "category_list    0.00\n",
       "status           0.00\n",
       "country_code     0.00\n",
       "state_code       2.62\n",
       "region           1.76\n",
       "city             1.75\n",
       "founded_at       0.00\n",
       "dtype: float64"
      ]
     },
     "execution_count": 27,
     "metadata": {},
     "output_type": "execute_result"
    }
   ],
   "source": [
    "companies = companies[pd.notnull(companies['category_list'])]\n",
    "round(100*(companies.isnull().sum()/len(companies.index)), 2)"
   ]
  },
  {
   "cell_type": "code",
   "execution_count": 28,
   "metadata": {},
   "outputs": [
    {
     "data": {
      "text/plain": [
       "permalink        0.00\n",
       "name             0.00\n",
       "homepage_url     5.73\n",
       "category_list    0.00\n",
       "status           0.00\n",
       "country_code     0.00\n",
       "state_code       2.62\n",
       "region           1.76\n",
       "city             1.75\n",
       "founded_at       0.00\n",
       "dtype: float64"
      ]
     },
     "execution_count": 28,
     "metadata": {},
     "output_type": "execute_result"
    }
   ],
   "source": [
    "round(100*(companies.isnull().sum()/len(companies.index)), 2)"
   ]
  },
  {
   "cell_type": "markdown",
   "metadata": {},
   "source": [
    "homepage url should not be same for two companies. So it's better to drop this column as permalink which is unique for any company is not repetitive."
   ]
  },
  {
   "cell_type": "code",
   "execution_count": 29,
   "metadata": {},
   "outputs": [
    {
     "data": {
      "text/plain": [
       "permalink        0.00\n",
       "name             0.00\n",
       "homepage_url     0.00\n",
       "category_list    0.00\n",
       "status           0.00\n",
       "country_code     0.00\n",
       "state_code       2.67\n",
       "region           1.79\n",
       "city             1.78\n",
       "founded_at       0.00\n",
       "dtype: float64"
      ]
     },
     "execution_count": 29,
     "metadata": {},
     "output_type": "execute_result"
    }
   ],
   "source": [
    "companies = companies[pd.notnull(companies['homepage_url'])]\n",
    "round(100*(companies.isnull().sum()/len(companies.index)), 2)"
   ]
  },
  {
   "cell_type": "code",
   "execution_count": 30,
   "metadata": {},
   "outputs": [
    {
     "data": {
      "text/plain": [
       "count     53012\n",
       "unique      307\n",
       "top          CA\n",
       "freq      11978\n",
       "Name: state_code, dtype: object"
      ]
     },
     "execution_count": 30,
     "metadata": {},
     "output_type": "execute_result"
    }
   ],
   "source": [
    "companies['state_code'].describe()"
   ]
  },
  {
   "cell_type": "code",
   "execution_count": 31,
   "metadata": {},
   "outputs": [
    {
     "data": {
      "text/html": [
       "<div>\n",
       "<style scoped>\n",
       "    .dataframe tbody tr th:only-of-type {\n",
       "        vertical-align: middle;\n",
       "    }\n",
       "\n",
       "    .dataframe tbody tr th {\n",
       "        vertical-align: top;\n",
       "    }\n",
       "\n",
       "    .dataframe thead th {\n",
       "        text-align: right;\n",
       "    }\n",
       "</style>\n",
       "<table border=\"1\" class=\"dataframe\">\n",
       "  <thead>\n",
       "    <tr style=\"text-align: right;\">\n",
       "      <th></th>\n",
       "      <th>permalink</th>\n",
       "      <th>name</th>\n",
       "      <th>homepage_url</th>\n",
       "      <th>category_list</th>\n",
       "      <th>status</th>\n",
       "      <th>country_code</th>\n",
       "      <th>state_code</th>\n",
       "      <th>region</th>\n",
       "      <th>city</th>\n",
       "      <th>founded_at</th>\n",
       "    </tr>\n",
       "  </thead>\n",
       "  <tbody>\n",
       "    <tr>\n",
       "      <td>66</td>\n",
       "      <td>/organization/139shop</td>\n",
       "      <td>139shop</td>\n",
       "      <td>http://www.139shop.com</td>\n",
       "      <td>E-Commerce</td>\n",
       "      <td>operating</td>\n",
       "      <td>CHN</td>\n",
       "      <td>NaN</td>\n",
       "      <td>NaN</td>\n",
       "      <td>NaN</td>\n",
       "      <td>01-01-2012</td>\n",
       "    </tr>\n",
       "    <tr>\n",
       "      <td>96</td>\n",
       "      <td>/organization/1d4-pty</td>\n",
       "      <td>1d4 Pty</td>\n",
       "      <td>http://www.immortaloutdoors.com</td>\n",
       "      <td>Geospatial|Maps|Outdoors</td>\n",
       "      <td>operating</td>\n",
       "      <td>NOR</td>\n",
       "      <td>2</td>\n",
       "      <td>NaN</td>\n",
       "      <td>NaN</td>\n",
       "      <td>01-01-2012</td>\n",
       "    </tr>\n",
       "    <tr>\n",
       "      <td>163</td>\n",
       "      <td>/organization/24tidy</td>\n",
       "      <td>24tidy</td>\n",
       "      <td>http://24tidy.com</td>\n",
       "      <td>Services</td>\n",
       "      <td>operating</td>\n",
       "      <td>CHN</td>\n",
       "      <td>NaN</td>\n",
       "      <td>NaN</td>\n",
       "      <td>NaN</td>\n",
       "      <td>01-01-2012</td>\n",
       "    </tr>\n",
       "    <tr>\n",
       "      <td>174</td>\n",
       "      <td>/organization/2c2p</td>\n",
       "      <td>2C2P</td>\n",
       "      <td>http://www.2c2p.com</td>\n",
       "      <td>E-Commerce|Mobile Commerce|Payments|Software</td>\n",
       "      <td>operating</td>\n",
       "      <td>SGP</td>\n",
       "      <td>NaN</td>\n",
       "      <td>NaN</td>\n",
       "      <td>NaN</td>\n",
       "      <td>01-01-2003</td>\n",
       "    </tr>\n",
       "    <tr>\n",
       "      <td>228</td>\n",
       "      <td>/organization/360shop</td>\n",
       "      <td>360SHOP</td>\n",
       "      <td>http://www.360shop.com.cn</td>\n",
       "      <td>Enterprise Software</td>\n",
       "      <td>operating</td>\n",
       "      <td>CHN</td>\n",
       "      <td>NaN</td>\n",
       "      <td>NaN</td>\n",
       "      <td>NaN</td>\n",
       "      <td>01-01-2012</td>\n",
       "    </tr>\n",
       "    <tr>\n",
       "      <td>...</td>\n",
       "      <td>...</td>\n",
       "      <td>...</td>\n",
       "      <td>...</td>\n",
       "      <td>...</td>\n",
       "      <td>...</td>\n",
       "      <td>...</td>\n",
       "      <td>...</td>\n",
       "      <td>...</td>\n",
       "      <td>...</td>\n",
       "      <td>...</td>\n",
       "    </tr>\n",
       "    <tr>\n",
       "      <td>65941</td>\n",
       "      <td>/organization/zhijiang-jonway-automobile</td>\n",
       "      <td>Zhijiang Jonway Automobile</td>\n",
       "      <td>http://www.jonwayauto.com</td>\n",
       "      <td>Automotive</td>\n",
       "      <td>acquired</td>\n",
       "      <td>CHN</td>\n",
       "      <td>2</td>\n",
       "      <td>NaN</td>\n",
       "      <td>NaN</td>\n",
       "      <td>01-01-2012</td>\n",
       "    </tr>\n",
       "    <tr>\n",
       "      <td>65944</td>\n",
       "      <td>/organization/zhitu</td>\n",
       "      <td>Zhitu</td>\n",
       "      <td>http://www.imzhitu.com</td>\n",
       "      <td>Photography</td>\n",
       "      <td>operating</td>\n",
       "      <td>CHN</td>\n",
       "      <td>NaN</td>\n",
       "      <td>NaN</td>\n",
       "      <td>NaN</td>\n",
       "      <td>01-01-2012</td>\n",
       "    </tr>\n",
       "    <tr>\n",
       "      <td>65957</td>\n",
       "      <td>/organization/zhui-xin</td>\n",
       "      <td>Zhui Xin</td>\n",
       "      <td>http://zhui.cn</td>\n",
       "      <td>Software</td>\n",
       "      <td>operating</td>\n",
       "      <td>CHN</td>\n",
       "      <td>NaN</td>\n",
       "      <td>NaN</td>\n",
       "      <td>NaN</td>\n",
       "      <td>01-01-2012</td>\n",
       "    </tr>\n",
       "    <tr>\n",
       "      <td>66264</td>\n",
       "      <td>/organization/zubka</td>\n",
       "      <td>Zubka</td>\n",
       "      <td>http://www.zubka.com</td>\n",
       "      <td>Consulting</td>\n",
       "      <td>closed</td>\n",
       "      <td>GBR</td>\n",
       "      <td>B9</td>\n",
       "      <td>NaN</td>\n",
       "      <td>NaN</td>\n",
       "      <td>01-01-2006</td>\n",
       "    </tr>\n",
       "    <tr>\n",
       "      <td>66306</td>\n",
       "      <td>/organization/zurn-international-e-commerce-co...</td>\n",
       "      <td>Zurn</td>\n",
       "      <td>http://www.zurn.com</td>\n",
       "      <td>Social Media</td>\n",
       "      <td>operating</td>\n",
       "      <td>CHN</td>\n",
       "      <td>NaN</td>\n",
       "      <td>NaN</td>\n",
       "      <td>NaN</td>\n",
       "      <td>01-01-2013</td>\n",
       "    </tr>\n",
       "  </tbody>\n",
       "</table>\n",
       "<p>971 rows × 10 columns</p>\n",
       "</div>"
      ],
      "text/plain": [
       "                                               permalink  \\\n",
       "66                                 /organization/139shop   \n",
       "96                                 /organization/1d4-pty   \n",
       "163                                 /organization/24tidy   \n",
       "174                                   /organization/2c2p   \n",
       "228                                /organization/360shop   \n",
       "...                                                  ...   \n",
       "65941           /organization/zhijiang-jonway-automobile   \n",
       "65944                                /organization/zhitu   \n",
       "65957                             /organization/zhui-xin   \n",
       "66264                                /organization/zubka   \n",
       "66306  /organization/zurn-international-e-commerce-co...   \n",
       "\n",
       "                             name                     homepage_url  \\\n",
       "66                        139shop           http://www.139shop.com   \n",
       "96                        1d4 Pty  http://www.immortaloutdoors.com   \n",
       "163                        24tidy                http://24tidy.com   \n",
       "174                          2C2P              http://www.2c2p.com   \n",
       "228                       360SHOP        http://www.360shop.com.cn   \n",
       "...                           ...                              ...   \n",
       "65941  Zhijiang Jonway Automobile        http://www.jonwayauto.com   \n",
       "65944                       Zhitu           http://www.imzhitu.com   \n",
       "65957                    Zhui Xin                   http://zhui.cn   \n",
       "66264                       Zubka             http://www.zubka.com   \n",
       "66306                        Zurn              http://www.zurn.com   \n",
       "\n",
       "                                      category_list     status country_code  \\\n",
       "66                                       E-Commerce  operating          CHN   \n",
       "96                         Geospatial|Maps|Outdoors  operating          NOR   \n",
       "163                                        Services  operating          CHN   \n",
       "174    E-Commerce|Mobile Commerce|Payments|Software  operating          SGP   \n",
       "228                             Enterprise Software  operating          CHN   \n",
       "...                                             ...        ...          ...   \n",
       "65941                                    Automotive   acquired          CHN   \n",
       "65944                                   Photography  operating          CHN   \n",
       "65957                                      Software  operating          CHN   \n",
       "66264                                    Consulting     closed          GBR   \n",
       "66306                                  Social Media  operating          CHN   \n",
       "\n",
       "      state_code region city  founded_at  \n",
       "66           NaN    NaN  NaN  01-01-2012  \n",
       "96             2    NaN  NaN  01-01-2012  \n",
       "163          NaN    NaN  NaN  01-01-2012  \n",
       "174          NaN    NaN  NaN  01-01-2003  \n",
       "228          NaN    NaN  NaN  01-01-2012  \n",
       "...          ...    ...  ...         ...  \n",
       "65941          2    NaN  NaN  01-01-2012  \n",
       "65944        NaN    NaN  NaN  01-01-2012  \n",
       "65957        NaN    NaN  NaN  01-01-2012  \n",
       "66264         B9    NaN  NaN  01-01-2006  \n",
       "66306        NaN    NaN  NaN  01-01-2013  \n",
       "\n",
       "[971 rows x 10 columns]"
      ]
     },
     "execution_count": 31,
     "metadata": {},
     "output_type": "execute_result"
    }
   ],
   "source": [
    "companies[pd.isnull(companies['city'])]"
   ]
  },
  {
   "cell_type": "markdown",
   "metadata": {},
   "source": [
    "As we can see in above results, Mostly cities are null for null regions. So let's drop them as well."
   ]
  },
  {
   "cell_type": "code",
   "execution_count": 32,
   "metadata": {},
   "outputs": [
    {
     "data": {
      "text/plain": [
       "permalink        0.0\n",
       "name             0.0\n",
       "homepage_url     0.0\n",
       "category_list    0.0\n",
       "status           0.0\n",
       "country_code     0.0\n",
       "state_code       0.0\n",
       "region           0.0\n",
       "city             0.0\n",
       "founded_at       0.0\n",
       "dtype: float64"
      ]
     },
     "execution_count": 32,
     "metadata": {},
     "output_type": "execute_result"
    }
   ],
   "source": [
    "companies = companies[pd.notnull(companies['region'])]\n",
    "companies = companies[pd.notnull(companies['state_code'])]\n",
    "round(100*(companies.isnull().sum()/len(companies.index)), 2)"
   ]
  },
  {
   "cell_type": "code",
   "execution_count": 33,
   "metadata": {},
   "outputs": [
    {
     "data": {
      "text/html": [
       "<div>\n",
       "<style scoped>\n",
       "    .dataframe tbody tr th:only-of-type {\n",
       "        vertical-align: middle;\n",
       "    }\n",
       "\n",
       "    .dataframe tbody tr th {\n",
       "        vertical-align: top;\n",
       "    }\n",
       "\n",
       "    .dataframe thead th {\n",
       "        text-align: right;\n",
       "    }\n",
       "</style>\n",
       "<table border=\"1\" class=\"dataframe\">\n",
       "  <thead>\n",
       "    <tr style=\"text-align: right;\">\n",
       "      <th></th>\n",
       "      <th>permalink</th>\n",
       "      <th>name</th>\n",
       "      <th>homepage_url</th>\n",
       "      <th>category_list</th>\n",
       "      <th>status</th>\n",
       "      <th>country_code</th>\n",
       "      <th>state_code</th>\n",
       "      <th>region</th>\n",
       "      <th>city</th>\n",
       "      <th>founded_at</th>\n",
       "    </tr>\n",
       "  </thead>\n",
       "  <tbody>\n",
       "  </tbody>\n",
       "</table>\n",
       "</div>"
      ],
      "text/plain": [
       "Empty DataFrame\n",
       "Columns: [permalink, name, homepage_url, category_list, status, country_code, state_code, region, city, founded_at]\n",
       "Index: []"
      ]
     },
     "execution_count": 33,
     "metadata": {},
     "output_type": "execute_result"
    }
   ],
   "source": [
    "companies[pd.isnull(companies['city'])]"
   ]
  },
  {
   "cell_type": "code",
   "execution_count": 34,
   "metadata": {},
   "outputs": [],
   "source": [
    "companies['country_code'] = companies['country_code'].astype('category')\n",
    "\n",
    "# displaying frequencies of each category\n",
    "#companies['country_code'].value_counts()"
   ]
  },
  {
   "cell_type": "code",
   "execution_count": 35,
   "metadata": {},
   "outputs": [
    {
     "name": "stdout",
     "output_type": "stream",
     "text": [
      "0                                      /organization/-fame\n",
      "1                                   /organization/-qounter\n",
      "3                                    /organization/0-6-com\n",
      "4                           /organization/004-technologies\n",
      "6                      /organization/0ndine-biomedical-inc\n",
      "                               ...                        \n",
      "66361                             /organization/zytoprotec\n",
      "66362                                  /organization/zzish\n",
      "66363    /organization/zznode-science-and-technology-co...\n",
      "66364                            /organization/zzzzapp-com\n",
      "66366                               /organization/ãasys-2\n",
      "Name: permalink, Length: 52740, dtype: object\n",
      "52740\n"
     ]
    }
   ],
   "source": [
    "\n",
    "print(companies['permalink'])\n",
    "print(companies.permalink.nunique())"
   ]
  },
  {
   "cell_type": "markdown",
   "metadata": {},
   "source": [
    "### Merging Rounds and companies data frame."
   ]
  },
  {
   "cell_type": "markdown",
   "metadata": {},
   "source": [
    "As per TA's explanation and my observation,we should not delete duplicates from both the tables and consider all the values from both the tables(rounds2 and companies) except missing values  as there are multiple entries of  same company which has received funds by different funding types in rounds2. If we consider only unique permalink then we might loose few funding types entries for same company.An outer join of A and B gives the results of A union B, i.e. the outer parts of a Venn diagram union.So we'll use outer join to avoid missing any company value."
   ]
  },
  {
   "cell_type": "code",
   "execution_count": 36,
   "metadata": {},
   "outputs": [
    {
     "name": "stdout",
     "output_type": "stream",
     "text": [
      "                                  permalink                    name  \\\n",
      "0                       /organization/-fame                   #fame   \n",
      "1                    /organization/-qounter                :Qounter   \n",
      "2                     /organization/0-6-com                 0-6.com   \n",
      "3            /organization/004-technologies        004 Technologies   \n",
      "4       /organization/0ndine-biomedical-inc  Ondine Biomedical Inc.   \n",
      "...                                     ...                     ...   \n",
      "102837                                  NaN                     NaN   \n",
      "102838                                  NaN                     NaN   \n",
      "102839                                  NaN                     NaN   \n",
      "102840                                  NaN                     NaN   \n",
      "102841                                  NaN                     NaN   \n",
      "\n",
      "                             homepage_url  \\\n",
      "0                      http://livfame.com   \n",
      "1                  http://www.qounter.com   \n",
      "2                      http://www.0-6.com   \n",
      "3       http://004gmbh.de/en/004-interact   \n",
      "4                    http://ondinebio.com   \n",
      "...                                   ...   \n",
      "102837                                NaN   \n",
      "102838                                NaN   \n",
      "102839                                NaN   \n",
      "102840                                NaN   \n",
      "102841                                NaN   \n",
      "\n",
      "                                            category_list     status  \\\n",
      "0                                                   Media  operating   \n",
      "1       Application Platforms|Real Time|Social Network...  operating   \n",
      "2                                             Curated Web  operating   \n",
      "3                                                Software  operating   \n",
      "4                                           Biotechnology  operating   \n",
      "...                                                   ...        ...   \n",
      "102837                                                NaN        NaN   \n",
      "102838                                                NaN        NaN   \n",
      "102839                                                NaN        NaN   \n",
      "102840                                                NaN        NaN   \n",
      "102841                                                NaN        NaN   \n",
      "\n",
      "       country_code state_code                 region           city  \\\n",
      "0               IND         16                 Mumbai         Mumbai   \n",
      "1               USA         DE             DE - Other  Delaware City   \n",
      "2               CHN         22                Beijing        Beijing   \n",
      "3               USA         IL  Springfield, Illinois      Champaign   \n",
      "4               CAN         BC              Vancouver      Vancouver   \n",
      "...             ...        ...                    ...            ...   \n",
      "102837          NaN        NaN                    NaN            NaN   \n",
      "102838          NaN        NaN                    NaN            NaN   \n",
      "102839          NaN        NaN                    NaN            NaN   \n",
      "102840          NaN        NaN                    NaN            NaN   \n",
      "102841          NaN        NaN                    NaN            NaN   \n",
      "\n",
      "        founded_at                                  company_permalink  \\\n",
      "0       01-01-2012                                /organization/-fame   \n",
      "1       04-09-2014                             /organization/-qounter   \n",
      "2       01-01-2007                              /organization/0-6-com   \n",
      "3       01-01-2010                                                NaN   \n",
      "4       01-01-1997                /organization/0ndine-biomedical-inc   \n",
      "...            ...                                                ...   \n",
      "102837         NaN                              /organization/zuumtel   \n",
      "102838         NaN                              /organization/zuumtel   \n",
      "102839         NaN                                /organization/zwamy   \n",
      "102840         NaN      /organization/zwayo-\"on-demand-valet-parking\"   \n",
      "102841         NaN  /organization/ä°novatiff-reklam-ve-tanä±tä±m-h...   \n",
      "\n",
      "                                funding_round_permalink funding_round_type  \\\n",
      "0       /funding-round/9a01d05418af9f794eebff7ace91f638            venture   \n",
      "1       /funding-round/b44fbb94153f6cdef13083530bb48030               seed   \n",
      "2       /funding-round/5727accaeaa57461bd22a9bdd945382d            venture   \n",
      "3                                                   NaN                NaN   \n",
      "4       /funding-round/2b9d3ac293d5cdccbecff5c8cb0f327d               seed   \n",
      "...                                                 ...                ...   \n",
      "102837  /funding-round/785ed8667f9d950257f94089050d6eb0              angel   \n",
      "102838  /funding-round/d5d97d7c8a5e923715b15495d44e7cb8               seed   \n",
      "102839  /funding-round/60491a4268d65adccab2653b47031af7     debt_financing   \n",
      "102840  /funding-round/eb5163bb6feea4384121e27699bb7b25               seed   \n",
      "102841  /funding-round/af942869878d2cd788ef5189b435ebc4              grant   \n",
      "\n",
      "         funded_at  raised_amount_usd  \n",
      "0       05-01-2015         10000000.0  \n",
      "1       01-03-2014           700000.0  \n",
      "2       19-03-2008          2000000.0  \n",
      "3              NaN                NaN  \n",
      "4       11-09-2009            43360.0  \n",
      "...            ...                ...  \n",
      "102837  16-09-2014           200000.0  \n",
      "102838  01-04-2013           100000.0  \n",
      "102839  02-04-2014           387794.0  \n",
      "102840  01-09-2014            60000.0  \n",
      "102841  01-10-2013            14851.0  \n",
      "\n",
      "[102842 rows x 15 columns]\n"
     ]
    }
   ],
   "source": [
    "master_frame=pd.merge(companies, rounds2, how = \"outer\", left_on = \"permalink\", right_on = \"company_permalink\")\n",
    "\n",
    "print(master_frame)"
   ]
  },
  {
   "cell_type": "markdown",
   "metadata": {},
   "source": [
    "### Cleaning Data of  master_frame:"
   ]
  },
  {
   "cell_type": "code",
   "execution_count": 37,
   "metadata": {},
   "outputs": [
    {
     "data": {
      "text/plain": [
       "permalink                  11.35\n",
       "name                       11.36\n",
       "homepage_url               11.35\n",
       "category_list              11.35\n",
       "status                     11.35\n",
       "country_code               11.35\n",
       "state_code                 11.35\n",
       "region                     11.35\n",
       "city                       11.35\n",
       "founded_at                 11.35\n",
       "company_permalink           7.67\n",
       "funding_round_permalink     7.67\n",
       "funding_round_type          7.67\n",
       "funded_at                   7.67\n",
       "raised_amount_usd           7.67\n",
       "dtype: float64"
      ]
     },
     "execution_count": 37,
     "metadata": {},
     "output_type": "execute_result"
    }
   ],
   "source": [
    "round(100*(master_frame.isnull().sum()/len(master_frame.index)), 2)"
   ]
  },
  {
   "cell_type": "markdown",
   "metadata": {},
   "source": [
    "funding_round_code column has to removed as number of missing values are really huge.raised_amount_usd column and permalink columns also need to be deleted as these are important column and imputation is not possible."
   ]
  },
  {
   "cell_type": "raw",
   "metadata": {},
   "source": [
    "import numpy as np\n",
    "import pandas as pd\n",
    "master_frame = master_frame.drop('funding_round_code',axis=1)\n",
    "#master_frame = master_frame.drop('raised_amount_usd', axis=1)\n",
    "#master_frame = master_frame.drop('permalink', axis=1)"
   ]
  },
  {
   "cell_type": "code",
   "execution_count": 38,
   "metadata": {},
   "outputs": [
    {
     "data": {
      "text/plain": [
       "permalink                  0.00\n",
       "name                       0.00\n",
       "homepage_url               0.00\n",
       "category_list              0.00\n",
       "status                     0.00\n",
       "country_code               0.00\n",
       "state_code                 0.00\n",
       "region                     0.00\n",
       "city                       0.00\n",
       "founded_at                 0.00\n",
       "company_permalink          8.65\n",
       "funding_round_permalink    8.65\n",
       "funding_round_type         8.65\n",
       "funded_at                  8.65\n",
       "raised_amount_usd          8.65\n",
       "dtype: float64"
      ]
     },
     "execution_count": 38,
     "metadata": {},
     "output_type": "execute_result"
    }
   ],
   "source": [
    "import numpy as np\n",
    "import pandas as pd\n",
    "master_frame = master_frame[pd.notnull(master_frame['permalink'])]\n",
    "round(100*(master_frame.isnull().sum()/len(master_frame.index)), 2)"
   ]
  },
  {
   "cell_type": "code",
   "execution_count": 39,
   "metadata": {},
   "outputs": [
    {
     "data": {
      "text/plain": [
       "permalink                  0.0\n",
       "name                       0.0\n",
       "homepage_url               0.0\n",
       "category_list              0.0\n",
       "status                     0.0\n",
       "country_code               0.0\n",
       "state_code                 0.0\n",
       "region                     0.0\n",
       "city                       0.0\n",
       "founded_at                 0.0\n",
       "company_permalink          0.0\n",
       "funding_round_permalink    0.0\n",
       "funding_round_type         0.0\n",
       "funded_at                  0.0\n",
       "raised_amount_usd          0.0\n",
       "dtype: float64"
      ]
     },
     "execution_count": 39,
     "metadata": {},
     "output_type": "execute_result"
    }
   ],
   "source": [
    "master_frame = master_frame[~np.isnan(master_frame['raised_amount_usd'])]\n",
    "round(100*(master_frame.isnull().sum()/len(master_frame.index)), 2)"
   ]
  },
  {
   "cell_type": "markdown",
   "metadata": {},
   "source": [
    "### Average funding amount of venture type:"
   ]
  },
  {
   "cell_type": "code",
   "execution_count": 40,
   "metadata": {},
   "outputs": [],
   "source": [
    "category_by_funding_type = master_frame.groupby('funding_round_type')"
   ]
  },
  {
   "cell_type": "code",
   "execution_count": 41,
   "metadata": {},
   "outputs": [
    {
     "data": {
      "text/plain": [
       "funding_round_type\n",
       "angel                    9.752029e+05\n",
       "convertible_note         1.379895e+06\n",
       "debt_financing           1.664649e+07\n",
       "equity_crowdfunding      5.453219e+05\n",
       "grant                    4.601210e+06\n",
       "non_equity_assistance    5.014948e+05\n",
       "post_ipo_debt            1.704481e+08\n",
       "post_ipo_equity          6.316833e+07\n",
       "private_equity           7.116546e+07\n",
       "product_crowdfunding     1.361448e+06\n",
       "secondary_market         8.443853e+07\n",
       "seed                     7.452639e+05\n",
       "undisclosed              1.376043e+07\n",
       "venture                  1.171285e+07\n",
       "Name: raised_amount_usd, dtype: float64"
      ]
     },
     "execution_count": 41,
     "metadata": {},
     "output_type": "execute_result"
    }
   ],
   "source": [
    "category_by_funding_type['raised_amount_usd'].mean()"
   ]
  },
  {
   "cell_type": "code",
   "execution_count": 42,
   "metadata": {},
   "outputs": [
    {
     "data": {
      "text/plain": [
       "funding_round_type\n",
       "angel             9.752029e+05\n",
       "private_equity    7.116546e+07\n",
       "seed              7.452639e+05\n",
       "venture           1.171285e+07\n",
       "Name: raised_amount_usd, dtype: float64"
      ]
     },
     "execution_count": 42,
     "metadata": {},
     "output_type": "execute_result"
    }
   ],
   "source": [
    "master_frame = master_frame[master_frame['funding_round_type'].isin([ 'angel', 'seed','venture', 'private_equity'])]\n",
    "category_by_funding_type = master_frame.groupby('funding_round_type')\n",
    "category_by_funding_type['raised_amount_usd'].mean()\n",
    "\n",
    "master_frame1 = master_frame[master_frame['funding_round_type'].isin([ 'angel', 'seed','venture', 'private_equity'])]\n",
    "category_by_funding_type1 = master_frame1.groupby('funding_round_type')\n",
    "category_by_funding_type1['raised_amount_usd'].mean()"
   ]
  },
  {
   "cell_type": "code",
   "execution_count": 132,
   "metadata": {},
   "outputs": [
    {
     "data": {
      "image/png": "[encoded data removed]",
      "text/plain": [
       "<Figure size 720x360 with 1 Axes>"
      ]
     },
     "metadata": {
      "needs_background": "light"
     },
     "output_type": "display_data"
    }
   ],
   "source": [
    "import matplotlib.pyplot as plt\n",
    "import seaborn as sns\n",
    "\n",
    "plt.figure(figsize=(10,5))\n",
    "g=sns.barplot(x='funding_round_type', y='raised_amount_usd', data=master_frame1)\n",
    "g.set_ylim(0, 20000000)\n",
    "g.set(xlabel='Funding Type', ylabel='Raised Amount   (1unit = 10M USD)')\n",
    "plt.show()"
   ]
  },
  {
   "cell_type": "markdown",
   "metadata": {},
   "source": [
    "As angel and seed total investment sums to (975202.94+745263.88)=1720466.82,which is more than 17 million,so venture is the only sector which is possible to invest under the range of 15 million."
   ]
  },
  {
   "cell_type": "code",
   "execution_count": 44,
   "metadata": {},
   "outputs": [
    {
     "data": {
      "text/plain": [
       "funding_round_type\n",
       "venture    1.171285e+07\n",
       "Name: raised_amount_usd, dtype: float64"
      ]
     },
     "execution_count": 44,
     "metadata": {},
     "output_type": "execute_result"
    }
   ],
   "source": [
    "master_frame=master_frame[master_frame['funding_round_type'].isin(['venture'])]\n",
    "category_by_funding_type = master_frame.groupby('funding_round_type')\n",
    "category_by_funding_type['raised_amount_usd'].mean()"
   ]
  },
  {
   "cell_type": "markdown",
   "metadata": {},
   "source": [
    "## Checkpoint 3: Country Analysis"
   ]
  },
  {
   "cell_type": "code",
   "execution_count": 45,
   "metadata": {},
   "outputs": [
    {
     "data": {
      "text/html": [
       "<div>\n",
       "<style scoped>\n",
       "    .dataframe tbody tr th:only-of-type {\n",
       "        vertical-align: middle;\n",
       "    }\n",
       "\n",
       "    .dataframe tbody tr th {\n",
       "        vertical-align: top;\n",
       "    }\n",
       "\n",
       "    .dataframe thead th {\n",
       "        text-align: right;\n",
       "    }\n",
       "</style>\n",
       "<table border=\"1\" class=\"dataframe\">\n",
       "  <thead>\n",
       "    <tr style=\"text-align: right;\">\n",
       "      <th></th>\n",
       "      <th>permalink</th>\n",
       "      <th>name</th>\n",
       "      <th>homepage_url</th>\n",
       "      <th>category_list</th>\n",
       "      <th>status</th>\n",
       "      <th>country_code</th>\n",
       "      <th>state_code</th>\n",
       "      <th>region</th>\n",
       "      <th>city</th>\n",
       "      <th>founded_at</th>\n",
       "      <th>company_permalink</th>\n",
       "      <th>funding_round_permalink</th>\n",
       "      <th>funding_round_type</th>\n",
       "      <th>funded_at</th>\n",
       "      <th>raised_amount_usd</th>\n",
       "    </tr>\n",
       "  </thead>\n",
       "  <tbody>\n",
       "    <tr>\n",
       "      <td>30105</td>\n",
       "      <td>/organization/freescale</td>\n",
       "      <td>Freescale Semiconductor</td>\n",
       "      <td>http://www.freescale.com</td>\n",
       "      <td>Semiconductors</td>\n",
       "      <td>ipo</td>\n",
       "      <td>USA</td>\n",
       "      <td>TX</td>\n",
       "      <td>Austin</td>\n",
       "      <td>Austin</td>\n",
       "      <td>01-01-1953</td>\n",
       "      <td>/organization/freescale</td>\n",
       "      <td>/funding-round/a1495c088d886c8a4f4ce74403b77385</td>\n",
       "      <td>venture</td>\n",
       "      <td>21-10-2006</td>\n",
       "      <td>1.760000e+10</td>\n",
       "    </tr>\n",
       "    <tr>\n",
       "      <td>82575</td>\n",
       "      <td>/organization/uber</td>\n",
       "      <td>Uber</td>\n",
       "      <td>http://www.uber.com</td>\n",
       "      <td>Automotive|Design|Limousines|Public Transporta...</td>\n",
       "      <td>operating</td>\n",
       "      <td>USA</td>\n",
       "      <td>CA</td>\n",
       "      <td>SF Bay Area</td>\n",
       "      <td>San Francisco</td>\n",
       "      <td>01-03-2009</td>\n",
       "      <td>/organization/uber</td>\n",
       "      <td>/funding-round/1fa1e079dd45f9d615ce1469ed9090fb</td>\n",
       "      <td>venture</td>\n",
       "      <td>04-12-2014</td>\n",
       "      <td>1.200000e+09</td>\n",
       "    </tr>\n",
       "    <tr>\n",
       "      <td>82582</td>\n",
       "      <td>/organization/uber</td>\n",
       "      <td>Uber</td>\n",
       "      <td>http://www.uber.com</td>\n",
       "      <td>Automotive|Design|Limousines|Public Transporta...</td>\n",
       "      <td>operating</td>\n",
       "      <td>USA</td>\n",
       "      <td>CA</td>\n",
       "      <td>SF Bay Area</td>\n",
       "      <td>San Francisco</td>\n",
       "      <td>01-03-2009</td>\n",
       "      <td>/organization/uber</td>\n",
       "      <td>/funding-round/7a617d3521e9a71816c8d5cbcd4c49b0</td>\n",
       "      <td>venture</td>\n",
       "      <td>06-06-2014</td>\n",
       "      <td>1.200000e+09</td>\n",
       "    </tr>\n",
       "    <tr>\n",
       "      <td>88963</td>\n",
       "      <td>/organization/xiaomi</td>\n",
       "      <td>Xiaomi</td>\n",
       "      <td>http://www.mi.com</td>\n",
       "      <td>Consumer Electronics|Mobile</td>\n",
       "      <td>operating</td>\n",
       "      <td>CHN</td>\n",
       "      <td>22</td>\n",
       "      <td>Beijing</td>\n",
       "      <td>Beijing</td>\n",
       "      <td>04-04-2010</td>\n",
       "      <td>/organization/xiaomi</td>\n",
       "      <td>/funding-round/0022fc712b8a48fc6b7341c6aa3b42a5</td>\n",
       "      <td>venture</td>\n",
       "      <td>22-12-2014</td>\n",
       "      <td>1.100000e+09</td>\n",
       "    </tr>\n",
       "    <tr>\n",
       "      <td>82578</td>\n",
       "      <td>/organization/uber</td>\n",
       "      <td>Uber</td>\n",
       "      <td>http://www.uber.com</td>\n",
       "      <td>Automotive|Design|Limousines|Public Transporta...</td>\n",
       "      <td>operating</td>\n",
       "      <td>USA</td>\n",
       "      <td>CA</td>\n",
       "      <td>SF Bay Area</td>\n",
       "      <td>San Francisco</td>\n",
       "      <td>01-03-2009</td>\n",
       "      <td>/organization/uber</td>\n",
       "      <td>/funding-round/2fd6f840728c42adee151fc1f1bf218e</td>\n",
       "      <td>venture</td>\n",
       "      <td>18-02-2015</td>\n",
       "      <td>1.000000e+09</td>\n",
       "    </tr>\n",
       "    <tr>\n",
       "      <td>82585</td>\n",
       "      <td>/organization/uber</td>\n",
       "      <td>Uber</td>\n",
       "      <td>http://www.uber.com</td>\n",
       "      <td>Automotive|Design|Limousines|Public Transporta...</td>\n",
       "      <td>operating</td>\n",
       "      <td>USA</td>\n",
       "      <td>CA</td>\n",
       "      <td>SF Bay Area</td>\n",
       "      <td>San Francisco</td>\n",
       "      <td>01-03-2009</td>\n",
       "      <td>/organization/uber</td>\n",
       "      <td>/funding-round/c738765257ab10e721f1a02d5af54681</td>\n",
       "      <td>venture</td>\n",
       "      <td>31-07-2015</td>\n",
       "      <td>1.000000e+09</td>\n",
       "    </tr>\n",
       "    <tr>\n",
       "      <td>72794</td>\n",
       "      <td>/organization/social-finance</td>\n",
       "      <td>SoFi</td>\n",
       "      <td>http://www.sofi.com</td>\n",
       "      <td>Education|Finance|Financial Services|Peer-to-Peer</td>\n",
       "      <td>operating</td>\n",
       "      <td>USA</td>\n",
       "      <td>CA</td>\n",
       "      <td>SF Bay Area</td>\n",
       "      <td>San Francisco</td>\n",
       "      <td>01-04-2011</td>\n",
       "      <td>/organization/social-finance</td>\n",
       "      <td>/funding-round/1609f1ba4de61c4760c91dc69f4ae980</td>\n",
       "      <td>venture</td>\n",
       "      <td>30-09-2015</td>\n",
       "      <td>1.000000e+09</td>\n",
       "    </tr>\n",
       "    <tr>\n",
       "      <td>29182</td>\n",
       "      <td>/organization/flipkart</td>\n",
       "      <td>Flipkart</td>\n",
       "      <td>http://www.flipkart.com</td>\n",
       "      <td>E-Commerce|Online Shopping</td>\n",
       "      <td>operating</td>\n",
       "      <td>IND</td>\n",
       "      <td>19</td>\n",
       "      <td>Bangalore</td>\n",
       "      <td>Bangalore</td>\n",
       "      <td>01-09-2007</td>\n",
       "      <td>/organization/flipkart</td>\n",
       "      <td>/funding-round/af6ac1c9d2f3050fd5e1530be3b9565f</td>\n",
       "      <td>venture</td>\n",
       "      <td>29-07-2014</td>\n",
       "      <td>1.000000e+09</td>\n",
       "    </tr>\n",
       "    <tr>\n",
       "      <td>73906</td>\n",
       "      <td>/organization/space-exploration-technologies</td>\n",
       "      <td>Space Exploration Technologies</td>\n",
       "      <td>http://www.spacex.com</td>\n",
       "      <td>Aerospace|Space Travel</td>\n",
       "      <td>operating</td>\n",
       "      <td>USA</td>\n",
       "      <td>CA</td>\n",
       "      <td>Los Angeles</td>\n",
       "      <td>Hawthorne</td>\n",
       "      <td>01-01-2002</td>\n",
       "      <td>/organization/space-exploration-technologies</td>\n",
       "      <td>/funding-round/3cbfa3a38fe9a74b04f6eaae8b5bc478</td>\n",
       "      <td>venture</td>\n",
       "      <td>20-01-2015</td>\n",
       "      <td>1.000000e+09</td>\n",
       "    </tr>\n",
       "  </tbody>\n",
       "</table>\n",
       "</div>"
      ],
      "text/plain": [
       "                                          permalink  \\\n",
       "30105                       /organization/freescale   \n",
       "82575                            /organization/uber   \n",
       "82582                            /organization/uber   \n",
       "88963                          /organization/xiaomi   \n",
       "82578                            /organization/uber   \n",
       "82585                            /organization/uber   \n",
       "72794                  /organization/social-finance   \n",
       "29182                        /organization/flipkart   \n",
       "73906  /organization/space-exploration-technologies   \n",
       "\n",
       "                                 name              homepage_url  \\\n",
       "30105         Freescale Semiconductor  http://www.freescale.com   \n",
       "82575                            Uber       http://www.uber.com   \n",
       "82582                            Uber       http://www.uber.com   \n",
       "88963                          Xiaomi         http://www.mi.com   \n",
       "82578                            Uber       http://www.uber.com   \n",
       "82585                            Uber       http://www.uber.com   \n",
       "72794                            SoFi       http://www.sofi.com   \n",
       "29182                        Flipkart   http://www.flipkart.com   \n",
       "73906  Space Exploration Technologies     http://www.spacex.com   \n",
       "\n",
       "                                           category_list     status  \\\n",
       "30105                                     Semiconductors        ipo   \n",
       "82575  Automotive|Design|Limousines|Public Transporta...  operating   \n",
       "82582  Automotive|Design|Limousines|Public Transporta...  operating   \n",
       "88963                        Consumer Electronics|Mobile  operating   \n",
       "82578  Automotive|Design|Limousines|Public Transporta...  operating   \n",
       "82585  Automotive|Design|Limousines|Public Transporta...  operating   \n",
       "72794  Education|Finance|Financial Services|Peer-to-Peer  operating   \n",
       "29182                         E-Commerce|Online Shopping  operating   \n",
       "73906                             Aerospace|Space Travel  operating   \n",
       "\n",
       "      country_code state_code       region           city  founded_at  \\\n",
       "30105          USA         TX       Austin         Austin  01-01-1953   \n",
       "82575          USA         CA  SF Bay Area  San Francisco  01-03-2009   \n",
       "82582          USA         CA  SF Bay Area  San Francisco  01-03-2009   \n",
       "88963          CHN         22      Beijing        Beijing  04-04-2010   \n",
       "82578          USA         CA  SF Bay Area  San Francisco  01-03-2009   \n",
       "82585          USA         CA  SF Bay Area  San Francisco  01-03-2009   \n",
       "72794          USA         CA  SF Bay Area  San Francisco  01-04-2011   \n",
       "29182          IND         19    Bangalore      Bangalore  01-09-2007   \n",
       "73906          USA         CA  Los Angeles      Hawthorne  01-01-2002   \n",
       "\n",
       "                                  company_permalink  \\\n",
       "30105                       /organization/freescale   \n",
       "82575                            /organization/uber   \n",
       "82582                            /organization/uber   \n",
       "88963                          /organization/xiaomi   \n",
       "82578                            /organization/uber   \n",
       "82585                            /organization/uber   \n",
       "72794                  /organization/social-finance   \n",
       "29182                        /organization/flipkart   \n",
       "73906  /organization/space-exploration-technologies   \n",
       "\n",
       "                               funding_round_permalink funding_round_type  \\\n",
       "30105  /funding-round/a1495c088d886c8a4f4ce74403b77385            venture   \n",
       "82575  /funding-round/1fa1e079dd45f9d615ce1469ed9090fb            venture   \n",
       "82582  /funding-round/7a617d3521e9a71816c8d5cbcd4c49b0            venture   \n",
       "88963  /funding-round/0022fc712b8a48fc6b7341c6aa3b42a5            venture   \n",
       "82578  /funding-round/2fd6f840728c42adee151fc1f1bf218e            venture   \n",
       "82585  /funding-round/c738765257ab10e721f1a02d5af54681            venture   \n",
       "72794  /funding-round/1609f1ba4de61c4760c91dc69f4ae980            venture   \n",
       "29182  /funding-round/af6ac1c9d2f3050fd5e1530be3b9565f            venture   \n",
       "73906  /funding-round/3cbfa3a38fe9a74b04f6eaae8b5bc478            venture   \n",
       "\n",
       "        funded_at  raised_amount_usd  \n",
       "30105  21-10-2006       1.760000e+10  \n",
       "82575  04-12-2014       1.200000e+09  \n",
       "82582  06-06-2014       1.200000e+09  \n",
       "88963  22-12-2014       1.100000e+09  \n",
       "82578  18-02-2015       1.000000e+09  \n",
       "82585  31-07-2015       1.000000e+09  \n",
       "72794  30-09-2015       1.000000e+09  \n",
       "29182  29-07-2014       1.000000e+09  \n",
       "73906  20-01-2015       1.000000e+09  "
      ]
     },
     "execution_count": 45,
     "metadata": {},
     "output_type": "execute_result"
    }
   ],
   "source": [
    "master_frame.sort_values(by='raised_amount_usd',ascending=False).head(9)\n"
   ]
  },
  {
   "cell_type": "markdown",
   "metadata": {},
   "source": [
    "So,filtering out top 9 highly invested countries are as shown below:"
   ]
  },
  {
   "cell_type": "code",
   "execution_count": 46,
   "metadata": {},
   "outputs": [
    {
     "data": {
      "text/plain": [
       "country_code\n",
       "USA    3.978218e+11\n",
       "CHN    3.562355e+10\n",
       "GBR    1.863205e+10\n",
       "IND    1.383492e+10\n",
       "CAN    8.895475e+09\n",
       "FRA    6.666626e+09\n",
       "ISR    6.367861e+09\n",
       "DEU    6.088517e+09\n",
       "JPN    3.011058e+09\n",
       "Name: raised_amount_usd, dtype: float64"
      ]
     },
     "execution_count": 46,
     "metadata": {},
     "output_type": "execute_result"
    }
   ],
   "source": [
    "\n",
    "master_frame.groupby('country_code').raised_amount_usd.sum().sort_values(ascending=False).head(9)"
   ]
  },
  {
   "cell_type": "code",
   "execution_count": 47,
   "metadata": {},
   "outputs": [],
   "source": [
    "top9=master_frame[master_frame['country_code'].isin(['USA','CHN','GBR','IND','CAN','FRA','ISR','DEU','JPN'])]\n",
    "top9_fig=master_frame[master_frame['country_code'].isin(['USA','CHN','GBR','IND','CAN','FRA','ISR','DEU','JPN'])]"
   ]
  },
  {
   "cell_type": "code",
   "execution_count": 48,
   "metadata": {},
   "outputs": [
    {
     "name": "stdout",
     "output_type": "stream",
     "text": [
      "(41706, 15)\n"
     ]
    }
   ],
   "source": [
    "print(top9.shape)"
   ]
  },
  {
   "cell_type": "code",
   "execution_count": 140,
   "metadata": {},
   "outputs": [
    {
     "data": {
      "image/png": "[encoded data removed]",
      "text/plain": [
       "<Figure size 5760x720 with 1 Axes>"
      ]
     },
     "metadata": {
      "needs_background": "light"
     },
     "output_type": "display_data"
    }
   ],
   "source": [
    "\n",
    "import matplotlib.pyplot as plt\n",
    "import seaborn as sns\n",
    "# Plotting sum across top 9 country_code \n",
    "\n",
    "plt.figure(figsize=(80, 10))\n",
    "\n",
    "b=sns.barplot(x=\"country_code\", y=\"raised_amount_usd\", data=top9_fig, estimator=sum)\n",
    "b.set_yscale('log')\n",
    "plt.title(\"Sum\")\n",
    "plt.show()"
   ]
  },
  {
   "cell_type": "markdown",
   "metadata": {},
   "source": [
    "As Spark Fund only wants to invest in English-speaking countries because of the ease of communication. Now we'll Identify the top three English-speaking countries in the data frame top9 using web Scraping."
   ]
  },
  {
   "cell_type": "code",
   "execution_count": 50,
   "metadata": {},
   "outputs": [],
   "source": [
    "import requests, bs4\n",
    "\n",
    "# getting HTML from the WikiLink\n",
    "url = \"https://en.wikipedia.org/wiki/List_of_territorial_entities_where_English_is_an_official_language\"\n",
    "req = requests.get(url)\n",
    "\n",
    "# create a bs4 object\n",
    "# To avoid warnings, provide \"html5lib\" explicitly\n",
    "#soup = bs4.BeautifulSoup(req.text, \"html5lib\")\n",
    "soup2=bs4.BeautifulSoup(req.text,\"html5lib\")\n",
    "#print(soup2.select('tbody'))"
   ]
  },
  {
   "cell_type": "code",
   "execution_count": 51,
   "metadata": {},
   "outputs": [
    {
     "data": {
      "text/plain": [
       "[<span class=\"mw-headline\" id=\"Non-sovereign_entities\">Non-sovereign entities</span>]"
      ]
     },
     "execution_count": 51,
     "metadata": {},
     "output_type": "execute_result"
    }
   ],
   "source": [
    "soup2.select('#Non-sovereign_entities')"
   ]
  },
  {
   "cell_type": "code",
   "execution_count": 52,
   "metadata": {},
   "outputs": [
    {
     "name": "stdout",
     "output_type": "stream",
     "text": [
      "  country_code\n",
      "0          USA\n",
      "1          GBR\n",
      "2          IND\n"
     ]
    }
   ],
   "source": [
    "eng_speaking_countries= pd.DataFrame({'country_code': ['USA', 'GBR', 'IND']}) \n",
    "print(eng_speaking_countries)"
   ]
  },
  {
   "cell_type": "markdown",
   "metadata": {},
   "source": [
    "## Checkpoint 4: Sector Analysis 1"
   ]
  },
  {
   "cell_type": "code",
   "execution_count": 53,
   "metadata": {},
   "outputs": [
    {
     "data": {
      "text/plain": [
       "permalink                  0.0\n",
       "name                       0.0\n",
       "homepage_url               0.0\n",
       "category_list              0.0\n",
       "status                     0.0\n",
       "country_code               0.0\n",
       "state_code                 0.0\n",
       "region                     0.0\n",
       "city                       0.0\n",
       "founded_at                 0.0\n",
       "company_permalink          0.0\n",
       "funding_round_permalink    0.0\n",
       "funding_round_type         0.0\n",
       "funded_at                  0.0\n",
       "raised_amount_usd          0.0\n",
       "dtype: float64"
      ]
     },
     "execution_count": 53,
     "metadata": {},
     "output_type": "execute_result"
    }
   ],
   "source": [
    "round(100*(top9.isnull().sum()/len(top9.index)),2)"
   ]
  },
  {
   "cell_type": "code",
   "execution_count": 54,
   "metadata": {},
   "outputs": [],
   "source": [
    "mapping=pd.read_csv(\"mapping.csv\",encoding='ISO-8859-1')"
   ]
  },
  {
   "cell_type": "code",
   "execution_count": 55,
   "metadata": {},
   "outputs": [
    {
     "name": "stdout",
     "output_type": "stream",
     "text": [
      "<class 'pandas.core.frame.DataFrame'>\n",
      "RangeIndex: 688 entries, 0 to 687\n",
      "Data columns (total 10 columns):\n",
      "category_list                              687 non-null object\n",
      "Automotive & Sports                        688 non-null int64\n",
      "Blanks                                     688 non-null int64\n",
      "Cleantech / Semiconductors                 688 non-null int64\n",
      "Entertainment                              688 non-null int64\n",
      "Health                                     688 non-null int64\n",
      "Manufacturing                              688 non-null int64\n",
      "News, Search and Messaging                 688 non-null int64\n",
      "Others                                     688 non-null int64\n",
      "Social, Finance, Analytics, Advertising    688 non-null int64\n",
      "dtypes: int64(9), object(1)\n",
      "memory usage: 53.9+ KB\n"
     ]
    }
   ],
   "source": [
    "mapping.info()"
   ]
  },
  {
   "cell_type": "code",
   "execution_count": 56,
   "metadata": {},
   "outputs": [
    {
     "data": {
      "text/plain": [
       "Index(['category_list', 'Automotive & Sports', 'Blanks',\n",
       "       'Cleantech / Semiconductors', 'Entertainment', 'Health',\n",
       "       'Manufacturing', 'News, Search and Messaging', 'Others',\n",
       "       'Social, Finance, Analytics, Advertising'],\n",
       "      dtype='object')"
      ]
     },
     "execution_count": 56,
     "metadata": {},
     "output_type": "execute_result"
    }
   ],
   "source": [
    "mapping.columns"
   ]
  },
  {
   "cell_type": "markdown",
   "metadata": {},
   "source": [
    "Removing Blank Column first of all as there are only 8 sectors."
   ]
  },
  {
   "cell_type": "code",
   "execution_count": 57,
   "metadata": {},
   "outputs": [],
   "source": [
    "mapping=mapping.drop('Blanks',axis=1)"
   ]
  },
  {
   "cell_type": "code",
   "execution_count": 58,
   "metadata": {},
   "outputs": [
    {
     "data": {
      "text/plain": [
       "Index(['category_list', 'Automotive & Sports', 'Cleantech / Semiconductors',\n",
       "       'Entertainment', 'Health', 'Manufacturing',\n",
       "       'News, Search and Messaging', 'Others',\n",
       "       'Social, Finance, Analytics, Advertising'],\n",
       "      dtype='object')"
      ]
     },
     "execution_count": 58,
     "metadata": {},
     "output_type": "execute_result"
    }
   ],
   "source": [
    "mapping.columns"
   ]
  },
  {
   "cell_type": "code",
   "execution_count": 59,
   "metadata": {},
   "outputs": [
    {
     "data": {
      "text/plain": [
       "category_list                              0.15\n",
       "Automotive & Sports                        0.00\n",
       "Cleantech / Semiconductors                 0.00\n",
       "Entertainment                              0.00\n",
       "Health                                     0.00\n",
       "Manufacturing                              0.00\n",
       "News, Search and Messaging                 0.00\n",
       "Others                                     0.00\n",
       "Social, Finance, Analytics, Advertising    0.00\n",
       "dtype: float64"
      ]
     },
     "execution_count": 59,
     "metadata": {},
     "output_type": "execute_result"
    }
   ],
   "source": [
    "round((mapping.isnull().sum()/len(mapping.index))*100,2)"
   ]
  },
  {
   "cell_type": "code",
   "execution_count": 60,
   "metadata": {},
   "outputs": [
    {
     "data": {
      "text/plain": [
       "category_list                              0.0\n",
       "Automotive & Sports                        0.0\n",
       "Cleantech / Semiconductors                 0.0\n",
       "Entertainment                              0.0\n",
       "Health                                     0.0\n",
       "Manufacturing                              0.0\n",
       "News, Search and Messaging                 0.0\n",
       "Others                                     0.0\n",
       "Social, Finance, Analytics, Advertising    0.0\n",
       "dtype: float64"
      ]
     },
     "execution_count": 60,
     "metadata": {},
     "output_type": "execute_result"
    }
   ],
   "source": [
    "mapping=mapping[~mapping.category_list.isnull()]\n",
    "round((mapping.isnull().sum()/len(mapping.index))*100,2)"
   ]
  },
  {
   "cell_type": "code",
   "execution_count": 61,
   "metadata": {},
   "outputs": [
    {
     "data": {
      "text/plain": [
       "(687, 9)"
      ]
     },
     "execution_count": 61,
     "metadata": {},
     "output_type": "execute_result"
    }
   ],
   "source": [
    "mapping.shape"
   ]
  },
  {
   "cell_type": "code",
   "execution_count": 62,
   "metadata": {},
   "outputs": [
    {
     "data": {
      "text/plain": [
       "Index(['category_list', 'Automotive & Sports', 'Cleantech / Semiconductors',\n",
       "       'Entertainment', 'Health', 'Manufacturing',\n",
       "       'News, Search and Messaging', 'Others',\n",
       "       'Social, Finance, Analytics, Advertising'],\n",
       "      dtype='object')"
      ]
     },
     "execution_count": 62,
     "metadata": {},
     "output_type": "execute_result"
    }
   ],
   "source": [
    "mapping.columns"
   ]
  },
  {
   "cell_type": "code",
   "execution_count": 63,
   "metadata": {},
   "outputs": [
    {
     "data": {
      "text/plain": [
       "Index(['permalink', 'name', 'homepage_url', 'category_list', 'status',\n",
       "       'country_code', 'state_code', 'region', 'city', 'founded_at',\n",
       "       'company_permalink', 'funding_round_permalink', 'funding_round_type',\n",
       "       'funded_at', 'raised_amount_usd'],\n",
       "      dtype='object')"
      ]
     },
     "execution_count": 63,
     "metadata": {},
     "output_type": "execute_result"
    }
   ],
   "source": [
    "top9.columns"
   ]
  },
  {
   "cell_type": "markdown",
   "metadata": {},
   "source": [
    "Now we'll replace '0' in category list with 'na'"
   ]
  },
  {
   "cell_type": "code",
   "execution_count": 64,
   "metadata": {},
   "outputs": [
    {
     "name": "stderr",
     "output_type": "stream",
     "text": [
      "C:\\Users\\bhart\\Anaconda3\\lib\\site-packages\\ipykernel_launcher.py:2: SettingWithCopyWarning: \n",
      "A value is trying to be set on a copy of a slice from a DataFrame.\n",
      "Try using .loc[row_indexer,col_indexer] = value instead\n",
      "\n",
      "See the caveats in the documentation: http://pandas.pydata.org/pandas-docs/stable/user_guide/indexing.html#returning-a-view-versus-a-copy\n",
      "  \n"
     ]
    }
   ],
   "source": [
    "mapping['category_list']=mapping['category_list'].str.lower()\n",
    "top9['category_list']=top9['category_list'].str.lower()"
   ]
  },
  {
   "cell_type": "code",
   "execution_count": 65,
   "metadata": {},
   "outputs": [
    {
     "name": "stdout",
     "output_type": "stream",
     "text": [
      "1                    3d\n",
      "2           3d printing\n",
      "3         3d technology\n",
      "4            accounting\n",
      "5      active lifestyle\n",
      "             ...       \n",
      "683           wholesale\n",
      "684    wine and spirits\n",
      "685            wireless\n",
      "686               women\n",
      "687        young adults\n",
      "Name: category_list, Length: 687, dtype: object\n"
     ]
    }
   ],
   "source": [
    "print(mapping['category_list'])"
   ]
  },
  {
   "cell_type": "code",
   "execution_count": 66,
   "metadata": {},
   "outputs": [],
   "source": [
    "mapping['category_list']=mapping['category_list'].str.replace('0','na')"
   ]
  },
  {
   "cell_type": "code",
   "execution_count": 67,
   "metadata": {},
   "outputs": [
    {
     "name": "stdout",
     "output_type": "stream",
     "text": [
      "1                    3d\n",
      "2           3d printing\n",
      "3         3d technology\n",
      "4            accounting\n",
      "5      active lifestyle\n",
      "             ...       \n",
      "683           wholesale\n",
      "684    wine and spirits\n",
      "685            wireless\n",
      "686               women\n",
      "687        young adults\n",
      "Name: category_list, Length: 687, dtype: object\n"
     ]
    }
   ],
   "source": [
    "print(mapping['category_list'])"
   ]
  },
  {
   "cell_type": "markdown",
   "metadata": {},
   "source": [
    "To fetch primary sector value from top3_engl data table:"
   ]
  },
  {
   "cell_type": "code",
   "execution_count": 68,
   "metadata": {},
   "outputs": [],
   "source": [
    "\n",
    "# function to split category_list values and extract primary sector\n",
    "def return_primary_sector(ps):\n",
    "    ps = ps.split('|')\n",
    "    if len(ps) > 1:\n",
    "        return ps[0]\n",
    "    else:\n",
    "        return ps"
   ]
  },
  {
   "cell_type": "code",
   "execution_count": 69,
   "metadata": {},
   "outputs": [
    {
     "name": "stdout",
     "output_type": "stream",
     "text": [
      "                        permalink          name                homepage_url  \\\n",
      "0             /organization/-fame         #fame          http://livfame.com   \n",
      "7            /organization/0xdata        H2O.ai              http://h2o.ai/   \n",
      "8            /organization/0xdata        H2O.ai              http://h2o.ai/   \n",
      "9            /organization/0xdata        H2O.ai              http://h2o.ai/   \n",
      "17     /organization/1-mainstream  1 Mainstream  http://www.1mainstream.com   \n",
      "...                           ...           ...                         ...   \n",
      "91139    /organization/zyomyx-inc        ZYOMYX       http://www.zyomyx.com   \n",
      "91141    /organization/zyomyx-inc        ZYOMYX       http://www.zyomyx.com   \n",
      "91142    /organization/zyomyx-inc        ZYOMYX       http://www.zyomyx.com   \n",
      "91152         /organization/zyrra         Zyrra        http://www.zyrra.com   \n",
      "91154        /organization/zystor        Zystor       http://www.zystor.com   \n",
      "\n",
      "                          category_list     status country_code state_code  \\\n",
      "0                                 media  operating          IND         16   \n",
      "7                             analytics  operating          USA         CA   \n",
      "8                             analytics  operating          USA         CA   \n",
      "9                             analytics  operating          USA         CA   \n",
      "17     apps|cable|distribution|software   acquired          USA         CA   \n",
      "...                                 ...        ...          ...        ...   \n",
      "91139                     biotechnology  operating          USA         MO   \n",
      "91141                     biotechnology  operating          USA         MO   \n",
      "91142                     biotechnology  operating          USA         MO   \n",
      "91152                        e-commerce  operating          USA         MA   \n",
      "91154                     biotechnology   acquired          USA         WI   \n",
      "\n",
      "            region           city  founded_at           company_permalink  \\\n",
      "0           Mumbai         Mumbai  01-01-2012         /organization/-fame   \n",
      "7      SF Bay Area  Mountain View  01-01-2011        /organization/0xdata   \n",
      "8      SF Bay Area  Mountain View  01-01-2011        /organization/0xdata   \n",
      "9      SF Bay Area  Mountain View  01-01-2011        /organization/0xdata   \n",
      "17     SF Bay Area      Cupertino  01-03-2012  /organization/1-mainstream   \n",
      "...            ...            ...         ...                         ...   \n",
      "91139   MO - Other        Fremont  01-01-1998    /organization/zyomyx-inc   \n",
      "91141   MO - Other        Fremont  01-01-1998    /organization/zyomyx-inc   \n",
      "91142   MO - Other        Fremont  01-01-1998    /organization/zyomyx-inc   \n",
      "91152       Boston      Cambridge  01-01-2012         /organization/zyrra   \n",
      "91154    Milwaukee      Milwaukee  01-01-2012        /organization/zystor   \n",
      "\n",
      "                               funding_round_permalink funding_round_type  \\\n",
      "0      /funding-round/9a01d05418af9f794eebff7ace91f638            venture   \n",
      "7      /funding-round/3bb2ee4a2d89251a10aaa735b1180e44            venture   \n",
      "8      /funding-round/ae2a174c06517c2394aed45006322a7e            venture   \n",
      "9      /funding-round/e1cfcbe1bdf4c70277c5f29a3482f24e            venture   \n",
      "17     /funding-round/b952cbaf401f310927430c97b68162ea            venture   \n",
      "...                                                ...                ...   \n",
      "91139  /funding-round/4191cb5258d3863b0212d1083881da64            venture   \n",
      "91141  /funding-round/b4fce7f8a13267353d57db09099800e8            venture   \n",
      "91142  /funding-round/ea5b21da6cf999ff4d5667431fe318d7            venture   \n",
      "91152  /funding-round/7a0fa791c96c9c447ee54662395beab9            venture   \n",
      "91154  /funding-round/7ea37c0ff4132b084832039a9380d34e            venture   \n",
      "\n",
      "        funded_at  raised_amount_usd  \n",
      "0      05-01-2015         10000000.0  \n",
      "7      09-11-2015         20000000.0  \n",
      "8      03-01-2013          1700000.0  \n",
      "9      19-07-2014          8900000.0  \n",
      "17     17-03-2015          5000000.0  \n",
      "...           ...                ...  \n",
      "91139  30-06-2013         12000000.0  \n",
      "91141  11-07-2013         14219999.0  \n",
      "91142  29-01-2010           555016.0  \n",
      "91152  18-10-2012           140500.0  \n",
      "91154  16-12-2004          8500000.0  \n",
      "\n",
      "[36871 rows x 15 columns]\n"
     ]
    }
   ],
   "source": [
    "top3_engl = top9[top9['country_code'].isin(['USA', 'GBR', 'IND'])]\n",
    "top3_engl.groupby('country_code')['raised_amount_usd'].sum().sort_values(ascending=False)\n",
    "print(top3_engl)"
   ]
  },
  {
   "cell_type": "code",
   "execution_count": 70,
   "metadata": {},
   "outputs": [
    {
     "name": "stderr",
     "output_type": "stream",
     "text": [
      "C:\\Users\\bhart\\Anaconda3\\lib\\site-packages\\ipykernel_launcher.py:1: SettingWithCopyWarning: \n",
      "A value is trying to be set on a copy of a slice from a DataFrame.\n",
      "Try using .loc[row_indexer,col_indexer] = value instead\n",
      "\n",
      "See the caveats in the documentation: http://pandas.pydata.org/pandas-docs/stable/user_guide/indexing.html#returning-a-view-versus-a-copy\n",
      "  \"\"\"Entry point for launching an IPython kernel.\n"
     ]
    }
   ],
   "source": [
    "top3_engl['category_list'] = top3_engl['category_list'].apply(lambda x: x.split('|')[0])"
   ]
  },
  {
   "cell_type": "code",
   "execution_count": 71,
   "metadata": {},
   "outputs": [
    {
     "name": "stdout",
     "output_type": "stream",
     "text": [
      "0                media\n",
      "7            analytics\n",
      "8            analytics\n",
      "9            analytics\n",
      "17                apps\n",
      "             ...      \n",
      "91139    biotechnology\n",
      "91141    biotechnology\n",
      "91142    biotechnology\n",
      "91152       e-commerce\n",
      "91154    biotechnology\n",
      "Name: category_list, Length: 36871, dtype: object\n"
     ]
    }
   ],
   "source": [
    "print(top3_engl['category_list'])"
   ]
  },
  {
   "cell_type": "code",
   "execution_count": 72,
   "metadata": {},
   "outputs": [],
   "source": [
    "mapping=pd.melt(mapping, id_vars =['category_list'], value_vars =['Manufacturing','Automotive & Sports',\n",
    "                                                              'Cleantech / Semiconductors','Entertainment',\n",
    "                                                             'Health','News, Search and Messaging','Others',\n",
    "                                                             'Social, Finance, Analytics, Advertising']) \n"
   ]
  },
  {
   "cell_type": "code",
   "execution_count": 73,
   "metadata": {},
   "outputs": [
    {
     "data": {
      "text/html": [
       "<div>\n",
       "<style scoped>\n",
       "    .dataframe tbody tr th:only-of-type {\n",
       "        vertical-align: middle;\n",
       "    }\n",
       "\n",
       "    .dataframe tbody tr th {\n",
       "        vertical-align: top;\n",
       "    }\n",
       "\n",
       "    .dataframe thead th {\n",
       "        text-align: right;\n",
       "    }\n",
       "</style>\n",
       "<table border=\"1\" class=\"dataframe\">\n",
       "  <thead>\n",
       "    <tr style=\"text-align: right;\">\n",
       "      <th></th>\n",
       "      <th>category_list</th>\n",
       "      <th>variable</th>\n",
       "      <th>value</th>\n",
       "    </tr>\n",
       "  </thead>\n",
       "  <tbody>\n",
       "    <tr>\n",
       "      <td>0</td>\n",
       "      <td>3d</td>\n",
       "      <td>Manufacturing</td>\n",
       "      <td>1</td>\n",
       "    </tr>\n",
       "    <tr>\n",
       "      <td>1</td>\n",
       "      <td>3d printing</td>\n",
       "      <td>Manufacturing</td>\n",
       "      <td>1</td>\n",
       "    </tr>\n",
       "    <tr>\n",
       "      <td>2</td>\n",
       "      <td>3d technology</td>\n",
       "      <td>Manufacturing</td>\n",
       "      <td>1</td>\n",
       "    </tr>\n",
       "    <tr>\n",
       "      <td>3</td>\n",
       "      <td>accounting</td>\n",
       "      <td>Manufacturing</td>\n",
       "      <td>0</td>\n",
       "    </tr>\n",
       "    <tr>\n",
       "      <td>4</td>\n",
       "      <td>active lifestyle</td>\n",
       "      <td>Manufacturing</td>\n",
       "      <td>0</td>\n",
       "    </tr>\n",
       "  </tbody>\n",
       "</table>\n",
       "</div>"
      ],
      "text/plain": [
       "      category_list       variable  value\n",
       "0                3d  Manufacturing      1\n",
       "1       3d printing  Manufacturing      1\n",
       "2     3d technology  Manufacturing      1\n",
       "3        accounting  Manufacturing      0\n",
       "4  active lifestyle  Manufacturing      0"
      ]
     },
     "execution_count": 73,
     "metadata": {},
     "output_type": "execute_result"
    }
   ],
   "source": [
    "mapping.head()"
   ]
  },
  {
   "cell_type": "code",
   "execution_count": 74,
   "metadata": {},
   "outputs": [
    {
     "data": {
      "text/html": [
       "<div>\n",
       "<style scoped>\n",
       "    .dataframe tbody tr th:only-of-type {\n",
       "        vertical-align: middle;\n",
       "    }\n",
       "\n",
       "    .dataframe tbody tr th {\n",
       "        vertical-align: top;\n",
       "    }\n",
       "\n",
       "    .dataframe thead th {\n",
       "        text-align: right;\n",
       "    }\n",
       "</style>\n",
       "<table border=\"1\" class=\"dataframe\">\n",
       "  <thead>\n",
       "    <tr style=\"text-align: right;\">\n",
       "      <th></th>\n",
       "      <th>category_list</th>\n",
       "      <th>main_sector</th>\n",
       "    </tr>\n",
       "  </thead>\n",
       "  <tbody>\n",
       "    <tr>\n",
       "      <td>0</td>\n",
       "      <td>3d</td>\n",
       "      <td>Manufacturing</td>\n",
       "    </tr>\n",
       "    <tr>\n",
       "      <td>1</td>\n",
       "      <td>3d printing</td>\n",
       "      <td>Manufacturing</td>\n",
       "    </tr>\n",
       "    <tr>\n",
       "      <td>2</td>\n",
       "      <td>3d technology</td>\n",
       "      <td>Manufacturing</td>\n",
       "    </tr>\n",
       "    <tr>\n",
       "      <td>6</td>\n",
       "      <td>advanced materials</td>\n",
       "      <td>Manufacturing</td>\n",
       "    </tr>\n",
       "    <tr>\n",
       "      <td>14</td>\n",
       "      <td>agriculture</td>\n",
       "      <td>Manufacturing</td>\n",
       "    </tr>\n",
       "    <tr>\n",
       "      <td>...</td>\n",
       "      <td>...</td>\n",
       "      <td>...</td>\n",
       "    </tr>\n",
       "    <tr>\n",
       "      <td>1711</td>\n",
       "      <td>home decor</td>\n",
       "      <td>Cleantech / Semiconductors</td>\n",
       "    </tr>\n",
       "    <tr>\n",
       "      <td>1781</td>\n",
       "      <td>lighting</td>\n",
       "      <td>Cleantech / Semiconductors</td>\n",
       "    </tr>\n",
       "    <tr>\n",
       "      <td>1805</td>\n",
       "      <td>material science</td>\n",
       "      <td>Cleantech / Semiconductors</td>\n",
       "    </tr>\n",
       "    <tr>\n",
       "      <td>1806</td>\n",
       "      <td>mechanical solutions</td>\n",
       "      <td>Cleantech / Semiconductors</td>\n",
       "    </tr>\n",
       "    <tr>\n",
       "      <td>1817</td>\n",
       "      <td>minerals</td>\n",
       "      <td>Cleantech / Semiconductors</td>\n",
       "    </tr>\n",
       "  </tbody>\n",
       "</table>\n",
       "<p>100 rows × 2 columns</p>\n",
       "</div>"
      ],
      "text/plain": [
       "             category_list                 main_sector\n",
       "0                       3d               Manufacturing\n",
       "1              3d printing               Manufacturing\n",
       "2            3d technology               Manufacturing\n",
       "6       advanced materials               Manufacturing\n",
       "14             agriculture               Manufacturing\n",
       "...                    ...                         ...\n",
       "1711            home decor  Cleantech / Semiconductors\n",
       "1781              lighting  Cleantech / Semiconductors\n",
       "1805      material science  Cleantech / Semiconductors\n",
       "1806  mechanical solutions  Cleantech / Semiconductors\n",
       "1817              minerals  Cleantech / Semiconductors\n",
       "\n",
       "[100 rows x 2 columns]"
      ]
     },
     "execution_count": 74,
     "metadata": {},
     "output_type": "execute_result"
    }
   ],
   "source": [
    "mapping = mapping[~(mapping.value == 0)]\n",
    "mapping = mapping.drop('value', axis = 1)\n",
    "mapping = mapping.rename(columns = {\"variable\":\"main_sector\"})\n",
    "mapping.head(100)\n"
   ]
  },
  {
   "cell_type": "code",
   "execution_count": 75,
   "metadata": {},
   "outputs": [
    {
     "data": {
      "text/html": [
       "<div>\n",
       "<style scoped>\n",
       "    .dataframe tbody tr th:only-of-type {\n",
       "        vertical-align: middle;\n",
       "    }\n",
       "\n",
       "    .dataframe tbody tr th {\n",
       "        vertical-align: top;\n",
       "    }\n",
       "\n",
       "    .dataframe thead th {\n",
       "        text-align: right;\n",
       "    }\n",
       "</style>\n",
       "<table border=\"1\" class=\"dataframe\">\n",
       "  <thead>\n",
       "    <tr style=\"text-align: right;\">\n",
       "      <th></th>\n",
       "      <th>permalink</th>\n",
       "      <th>name</th>\n",
       "      <th>homepage_url</th>\n",
       "      <th>category_list</th>\n",
       "      <th>status</th>\n",
       "      <th>country_code</th>\n",
       "      <th>state_code</th>\n",
       "      <th>region</th>\n",
       "      <th>city</th>\n",
       "      <th>founded_at</th>\n",
       "      <th>company_permalink</th>\n",
       "      <th>funding_round_permalink</th>\n",
       "      <th>funding_round_type</th>\n",
       "      <th>funded_at</th>\n",
       "      <th>raised_amount_usd</th>\n",
       "    </tr>\n",
       "  </thead>\n",
       "  <tbody>\n",
       "    <tr>\n",
       "      <td>0</td>\n",
       "      <td>/organization/-fame</td>\n",
       "      <td>#fame</td>\n",
       "      <td>http://livfame.com</td>\n",
       "      <td>media</td>\n",
       "      <td>operating</td>\n",
       "      <td>IND</td>\n",
       "      <td>16</td>\n",
       "      <td>Mumbai</td>\n",
       "      <td>Mumbai</td>\n",
       "      <td>01-01-2012</td>\n",
       "      <td>/organization/-fame</td>\n",
       "      <td>/funding-round/9a01d05418af9f794eebff7ace91f638</td>\n",
       "      <td>venture</td>\n",
       "      <td>05-01-2015</td>\n",
       "      <td>10000000.0</td>\n",
       "    </tr>\n",
       "    <tr>\n",
       "      <td>7</td>\n",
       "      <td>/organization/0xdata</td>\n",
       "      <td>H2O.ai</td>\n",
       "      <td>http://h2o.ai/</td>\n",
       "      <td>analytics</td>\n",
       "      <td>operating</td>\n",
       "      <td>USA</td>\n",
       "      <td>CA</td>\n",
       "      <td>SF Bay Area</td>\n",
       "      <td>Mountain View</td>\n",
       "      <td>01-01-2011</td>\n",
       "      <td>/organization/0xdata</td>\n",
       "      <td>/funding-round/3bb2ee4a2d89251a10aaa735b1180e44</td>\n",
       "      <td>venture</td>\n",
       "      <td>09-11-2015</td>\n",
       "      <td>20000000.0</td>\n",
       "    </tr>\n",
       "    <tr>\n",
       "      <td>8</td>\n",
       "      <td>/organization/0xdata</td>\n",
       "      <td>H2O.ai</td>\n",
       "      <td>http://h2o.ai/</td>\n",
       "      <td>analytics</td>\n",
       "      <td>operating</td>\n",
       "      <td>USA</td>\n",
       "      <td>CA</td>\n",
       "      <td>SF Bay Area</td>\n",
       "      <td>Mountain View</td>\n",
       "      <td>01-01-2011</td>\n",
       "      <td>/organization/0xdata</td>\n",
       "      <td>/funding-round/ae2a174c06517c2394aed45006322a7e</td>\n",
       "      <td>venture</td>\n",
       "      <td>03-01-2013</td>\n",
       "      <td>1700000.0</td>\n",
       "    </tr>\n",
       "    <tr>\n",
       "      <td>9</td>\n",
       "      <td>/organization/0xdata</td>\n",
       "      <td>H2O.ai</td>\n",
       "      <td>http://h2o.ai/</td>\n",
       "      <td>analytics</td>\n",
       "      <td>operating</td>\n",
       "      <td>USA</td>\n",
       "      <td>CA</td>\n",
       "      <td>SF Bay Area</td>\n",
       "      <td>Mountain View</td>\n",
       "      <td>01-01-2011</td>\n",
       "      <td>/organization/0xdata</td>\n",
       "      <td>/funding-round/e1cfcbe1bdf4c70277c5f29a3482f24e</td>\n",
       "      <td>venture</td>\n",
       "      <td>19-07-2014</td>\n",
       "      <td>8900000.0</td>\n",
       "    </tr>\n",
       "    <tr>\n",
       "      <td>17</td>\n",
       "      <td>/organization/1-mainstream</td>\n",
       "      <td>1 Mainstream</td>\n",
       "      <td>http://www.1mainstream.com</td>\n",
       "      <td>apps</td>\n",
       "      <td>acquired</td>\n",
       "      <td>USA</td>\n",
       "      <td>CA</td>\n",
       "      <td>SF Bay Area</td>\n",
       "      <td>Cupertino</td>\n",
       "      <td>01-03-2012</td>\n",
       "      <td>/organization/1-mainstream</td>\n",
       "      <td>/funding-round/b952cbaf401f310927430c97b68162ea</td>\n",
       "      <td>venture</td>\n",
       "      <td>17-03-2015</td>\n",
       "      <td>5000000.0</td>\n",
       "    </tr>\n",
       "    <tr>\n",
       "      <td>22</td>\n",
       "      <td>/organization/10-minutes-with</td>\n",
       "      <td>10 Minutes With</td>\n",
       "      <td>http://10minuteswith.com</td>\n",
       "      <td>education</td>\n",
       "      <td>operating</td>\n",
       "      <td>GBR</td>\n",
       "      <td>H9</td>\n",
       "      <td>London</td>\n",
       "      <td>London</td>\n",
       "      <td>01-01-2013</td>\n",
       "      <td>/organization/10-minutes-with</td>\n",
       "      <td>/funding-round/0faccbbcc5818dc5326469f13f5a8ac8</td>\n",
       "      <td>venture</td>\n",
       "      <td>09-10-2014</td>\n",
       "      <td>4000000.0</td>\n",
       "    </tr>\n",
       "    <tr>\n",
       "      <td>27</td>\n",
       "      <td>/organization/1000memories</td>\n",
       "      <td>1000memories</td>\n",
       "      <td>http://1000memories.com</td>\n",
       "      <td>curated web</td>\n",
       "      <td>acquired</td>\n",
       "      <td>USA</td>\n",
       "      <td>CA</td>\n",
       "      <td>SF Bay Area</td>\n",
       "      <td>San Francisco</td>\n",
       "      <td>01-07-2010</td>\n",
       "      <td>/organization/1000memories</td>\n",
       "      <td>/funding-round/502bd0e50c27616995e4bdad24605ef8</td>\n",
       "      <td>venture</td>\n",
       "      <td>16-02-2011</td>\n",
       "      <td>2520000.0</td>\n",
       "    </tr>\n",
       "    <tr>\n",
       "      <td>31</td>\n",
       "      <td>/organization/1000museums-com</td>\n",
       "      <td>1000museums.com</td>\n",
       "      <td>http://www.1000museums.com</td>\n",
       "      <td>curated web</td>\n",
       "      <td>operating</td>\n",
       "      <td>USA</td>\n",
       "      <td>MA</td>\n",
       "      <td>MA - Other</td>\n",
       "      <td>Lenox</td>\n",
       "      <td>01-01-2008</td>\n",
       "      <td>/organization/1000museums-com</td>\n",
       "      <td>/funding-round/13be128d655076a025221d7fddc90d68</td>\n",
       "      <td>venture</td>\n",
       "      <td>14-10-2009</td>\n",
       "      <td>265940.0</td>\n",
       "    </tr>\n",
       "    <tr>\n",
       "      <td>32</td>\n",
       "      <td>/organization/1000museums-com</td>\n",
       "      <td>1000museums.com</td>\n",
       "      <td>http://www.1000museums.com</td>\n",
       "      <td>curated web</td>\n",
       "      <td>operating</td>\n",
       "      <td>USA</td>\n",
       "      <td>MA</td>\n",
       "      <td>MA - Other</td>\n",
       "      <td>Lenox</td>\n",
       "      <td>01-01-2008</td>\n",
       "      <td>/organization/1000museums-com</td>\n",
       "      <td>/funding-round/6aeb32ab3fc05db2b606d7a2466e8c09</td>\n",
       "      <td>venture</td>\n",
       "      <td>15-01-2014</td>\n",
       "      <td>2906832.0</td>\n",
       "    </tr>\n",
       "    <tr>\n",
       "      <td>33</td>\n",
       "      <td>/organization/1000museums-com</td>\n",
       "      <td>1000museums.com</td>\n",
       "      <td>http://www.1000museums.com</td>\n",
       "      <td>curated web</td>\n",
       "      <td>operating</td>\n",
       "      <td>USA</td>\n",
       "      <td>MA</td>\n",
       "      <td>MA - Other</td>\n",
       "      <td>Lenox</td>\n",
       "      <td>01-01-2008</td>\n",
       "      <td>/organization/1000museums-com</td>\n",
       "      <td>/funding-round/89317984885b44f02e4befb9dc2e588c</td>\n",
       "      <td>venture</td>\n",
       "      <td>01-08-2014</td>\n",
       "      <td>1500000.0</td>\n",
       "    </tr>\n",
       "    <tr>\n",
       "      <td>35</td>\n",
       "      <td>/organization/1000museums-com</td>\n",
       "      <td>1000museums.com</td>\n",
       "      <td>http://www.1000museums.com</td>\n",
       "      <td>curated web</td>\n",
       "      <td>operating</td>\n",
       "      <td>USA</td>\n",
       "      <td>MA</td>\n",
       "      <td>MA - Other</td>\n",
       "      <td>Lenox</td>\n",
       "      <td>01-01-2008</td>\n",
       "      <td>/organization/1000museums-com</td>\n",
       "      <td>/funding-round/fd1b3064232ba9b3cfb5653a619e82e8</td>\n",
       "      <td>venture</td>\n",
       "      <td>05-04-2011</td>\n",
       "      <td>642000.0</td>\n",
       "    </tr>\n",
       "    <tr>\n",
       "      <td>47</td>\n",
       "      <td>/organization/100health</td>\n",
       "      <td>Redox</td>\n",
       "      <td>http://www.redoxengine.com</td>\n",
       "      <td>health care</td>\n",
       "      <td>operating</td>\n",
       "      <td>USA</td>\n",
       "      <td>WI</td>\n",
       "      <td>Madison</td>\n",
       "      <td>Madison</td>\n",
       "      <td>04-07-2014</td>\n",
       "      <td>/organization/100health</td>\n",
       "      <td>/funding-round/502f558bee350299fd1ae503e5b9a124</td>\n",
       "      <td>venture</td>\n",
       "      <td>20-10-2015</td>\n",
       "      <td>3530000.0</td>\n",
       "    </tr>\n",
       "    <tr>\n",
       "      <td>49</td>\n",
       "      <td>/organization/100plus</td>\n",
       "      <td>100Plus</td>\n",
       "      <td>http://www.100plus.com</td>\n",
       "      <td>analytics</td>\n",
       "      <td>acquired</td>\n",
       "      <td>USA</td>\n",
       "      <td>CA</td>\n",
       "      <td>SF Bay Area</td>\n",
       "      <td>San Francisco</td>\n",
       "      <td>16-09-2011</td>\n",
       "      <td>/organization/100plus</td>\n",
       "      <td>/funding-round/b5facb0d9dea2f0352b5834892c88c53</td>\n",
       "      <td>venture</td>\n",
       "      <td>02-11-2011</td>\n",
       "      <td>500000.0</td>\n",
       "    </tr>\n",
       "    <tr>\n",
       "      <td>50</td>\n",
       "      <td>/organization/1010data</td>\n",
       "      <td>1010data</td>\n",
       "      <td>http://www.1010data.com</td>\n",
       "      <td>software</td>\n",
       "      <td>acquired</td>\n",
       "      <td>USA</td>\n",
       "      <td>NY</td>\n",
       "      <td>New York City</td>\n",
       "      <td>New York</td>\n",
       "      <td>01-01-2000</td>\n",
       "      <td>/organization/1010data</td>\n",
       "      <td>/funding-round/482fbf992b48f5c47d0080ab7ec0cb54</td>\n",
       "      <td>venture</td>\n",
       "      <td>08-03-2010</td>\n",
       "      <td>35000000.0</td>\n",
       "    </tr>\n",
       "    <tr>\n",
       "      <td>56</td>\n",
       "      <td>/organization/10x-genomics</td>\n",
       "      <td>10X Genomics</td>\n",
       "      <td>http://10xgenomics.com</td>\n",
       "      <td>biotechnology</td>\n",
       "      <td>operating</td>\n",
       "      <td>USA</td>\n",
       "      <td>CA</td>\n",
       "      <td>SF Bay Area</td>\n",
       "      <td>Pleasanton</td>\n",
       "      <td>01-01-2012</td>\n",
       "      <td>/organization/10x-genomics</td>\n",
       "      <td>/funding-round/563923487783bdeb5d0b7872f3d6b99a</td>\n",
       "      <td>venture</td>\n",
       "      <td>12-01-2015</td>\n",
       "      <td>55000000.0</td>\n",
       "    </tr>\n",
       "    <tr>\n",
       "      <td>57</td>\n",
       "      <td>/organization/10x-technologies</td>\n",
       "      <td>10X Technologies</td>\n",
       "      <td>http://10xtechnologies.com</td>\n",
       "      <td>biotechnology</td>\n",
       "      <td>operating</td>\n",
       "      <td>USA</td>\n",
       "      <td>CA</td>\n",
       "      <td>SF Bay Area</td>\n",
       "      <td>Oakland</td>\n",
       "      <td>01-01-2012</td>\n",
       "      <td>/organization/10x-technologies</td>\n",
       "      <td>/funding-round/39c1441d5098875a925577d0f2ad3904</td>\n",
       "      <td>venture</td>\n",
       "      <td>12-01-2015</td>\n",
       "      <td>550000.0</td>\n",
       "    </tr>\n",
       "    <tr>\n",
       "      <td>62</td>\n",
       "      <td>/organization/11i-solutions</td>\n",
       "      <td>11i Solutions</td>\n",
       "      <td>http://www.11isolutions.com</td>\n",
       "      <td>enterprise software</td>\n",
       "      <td>closed</td>\n",
       "      <td>USA</td>\n",
       "      <td>AL</td>\n",
       "      <td>Huntsville</td>\n",
       "      <td>Huntsville</td>\n",
       "      <td>01-01-2012</td>\n",
       "      <td>/organization/11i-solutions</td>\n",
       "      <td>/funding-round/e07501ed6997290b1bef59406bc300a1</td>\n",
       "      <td>venture</td>\n",
       "      <td>22-03-2011</td>\n",
       "      <td>1800000.0</td>\n",
       "    </tr>\n",
       "    <tr>\n",
       "      <td>78</td>\n",
       "      <td>/organization/128-technology</td>\n",
       "      <td>128 Technology</td>\n",
       "      <td>http://www.128technology.com/</td>\n",
       "      <td>service providers</td>\n",
       "      <td>operating</td>\n",
       "      <td>USA</td>\n",
       "      <td>MA</td>\n",
       "      <td>Boston</td>\n",
       "      <td>Burlington</td>\n",
       "      <td>07-07-2014</td>\n",
       "      <td>/organization/128-technology</td>\n",
       "      <td>/funding-round/fb6216a30cb566ede89e0bee0623a634</td>\n",
       "      <td>venture</td>\n",
       "      <td>16-12-2014</td>\n",
       "      <td>11999347.0</td>\n",
       "    </tr>\n",
       "    <tr>\n",
       "      <td>83</td>\n",
       "      <td>/organization/1366-technologies</td>\n",
       "      <td>1366 Technologies</td>\n",
       "      <td>http://www.1366tech.com</td>\n",
       "      <td>manufacturing</td>\n",
       "      <td>operating</td>\n",
       "      <td>USA</td>\n",
       "      <td>MA</td>\n",
       "      <td>Boston</td>\n",
       "      <td>Bedford</td>\n",
       "      <td>01-01-2007</td>\n",
       "      <td>/organization/1366-technologies</td>\n",
       "      <td>/funding-round/2a31dd8a0b006b341cde0f7b721008e6</td>\n",
       "      <td>venture</td>\n",
       "      <td>14-01-2011</td>\n",
       "      <td>2400000.0</td>\n",
       "    </tr>\n",
       "    <tr>\n",
       "      <td>84</td>\n",
       "      <td>/organization/1366-technologies</td>\n",
       "      <td>1366 Technologies</td>\n",
       "      <td>http://www.1366tech.com</td>\n",
       "      <td>manufacturing</td>\n",
       "      <td>operating</td>\n",
       "      <td>USA</td>\n",
       "      <td>MA</td>\n",
       "      <td>Boston</td>\n",
       "      <td>Bedford</td>\n",
       "      <td>01-01-2007</td>\n",
       "      <td>/organization/1366-technologies</td>\n",
       "      <td>/funding-round/31e8a281fe0247f5f13f7be8afe47e01</td>\n",
       "      <td>venture</td>\n",
       "      <td>12-12-2013</td>\n",
       "      <td>2500000.0</td>\n",
       "    </tr>\n",
       "  </tbody>\n",
       "</table>\n",
       "</div>"
      ],
      "text/plain": [
       "                          permalink               name  \\\n",
       "0               /organization/-fame              #fame   \n",
       "7              /organization/0xdata             H2O.ai   \n",
       "8              /organization/0xdata             H2O.ai   \n",
       "9              /organization/0xdata             H2O.ai   \n",
       "17       /organization/1-mainstream       1 Mainstream   \n",
       "22    /organization/10-minutes-with    10 Minutes With   \n",
       "27       /organization/1000memories       1000memories   \n",
       "31    /organization/1000museums-com    1000museums.com   \n",
       "32    /organization/1000museums-com    1000museums.com   \n",
       "33    /organization/1000museums-com    1000museums.com   \n",
       "35    /organization/1000museums-com    1000museums.com   \n",
       "47          /organization/100health              Redox   \n",
       "49            /organization/100plus            100Plus   \n",
       "50           /organization/1010data           1010data   \n",
       "56       /organization/10x-genomics       10X Genomics   \n",
       "57   /organization/10x-technologies   10X Technologies   \n",
       "62      /organization/11i-solutions      11i Solutions   \n",
       "78     /organization/128-technology     128 Technology   \n",
       "83  /organization/1366-technologies  1366 Technologies   \n",
       "84  /organization/1366-technologies  1366 Technologies   \n",
       "\n",
       "                     homepage_url        category_list     status  \\\n",
       "0              http://livfame.com                media  operating   \n",
       "7                  http://h2o.ai/            analytics  operating   \n",
       "8                  http://h2o.ai/            analytics  operating   \n",
       "9                  http://h2o.ai/            analytics  operating   \n",
       "17     http://www.1mainstream.com                 apps   acquired   \n",
       "22       http://10minuteswith.com            education  operating   \n",
       "27        http://1000memories.com          curated web   acquired   \n",
       "31     http://www.1000museums.com          curated web  operating   \n",
       "32     http://www.1000museums.com          curated web  operating   \n",
       "33     http://www.1000museums.com          curated web  operating   \n",
       "35     http://www.1000museums.com          curated web  operating   \n",
       "47     http://www.redoxengine.com          health care  operating   \n",
       "49         http://www.100plus.com            analytics   acquired   \n",
       "50        http://www.1010data.com             software   acquired   \n",
       "56         http://10xgenomics.com        biotechnology  operating   \n",
       "57     http://10xtechnologies.com        biotechnology  operating   \n",
       "62    http://www.11isolutions.com  enterprise software     closed   \n",
       "78  http://www.128technology.com/    service providers  operating   \n",
       "83        http://www.1366tech.com        manufacturing  operating   \n",
       "84        http://www.1366tech.com        manufacturing  operating   \n",
       "\n",
       "   country_code state_code         region           city  founded_at  \\\n",
       "0           IND         16         Mumbai         Mumbai  01-01-2012   \n",
       "7           USA         CA    SF Bay Area  Mountain View  01-01-2011   \n",
       "8           USA         CA    SF Bay Area  Mountain View  01-01-2011   \n",
       "9           USA         CA    SF Bay Area  Mountain View  01-01-2011   \n",
       "17          USA         CA    SF Bay Area      Cupertino  01-03-2012   \n",
       "22          GBR         H9         London         London  01-01-2013   \n",
       "27          USA         CA    SF Bay Area  San Francisco  01-07-2010   \n",
       "31          USA         MA     MA - Other          Lenox  01-01-2008   \n",
       "32          USA         MA     MA - Other          Lenox  01-01-2008   \n",
       "33          USA         MA     MA - Other          Lenox  01-01-2008   \n",
       "35          USA         MA     MA - Other          Lenox  01-01-2008   \n",
       "47          USA         WI        Madison        Madison  04-07-2014   \n",
       "49          USA         CA    SF Bay Area  San Francisco  16-09-2011   \n",
       "50          USA         NY  New York City       New York  01-01-2000   \n",
       "56          USA         CA    SF Bay Area     Pleasanton  01-01-2012   \n",
       "57          USA         CA    SF Bay Area        Oakland  01-01-2012   \n",
       "62          USA         AL     Huntsville     Huntsville  01-01-2012   \n",
       "78          USA         MA         Boston     Burlington  07-07-2014   \n",
       "83          USA         MA         Boston        Bedford  01-01-2007   \n",
       "84          USA         MA         Boston        Bedford  01-01-2007   \n",
       "\n",
       "                  company_permalink  \\\n",
       "0               /organization/-fame   \n",
       "7              /organization/0xdata   \n",
       "8              /organization/0xdata   \n",
       "9              /organization/0xdata   \n",
       "17       /organization/1-mainstream   \n",
       "22    /organization/10-minutes-with   \n",
       "27       /organization/1000memories   \n",
       "31    /organization/1000museums-com   \n",
       "32    /organization/1000museums-com   \n",
       "33    /organization/1000museums-com   \n",
       "35    /organization/1000museums-com   \n",
       "47          /organization/100health   \n",
       "49            /organization/100plus   \n",
       "50           /organization/1010data   \n",
       "56       /organization/10x-genomics   \n",
       "57   /organization/10x-technologies   \n",
       "62      /organization/11i-solutions   \n",
       "78     /organization/128-technology   \n",
       "83  /organization/1366-technologies   \n",
       "84  /organization/1366-technologies   \n",
       "\n",
       "                            funding_round_permalink funding_round_type  \\\n",
       "0   /funding-round/9a01d05418af9f794eebff7ace91f638            venture   \n",
       "7   /funding-round/3bb2ee4a2d89251a10aaa735b1180e44            venture   \n",
       "8   /funding-round/ae2a174c06517c2394aed45006322a7e            venture   \n",
       "9   /funding-round/e1cfcbe1bdf4c70277c5f29a3482f24e            venture   \n",
       "17  /funding-round/b952cbaf401f310927430c97b68162ea            venture   \n",
       "22  /funding-round/0faccbbcc5818dc5326469f13f5a8ac8            venture   \n",
       "27  /funding-round/502bd0e50c27616995e4bdad24605ef8            venture   \n",
       "31  /funding-round/13be128d655076a025221d7fddc90d68            venture   \n",
       "32  /funding-round/6aeb32ab3fc05db2b606d7a2466e8c09            venture   \n",
       "33  /funding-round/89317984885b44f02e4befb9dc2e588c            venture   \n",
       "35  /funding-round/fd1b3064232ba9b3cfb5653a619e82e8            venture   \n",
       "47  /funding-round/502f558bee350299fd1ae503e5b9a124            venture   \n",
       "49  /funding-round/b5facb0d9dea2f0352b5834892c88c53            venture   \n",
       "50  /funding-round/482fbf992b48f5c47d0080ab7ec0cb54            venture   \n",
       "56  /funding-round/563923487783bdeb5d0b7872f3d6b99a            venture   \n",
       "57  /funding-round/39c1441d5098875a925577d0f2ad3904            venture   \n",
       "62  /funding-round/e07501ed6997290b1bef59406bc300a1            venture   \n",
       "78  /funding-round/fb6216a30cb566ede89e0bee0623a634            venture   \n",
       "83  /funding-round/2a31dd8a0b006b341cde0f7b721008e6            venture   \n",
       "84  /funding-round/31e8a281fe0247f5f13f7be8afe47e01            venture   \n",
       "\n",
       "     funded_at  raised_amount_usd  \n",
       "0   05-01-2015         10000000.0  \n",
       "7   09-11-2015         20000000.0  \n",
       "8   03-01-2013          1700000.0  \n",
       "9   19-07-2014          8900000.0  \n",
       "17  17-03-2015          5000000.0  \n",
       "22  09-10-2014          4000000.0  \n",
       "27  16-02-2011          2520000.0  \n",
       "31  14-10-2009           265940.0  \n",
       "32  15-01-2014          2906832.0  \n",
       "33  01-08-2014          1500000.0  \n",
       "35  05-04-2011           642000.0  \n",
       "47  20-10-2015          3530000.0  \n",
       "49  02-11-2011           500000.0  \n",
       "50  08-03-2010         35000000.0  \n",
       "56  12-01-2015         55000000.0  \n",
       "57  12-01-2015           550000.0  \n",
       "62  22-03-2011          1800000.0  \n",
       "78  16-12-2014         11999347.0  \n",
       "83  14-01-2011          2400000.0  \n",
       "84  12-12-2013          2500000.0  "
      ]
     },
     "execution_count": 75,
     "metadata": {},
     "output_type": "execute_result"
    }
   ],
   "source": [
    "mapping.head(100)\n",
    "top3_engl.head(20)"
   ]
  },
  {
   "cell_type": "code",
   "execution_count": 76,
   "metadata": {},
   "outputs": [
    {
     "data": {
      "text/html": [
       "<div>\n",
       "<style scoped>\n",
       "    .dataframe tbody tr th:only-of-type {\n",
       "        vertical-align: middle;\n",
       "    }\n",
       "\n",
       "    .dataframe tbody tr th {\n",
       "        vertical-align: top;\n",
       "    }\n",
       "\n",
       "    .dataframe thead th {\n",
       "        text-align: right;\n",
       "    }\n",
       "</style>\n",
       "<table border=\"1\" class=\"dataframe\">\n",
       "  <thead>\n",
       "    <tr style=\"text-align: right;\">\n",
       "      <th></th>\n",
       "      <th>permalink</th>\n",
       "      <th>name</th>\n",
       "      <th>homepage_url</th>\n",
       "      <th>category_list</th>\n",
       "      <th>status</th>\n",
       "      <th>country_code</th>\n",
       "      <th>state_code</th>\n",
       "      <th>region</th>\n",
       "      <th>city</th>\n",
       "      <th>founded_at</th>\n",
       "      <th>company_permalink</th>\n",
       "      <th>funding_round_permalink</th>\n",
       "      <th>funding_round_type</th>\n",
       "      <th>funded_at</th>\n",
       "      <th>raised_amount_usd</th>\n",
       "      <th>main_sector</th>\n",
       "    </tr>\n",
       "  </thead>\n",
       "  <tbody>\n",
       "    <tr>\n",
       "      <td>0</td>\n",
       "      <td>/organization/-fame</td>\n",
       "      <td>#fame</td>\n",
       "      <td>http://livfame.com</td>\n",
       "      <td>media</td>\n",
       "      <td>operating</td>\n",
       "      <td>IND</td>\n",
       "      <td>16</td>\n",
       "      <td>Mumbai</td>\n",
       "      <td>Mumbai</td>\n",
       "      <td>01-01-2012</td>\n",
       "      <td>/organization/-fame</td>\n",
       "      <td>/funding-round/9a01d05418af9f794eebff7ace91f638</td>\n",
       "      <td>venture</td>\n",
       "      <td>05-01-2015</td>\n",
       "      <td>10000000.0</td>\n",
       "      <td>Entertainment</td>\n",
       "    </tr>\n",
       "    <tr>\n",
       "      <td>1</td>\n",
       "      <td>/organization/0xdata</td>\n",
       "      <td>H2O.ai</td>\n",
       "      <td>http://h2o.ai/</td>\n",
       "      <td>analytics</td>\n",
       "      <td>operating</td>\n",
       "      <td>USA</td>\n",
       "      <td>CA</td>\n",
       "      <td>SF Bay Area</td>\n",
       "      <td>Mountain View</td>\n",
       "      <td>01-01-2011</td>\n",
       "      <td>/organization/0xdata</td>\n",
       "      <td>/funding-round/3bb2ee4a2d89251a10aaa735b1180e44</td>\n",
       "      <td>venture</td>\n",
       "      <td>09-11-2015</td>\n",
       "      <td>20000000.0</td>\n",
       "      <td>Social, Finance, Analytics, Advertising</td>\n",
       "    </tr>\n",
       "    <tr>\n",
       "      <td>2</td>\n",
       "      <td>/organization/0xdata</td>\n",
       "      <td>H2O.ai</td>\n",
       "      <td>http://h2o.ai/</td>\n",
       "      <td>analytics</td>\n",
       "      <td>operating</td>\n",
       "      <td>USA</td>\n",
       "      <td>CA</td>\n",
       "      <td>SF Bay Area</td>\n",
       "      <td>Mountain View</td>\n",
       "      <td>01-01-2011</td>\n",
       "      <td>/organization/0xdata</td>\n",
       "      <td>/funding-round/ae2a174c06517c2394aed45006322a7e</td>\n",
       "      <td>venture</td>\n",
       "      <td>03-01-2013</td>\n",
       "      <td>1700000.0</td>\n",
       "      <td>Social, Finance, Analytics, Advertising</td>\n",
       "    </tr>\n",
       "    <tr>\n",
       "      <td>3</td>\n",
       "      <td>/organization/0xdata</td>\n",
       "      <td>H2O.ai</td>\n",
       "      <td>http://h2o.ai/</td>\n",
       "      <td>analytics</td>\n",
       "      <td>operating</td>\n",
       "      <td>USA</td>\n",
       "      <td>CA</td>\n",
       "      <td>SF Bay Area</td>\n",
       "      <td>Mountain View</td>\n",
       "      <td>01-01-2011</td>\n",
       "      <td>/organization/0xdata</td>\n",
       "      <td>/funding-round/e1cfcbe1bdf4c70277c5f29a3482f24e</td>\n",
       "      <td>venture</td>\n",
       "      <td>19-07-2014</td>\n",
       "      <td>8900000.0</td>\n",
       "      <td>Social, Finance, Analytics, Advertising</td>\n",
       "    </tr>\n",
       "    <tr>\n",
       "      <td>4</td>\n",
       "      <td>/organization/1-mainstream</td>\n",
       "      <td>1 Mainstream</td>\n",
       "      <td>http://www.1mainstream.com</td>\n",
       "      <td>apps</td>\n",
       "      <td>acquired</td>\n",
       "      <td>USA</td>\n",
       "      <td>CA</td>\n",
       "      <td>SF Bay Area</td>\n",
       "      <td>Cupertino</td>\n",
       "      <td>01-03-2012</td>\n",
       "      <td>/organization/1-mainstream</td>\n",
       "      <td>/funding-round/b952cbaf401f310927430c97b68162ea</td>\n",
       "      <td>venture</td>\n",
       "      <td>17-03-2015</td>\n",
       "      <td>5000000.0</td>\n",
       "      <td>News, Search and Messaging</td>\n",
       "    </tr>\n",
       "  </tbody>\n",
       "</table>\n",
       "</div>"
      ],
      "text/plain": [
       "                    permalink          name                homepage_url  \\\n",
       "0         /organization/-fame         #fame          http://livfame.com   \n",
       "1        /organization/0xdata        H2O.ai              http://h2o.ai/   \n",
       "2        /organization/0xdata        H2O.ai              http://h2o.ai/   \n",
       "3        /organization/0xdata        H2O.ai              http://h2o.ai/   \n",
       "4  /organization/1-mainstream  1 Mainstream  http://www.1mainstream.com   \n",
       "\n",
       "  category_list     status country_code state_code       region  \\\n",
       "0         media  operating          IND         16       Mumbai   \n",
       "1     analytics  operating          USA         CA  SF Bay Area   \n",
       "2     analytics  operating          USA         CA  SF Bay Area   \n",
       "3     analytics  operating          USA         CA  SF Bay Area   \n",
       "4          apps   acquired          USA         CA  SF Bay Area   \n",
       "\n",
       "            city  founded_at           company_permalink  \\\n",
       "0         Mumbai  01-01-2012         /organization/-fame   \n",
       "1  Mountain View  01-01-2011        /organization/0xdata   \n",
       "2  Mountain View  01-01-2011        /organization/0xdata   \n",
       "3  Mountain View  01-01-2011        /organization/0xdata   \n",
       "4      Cupertino  01-03-2012  /organization/1-mainstream   \n",
       "\n",
       "                           funding_round_permalink funding_round_type  \\\n",
       "0  /funding-round/9a01d05418af9f794eebff7ace91f638            venture   \n",
       "1  /funding-round/3bb2ee4a2d89251a10aaa735b1180e44            venture   \n",
       "2  /funding-round/ae2a174c06517c2394aed45006322a7e            venture   \n",
       "3  /funding-round/e1cfcbe1bdf4c70277c5f29a3482f24e            venture   \n",
       "4  /funding-round/b952cbaf401f310927430c97b68162ea            venture   \n",
       "\n",
       "    funded_at  raised_amount_usd                              main_sector  \n",
       "0  05-01-2015         10000000.0                            Entertainment  \n",
       "1  09-11-2015         20000000.0  Social, Finance, Analytics, Advertising  \n",
       "2  03-01-2013          1700000.0  Social, Finance, Analytics, Advertising  \n",
       "3  19-07-2014          8900000.0  Social, Finance, Analytics, Advertising  \n",
       "4  17-03-2015          5000000.0               News, Search and Messaging  "
      ]
     },
     "execution_count": 76,
     "metadata": {},
     "output_type": "execute_result"
    }
   ],
   "source": [
    "top3_engl = pd.merge(top3_engl, mapping, how='left', on='category_list')\n",
    "top3_engl.head()"
   ]
  },
  {
   "cell_type": "code",
   "execution_count": 77,
   "metadata": {},
   "outputs": [
    {
     "data": {
      "text/plain": [
       "permalink                  0.00\n",
       "name                       0.00\n",
       "homepage_url               0.00\n",
       "category_list              0.00\n",
       "status                     0.00\n",
       "country_code               0.00\n",
       "state_code                 0.00\n",
       "region                     0.00\n",
       "city                       0.00\n",
       "founded_at                 0.00\n",
       "company_permalink          0.00\n",
       "funding_round_permalink    0.00\n",
       "funding_round_type         0.00\n",
       "funded_at                  0.00\n",
       "raised_amount_usd          0.00\n",
       "main_sector                0.04\n",
       "dtype: float64"
      ]
     },
     "execution_count": 77,
     "metadata": {},
     "output_type": "execute_result"
    }
   ],
   "source": [
    "round(100*(top3_engl.isnull().sum()/len(top3_engl.index)), 2)"
   ]
  },
  {
   "cell_type": "code",
   "execution_count": 78,
   "metadata": {},
   "outputs": [
    {
     "data": {
      "text/plain": [
       "13"
      ]
     },
     "execution_count": 78,
     "metadata": {},
     "output_type": "execute_result"
    }
   ],
   "source": [
    "len(top3_engl[top3_engl.main_sector.isnull()])"
   ]
  },
  {
   "cell_type": "code",
   "execution_count": 79,
   "metadata": {},
   "outputs": [
    {
     "data": {
      "text/plain": [
       "(36871, 16)"
      ]
     },
     "execution_count": 79,
     "metadata": {},
     "output_type": "execute_result"
    }
   ],
   "source": [
    "top3_engl.shape"
   ]
  },
  {
   "cell_type": "markdown",
   "metadata": {},
   "source": [
    "Hence deleting these null main sector values."
   ]
  },
  {
   "cell_type": "code",
   "execution_count": 80,
   "metadata": {},
   "outputs": [
    {
     "data": {
      "text/plain": [
       "36858"
      ]
     },
     "execution_count": 80,
     "metadata": {},
     "output_type": "execute_result"
    }
   ],
   "source": [
    "top3_engl = top3_engl[~(top3_engl.main_sector.isnull())]\n",
    "len(top3_engl.index)"
   ]
  },
  {
   "cell_type": "markdown",
   "metadata": {},
   "source": [
    "### Checkpoint 5: Sector Analysis"
   ]
  },
  {
   "cell_type": "markdown",
   "metadata": {},
   "source": [
    "Now we have to create 3 DataFrames for Country1,Country2 and Country3."
   ]
  },
  {
   "cell_type": "code",
   "execution_count": 81,
   "metadata": {},
   "outputs": [],
   "source": [
    "top3_engl = top3_engl.drop(top3_engl[(top3_engl.raised_amount_usd < 5000000)].index)\n",
    "top3_engl = top3_engl.drop(top3_engl[(top3_engl.raised_amount_usd > 15000000)].index)\n",
    "\n",
    "D1 = top3_engl[top3_engl['country_code'] == 'USA']\n",
    "D2 = top3_engl[top3_engl['country_code'] == 'GBR']\n",
    "D3 = top3_engl[top3_engl['country_code'] == 'IND']"
   ]
  },
  {
   "cell_type": "markdown",
   "metadata": {},
   "source": [
    " Data frame D1 analysis for country United States of America"
   ]
  },
  {
   "cell_type": "code",
   "execution_count": 82,
   "metadata": {},
   "outputs": [
    {
     "name": "stdout",
     "output_type": "stream",
     "text": [
      "                          permalink               name  \\\n",
      "3              /organization/0xdata             H2O.ai   \n",
      "4        /organization/1-mainstream       1 Mainstream   \n",
      "17     /organization/128-technology     128 Technology   \n",
      "20  /organization/1366-technologies  1366 Technologies   \n",
      "21  /organization/1366-technologies  1366 Technologies   \n",
      "\n",
      "                     homepage_url      category_list     status country_code  \\\n",
      "3                  http://h2o.ai/          analytics  operating          USA   \n",
      "4      http://www.1mainstream.com               apps   acquired          USA   \n",
      "17  http://www.128technology.com/  service providers  operating          USA   \n",
      "20        http://www.1366tech.com      manufacturing  operating          USA   \n",
      "21        http://www.1366tech.com      manufacturing  operating          USA   \n",
      "\n",
      "   state_code       region           city  founded_at  \\\n",
      "3          CA  SF Bay Area  Mountain View  01-01-2011   \n",
      "4          CA  SF Bay Area      Cupertino  01-03-2012   \n",
      "17         MA       Boston     Burlington  07-07-2014   \n",
      "20         MA       Boston        Bedford  01-01-2007   \n",
      "21         MA       Boston        Bedford  01-01-2007   \n",
      "\n",
      "                  company_permalink  \\\n",
      "3              /organization/0xdata   \n",
      "4        /organization/1-mainstream   \n",
      "17     /organization/128-technology   \n",
      "20  /organization/1366-technologies   \n",
      "21  /organization/1366-technologies   \n",
      "\n",
      "                            funding_round_permalink funding_round_type  \\\n",
      "3   /funding-round/e1cfcbe1bdf4c70277c5f29a3482f24e            venture   \n",
      "4   /funding-round/b952cbaf401f310927430c97b68162ea            venture   \n",
      "17  /funding-round/fb6216a30cb566ede89e0bee0623a634            venture   \n",
      "20  /funding-round/424129ce1235cfab2655ee81305f7c2b            venture   \n",
      "21  /funding-round/6d3f3797371956ece035b8478c1441b2            venture   \n",
      "\n",
      "     funded_at  raised_amount_usd                              main_sector  \n",
      "3   19-07-2014          8900000.0  Social, Finance, Analytics, Advertising  \n",
      "4   17-03-2015          5000000.0               News, Search and Messaging  \n",
      "17  16-12-2014         11999347.0                                   Others  \n",
      "20  15-10-2013         15000000.0                            Manufacturing  \n",
      "21  09-04-2015          5000000.0                            Manufacturing  \n"
     ]
    }
   ],
   "source": [
    "print(D1.head())"
   ]
  },
  {
   "cell_type": "code",
   "execution_count": 83,
   "metadata": {},
   "outputs": [
    {
     "data": {
      "text/plain": [
       "102541992937.0"
      ]
     },
     "execution_count": 83,
     "metadata": {},
     "output_type": "execute_result"
    }
   ],
   "source": [
    "D1.raised_amount_usd.sum()"
   ]
  },
  {
   "cell_type": "code",
   "execution_count": 84,
   "metadata": {},
   "outputs": [
    {
     "data": {
      "text/plain": [
       "11487"
      ]
     },
     "execution_count": 84,
     "metadata": {},
     "output_type": "execute_result"
    }
   ],
   "source": [
    "D1.raised_amount_usd.count()"
   ]
  },
  {
   "cell_type": "code",
   "execution_count": 85,
   "metadata": {},
   "outputs": [
    {
     "data": {
      "text/plain": [
       "(11487, 16)"
      ]
     },
     "execution_count": 85,
     "metadata": {},
     "output_type": "execute_result"
    }
   ],
   "source": [
    "D1.shape"
   ]
  },
  {
   "cell_type": "code",
   "execution_count": 86,
   "metadata": {},
   "outputs": [
    {
     "name": "stdout",
     "output_type": "stream",
     "text": [
      "                                permalink                           name  \\\n",
      "3                    /organization/0xdata                         H2O.ai   \n",
      "4              /organization/1-mainstream                   1 Mainstream   \n",
      "17           /organization/128-technology                 128 Technology   \n",
      "20        /organization/1366-technologies              1366 Technologies   \n",
      "21        /organization/1366-technologies              1366 Technologies   \n",
      "22        /organization/1366-technologies              1366 Technologies   \n",
      "23        /organization/1366-technologies              1366 Technologies   \n",
      "24        /organization/1366-technologies              1366 Technologies   \n",
      "28              /organization/170-systems                    170 Systems   \n",
      "30                  /organization/17zuoye                        17zuoye   \n",
      "31                  /organization/17zuoye                        17zuoye   \n",
      "34                     /organization/1bog  One Block Off the Grid (1BOG)   \n",
      "39                  /organization/1stdibs                        1stdibs   \n",
      "51                     /organization/21e6                         21 Inc   \n",
      "52       /organization/22nd-century-group             22nd Century Group   \n",
      "57                  /organization/23andme                        23andMe   \n",
      "58                  /organization/23andme                        23andMe   \n",
      "60                  /organization/23andme                        23andMe   \n",
      "64                   /organization/28msec                         28msec   \n",
      "69                /organization/2nd-watch                      2nd Watch   \n",
      "92                 /organization/33across                       33Across   \n",
      "94                 /organization/33across                       33Across   \n",
      "112             /organization/3d-robotics                    3D Robotics   \n",
      "113             /organization/3d-robotics                    3D Robotics   \n",
      "137          /organization/3pillar-global                 3Pillar Global   \n",
      "165                /organization/42floors                       42Floors   \n",
      "166                /organization/42floors                       42Floors   \n",
      "211    /organization/7-star-entertainment           7 Star Entertainment   \n",
      "227                 /organization/8dworld                       8D World   \n",
      "228                 /organization/8dworld                       8D World   \n",
      "246             /organization/a-bit-lucky                    A Bit Lucky   \n",
      "295         /organization/ability-network                ABILITY Network   \n",
      "346   /organization/abt-molecular-imaging          ABT Molecular Imaging   \n",
      "347   /organization/abt-molecular-imaging          ABT Molecular Imaging   \n",
      "348   /organization/abt-molecular-imaging          ABT Molecular Imaging   \n",
      "373              /organization/accelecare       AcceleCare Wound Centers   \n",
      "568                  /organization/acquia                         Acquia   \n",
      "817                /organization/additech                       Additech   \n",
      "1254         /organization/agm-automotive                 AGM Automotive   \n",
      "1316             /organization/airbiquity                     Airbiquity   \n",
      "\n",
      "                                  homepage_url           category_list  \\\n",
      "3                               http://h2o.ai/               analytics   \n",
      "4                   http://www.1mainstream.com                    apps   \n",
      "17               http://www.128technology.com/       service providers   \n",
      "20                     http://www.1366tech.com           manufacturing   \n",
      "21                     http://www.1366tech.com           manufacturing   \n",
      "22                     http://www.1366tech.com           manufacturing   \n",
      "23                     http://www.1366tech.com           manufacturing   \n",
      "24                     http://www.1366tech.com           manufacturing   \n",
      "28                   http://www.170systems.com                software   \n",
      "30                     http://www.17zuoye.com/               education   \n",
      "31                     http://www.17zuoye.com/               education   \n",
      "34                             http://1bog.org        clean technology   \n",
      "39                      http://www.1stdibs.com              e-commerce   \n",
      "51                               https://21.co                big data   \n",
      "52                  http://www.xxiicentury.com           biotechnology   \n",
      "57                          http://23andme.com           biotechnology   \n",
      "58                          http://23andme.com           biotechnology   \n",
      "60                          http://23andme.com           biotechnology   \n",
      "64                       http://www.28msec.com         cloud computing   \n",
      "69                         http://2ndwatch.com    cloud infrastructure   \n",
      "92                     http://www.33across.com             advertising   \n",
      "94                     http://www.33across.com             advertising   \n",
      "112                      http://3drobotics.com                  drones   \n",
      "113                      http://3drobotics.com                  drones   \n",
      "137               http://www.3pillarglobal.com              consulting   \n",
      "165                        http://42floors.com  commercial real estate   \n",
      "166                        http://42floors.com  commercial real estate   \n",
      "211                    http://www.7starent.com                   games   \n",
      "227   http://www.8dworld.com/English/Home.html                   games   \n",
      "228   http://www.8dworld.com/English/Home.html                   games   \n",
      "246                   http://www.abitlucky.com                   games   \n",
      "295              http://www.abilitynetwork.com             health care   \n",
      "346               http://advancedbiomarker.com             health care   \n",
      "347               http://advancedbiomarker.com             health care   \n",
      "348               http://advancedbiomarker.com             health care   \n",
      "373                      http://accelecare.com             health care   \n",
      "568                          http://acquia.com                 content   \n",
      "817                    http://www.additech.com              automotive   \n",
      "1254                  http://agmautomotive.com              automotive   \n",
      "1316                 http://www.airbiquity.com              automotive   \n",
      "\n",
      "         status country_code state_code            region           city  \\\n",
      "3     operating          USA         CA       SF Bay Area  Mountain View   \n",
      "4      acquired          USA         CA       SF Bay Area      Cupertino   \n",
      "17    operating          USA         MA            Boston     Burlington   \n",
      "20    operating          USA         MA            Boston        Bedford   \n",
      "21    operating          USA         MA            Boston        Bedford   \n",
      "22    operating          USA         MA            Boston        Bedford   \n",
      "23    operating          USA         MA            Boston        Bedford   \n",
      "24    operating          USA         MA            Boston        Bedford   \n",
      "28     acquired          USA         MA            Boston        Bedford   \n",
      "30    operating          USA         VA        VA - Other       Shanghai   \n",
      "31    operating          USA         VA        VA - Other       Shanghai   \n",
      "34       closed          USA         CA       SF Bay Area  San Francisco   \n",
      "39    operating          USA         NY     New York City       New York   \n",
      "51    operating          USA         CA       SF Bay Area  San Francisco   \n",
      "52          ipo          USA         NY        NY - Other       Clarence   \n",
      "57    operating          USA         CA       SF Bay Area  Mountain View   \n",
      "58    operating          USA         CA       SF Bay Area  Mountain View   \n",
      "60    operating          USA         CA       SF Bay Area  Mountain View   \n",
      "64    operating          USA         CA       SF Bay Area      Palo Alto   \n",
      "69    operating          USA         WA           Seattle        Seattle   \n",
      "92    operating          USA         NY     New York City       New York   \n",
      "94    operating          USA         NY     New York City       New York   \n",
      "112   operating          USA         CA         San Diego      San Diego   \n",
      "113   operating          USA         CA         San Diego      San Diego   \n",
      "137   operating          USA         VA  Washington, D.C.        Fairfax   \n",
      "165   operating          USA         CA       SF Bay Area  San Francisco   \n",
      "166   operating          USA         CA       SF Bay Area  San Francisco   \n",
      "211   operating          USA         FL    Ft. Lauderdale  Pompano Beach   \n",
      "227      closed          USA         MA            Boston         Woburn   \n",
      "228      closed          USA         MA            Boston         Woburn   \n",
      "246      closed          USA         CA       SF Bay Area      San Mateo   \n",
      "295   operating          USA         MN       Minneapolis    Minneapolis   \n",
      "346   operating          USA         TN         Knoxville      Knoxville   \n",
      "347   operating          USA         TN         Knoxville      Knoxville   \n",
      "348   operating          USA         TN         Knoxville      Knoxville   \n",
      "373    acquired          USA         WA           Seattle       Bellevue   \n",
      "568   operating          USA         MA            Boston     Burlington   \n",
      "817   operating          USA         TX           Houston        Houston   \n",
      "1254  operating          USA         MI           Detroit           Troy   \n",
      "1316  operating          USA         WA           Seattle        Seattle   \n",
      "\n",
      "      founded_at                    company_permalink  \\\n",
      "3     01-01-2011                 /organization/0xdata   \n",
      "4     01-03-2012           /organization/1-mainstream   \n",
      "17    07-07-2014         /organization/128-technology   \n",
      "20    01-01-2007      /organization/1366-technologies   \n",
      "21    01-01-2007      /organization/1366-technologies   \n",
      "22    01-01-2007      /organization/1366-technologies   \n",
      "23    01-01-2007      /organization/1366-technologies   \n",
      "24    01-01-2007      /organization/1366-technologies   \n",
      "28    01-01-1990            /organization/170-systems   \n",
      "30    01-01-2007                /organization/17zuoye   \n",
      "31    01-01-2007                /organization/17zuoye   \n",
      "34    01-11-2008                   /organization/1bog   \n",
      "39    01-01-2001                /organization/1stdibs   \n",
      "51    01-05-2013                   /organization/21e6   \n",
      "52    01-01-1998     /organization/22nd-century-group   \n",
      "57    01-04-2006                /organization/23andme   \n",
      "58    01-04-2006                /organization/23andme   \n",
      "60    01-04-2006                /organization/23andme   \n",
      "64    01-01-2008                 /organization/28msec   \n",
      "69    01-01-2010              /organization/2nd-watch   \n",
      "92    01-09-2007               /organization/33across   \n",
      "94    01-09-2007               /organization/33across   \n",
      "112   01-01-2009            /organization/3d-robotics   \n",
      "113   01-01-2009            /organization/3d-robotics   \n",
      "137   01-08-2006         /organization/3pillar-global   \n",
      "165   01-01-2011               /organization/42floors   \n",
      "166   01-01-2011               /organization/42floors   \n",
      "211   01-01-2012   /organization/7-star-entertainment   \n",
      "227   01-01-2012                /organization/8dworld   \n",
      "228   01-01-2012                /organization/8dworld   \n",
      "246   01-10-2009            /organization/a-bit-lucky   \n",
      "295   01-01-2000        /organization/ability-network   \n",
      "346   01-01-2006  /organization/abt-molecular-imaging   \n",
      "347   01-01-2006  /organization/abt-molecular-imaging   \n",
      "348   01-01-2006  /organization/abt-molecular-imaging   \n",
      "373   01-01-2012             /organization/accelecare   \n",
      "568   01-05-2007                 /organization/acquia   \n",
      "817   01-01-1995               /organization/additech   \n",
      "1254  01-02-2001         /organization/agm-automotive   \n",
      "1316  01-01-1997             /organization/airbiquity   \n",
      "\n",
      "                              funding_round_permalink funding_round_type  \\\n",
      "3     /funding-round/e1cfcbe1bdf4c70277c5f29a3482f24e            venture   \n",
      "4     /funding-round/b952cbaf401f310927430c97b68162ea            venture   \n",
      "17    /funding-round/fb6216a30cb566ede89e0bee0623a634            venture   \n",
      "20    /funding-round/424129ce1235cfab2655ee81305f7c2b            venture   \n",
      "21    /funding-round/6d3f3797371956ece035b8478c1441b2            venture   \n",
      "22    /funding-round/786f61aa9866f4471151285f5c56be36            venture   \n",
      "23    /funding-round/82ace97530965cd2be8f262836b43ff5            venture   \n",
      "24    /funding-round/ab99fc5a53717b1b53fd6aa5687c5fa9            venture   \n",
      "28    /funding-round/b84bb882ca873f5fb96535671981196d            venture   \n",
      "30    /funding-round/69690484f51e15bc27ff52bfe472cd96            venture   \n",
      "31    /funding-round/8d87f771e938e0f31641bd600abbafca            venture   \n",
      "34    /funding-round/3d2463c9b97f32b3be8747fbd629961f            venture   \n",
      "39    /funding-round/292b074d073fdd9c7e9d8f372c3aa5f6            venture   \n",
      "51    /funding-round/bdf9f5bf67ee51155eae223acac57ec5            venture   \n",
      "52    /funding-round/50617d7ea8eaa838e2fd8eb8dfe06054            venture   \n",
      "57    /funding-round/97062e0d50c2955cbe40bf8220d87b08            venture   \n",
      "58    /funding-round/c27c1b420dfb34677a6ba449524f1c88            venture   \n",
      "60    /funding-round/f261366b4fbf1840ad71b20ea0d9c7ce            venture   \n",
      "64    /funding-round/ce3a68e4a52892784f1ad085e5d7035a            venture   \n",
      "69    /funding-round/08108acd1a58480a1331ee7d4bc9abda            venture   \n",
      "92    /funding-round/a45d977b48cb54216eb705d59b24ca19            venture   \n",
      "94    /funding-round/bfc2233768b7c79ed58ad7561423e555            venture   \n",
      "112   /funding-round/2785595770e91ab8fd4854ef125ec563            venture   \n",
      "113   /funding-round/7ca0d4dc119b6d65eebfb352c3544542            venture   \n",
      "137   /funding-round/5e3af748b15d27446e226604e4600531            venture   \n",
      "165   /funding-round/b9050f1052d6caa5fbca1a1a9f86f93f            venture   \n",
      "166   /funding-round/cc48bd0e08605c35cf4d67942b20321f            venture   \n",
      "211   /funding-round/7db2e0412185f592d15df25f0e76c313            venture   \n",
      "227   /funding-round/ab2db8ac1e851867a37b3880a2eda6b0            venture   \n",
      "228   /funding-round/ca5833d22f42a788838850faf2774f3e            venture   \n",
      "246   /funding-round/fd5a8098be07e043d04a9c024f70fa56            venture   \n",
      "295   /funding-round/b8cc7365f0609dcf1fc9b915c7bcf3bb            venture   \n",
      "346   /funding-round/048d5b8e1a020bdc218ab8167661cf2c            venture   \n",
      "347   /funding-round/5bea4f293613a8d5495b86d782838200            venture   \n",
      "348   /funding-round/ac3ed053f5adbd2bda4da4172e1fa6bf            venture   \n",
      "373   /funding-round/bcef57a54867923b45c7c3f3062afcfd            venture   \n",
      "568   /funding-round/38f0821e995d3ff2bf9557fce2eb9e4f            venture   \n",
      "817   /funding-round/c1c50ebc27ce45adbdd21e0b121fd23a            venture   \n",
      "1254  /funding-round/0ac85ce267380a3fd4a7e0cea153dfe1            venture   \n",
      "1316  /funding-round/c6909a12d18862ebd5173dd1ee6abd6a            venture   \n",
      "\n",
      "       funded_at  raised_amount_usd                              main_sector  \n",
      "3     19-07-2014          8900000.0  Social, Finance, Analytics, Advertising  \n",
      "4     17-03-2015          5000000.0               News, Search and Messaging  \n",
      "17    16-12-2014         11999347.0                                   Others  \n",
      "20    15-10-2013         15000000.0                            Manufacturing  \n",
      "21    09-04-2015          5000000.0                            Manufacturing  \n",
      "22    03-02-2010          5150000.0                            Manufacturing  \n",
      "23    27-03-2008         12400000.0                            Manufacturing  \n",
      "24    16-12-2010          6000000.0                            Manufacturing  \n",
      "28    16-04-2002         14000000.0                                   Others  \n",
      "30    01-01-2011          5000000.0                                   Others  \n",
      "31    01-09-2013         10000000.0                                   Others  \n",
      "34    11-02-2010          5000000.0               Cleantech / Semiconductors  \n",
      "39    24-01-2014         15000000.0                                   Others  \n",
      "51    17-11-2013          5050000.0  Social, Finance, Analytics, Advertising  \n",
      "52    18-09-2014         10000000.0               Cleantech / Semiconductors  \n",
      "57    07-01-2011          9000000.0               Cleantech / Semiconductors  \n",
      "58    18-06-2009         12600000.0               Cleantech / Semiconductors  \n",
      "60    03-10-2007          9000000.0               Cleantech / Semiconductors  \n",
      "64    28-10-2013          5844811.0               News, Search and Messaging  \n",
      "69    14-10-2014         10000000.0               News, Search and Messaging  \n",
      "92    19-07-2012         13100000.0  Social, Finance, Analytics, Advertising  \n",
      "94    05-01-2011          9000000.0  Social, Finance, Analytics, Advertising  \n",
      "112   05-11-2012          5000000.0                      Automotive & Sports  \n",
      "113   23-04-2015         14000000.0                      Automotive & Sports  \n",
      "137   06-06-2013         12000000.0  Social, Finance, Analytics, Advertising  \n",
      "165   31-01-2013         12000000.0               News, Search and Messaging  \n",
      "166   16-11-2012          5000000.0               News, Search and Messaging  \n",
      "211   14-07-2010         10000000.0                            Entertainment  \n",
      "227   09-12-2010          5250000.0                            Entertainment  \n",
      "228   01-03-2008          7000000.0                            Entertainment  \n",
      "246   25-03-2011          7712103.0                            Entertainment  \n",
      "295   01-01-2007          5000000.0                                   Health  \n",
      "346   21-01-2010          9000000.0                                   Health  \n",
      "347   06-10-2009          6000000.0                                   Health  \n",
      "348   13-09-2012          6000000.0                                   Health  \n",
      "373   03-07-2007         10000000.0                                   Health  \n",
      "568   20-07-2011         15000000.0                            Entertainment  \n",
      "817   09-08-2006          6000000.0                      Automotive & Sports  \n",
      "1254  30-04-2014         12500000.0                      Automotive & Sports  \n",
      "1316  13-09-2012         10419873.0                      Automotive & Sports  \n"
     ]
    }
   ],
   "source": [
    "D1_by_sector=D1.groupby('main_sector')\n",
    "print(D1_by_sector.head())"
   ]
  },
  {
   "cell_type": "code",
   "execution_count": 87,
   "metadata": {},
   "outputs": [
    {
     "data": {
      "text/plain": [
       "main_sector\n",
       "Others                                     2.441200e+10\n",
       "Social, Finance, Analytics, Advertising    2.325846e+10\n",
       "Cleantech / Semiconductors                 2.046280e+10\n",
       "News, Search and Messaging                 1.352389e+10\n",
       "Health                                     7.745753e+09\n",
       "Manufacturing                              6.827639e+09\n",
       "Entertainment                              4.953440e+09\n",
       "Automotive & Sports                        1.358012e+09\n",
       "Name: raised_amount_usd, dtype: float64"
      ]
     },
     "execution_count": 87,
     "metadata": {},
     "output_type": "execute_result"
    }
   ],
   "source": [
    "D1_by_sector['raised_amount_usd'].sum().sort_values(ascending = False)"
   ]
  },
  {
   "cell_type": "code",
   "execution_count": 88,
   "metadata": {},
   "outputs": [
    {
     "data": {
      "text/plain": [
       "main_sector\n",
       "Others                                     2744\n",
       "Social, Finance, Analytics, Advertising    2648\n",
       "Cleantech / Semiconductors                 2220\n",
       "News, Search and Messaging                 1535\n",
       "Health                                      855\n",
       "Manufacturing                               754\n",
       "Entertainment                               575\n",
       "Automotive & Sports                         156\n",
       "Name: raised_amount_usd, dtype: int64"
      ]
     },
     "execution_count": 88,
     "metadata": {},
     "output_type": "execute_result"
    }
   ],
   "source": [
    "D1_by_sector['raised_amount_usd'].count().sort_values(ascending = False)"
   ]
  },
  {
   "cell_type": "code",
   "execution_count": 89,
   "metadata": {},
   "outputs": [
    {
     "data": {
      "text/plain": [
       "main_sector  permalink                        \n",
       "Others       /organization/virtustream            64300000.0\n",
       "             /organization/capella                54968051.0\n",
       "             /organization/airtight-networks      54201907.0\n",
       "             /organization/decarta                52100000.0\n",
       "             /organization/black-duck-software    51000000.0\n",
       "Name: raised_amount_usd, dtype: float64"
      ]
     },
     "execution_count": 89,
     "metadata": {},
     "output_type": "execute_result"
    }
   ],
   "source": [
    "D1[D1['main_sector']=='Others'].groupby(['main_sector','permalink']).raised_amount_usd.sum().sort_values(ascending=False).head()"
   ]
  },
  {
   "cell_type": "code",
   "execution_count": 90,
   "metadata": {},
   "outputs": [
    {
     "data": {
      "text/plain": [
       "main_sector                              permalink                \n",
       "Social, Finance, Analytics, Advertising  /organization/shotspotter    67933006.0\n",
       "                                         /organization/demandbase     63000000.0\n",
       "                                         /organization/intacct        61800000.0\n",
       "                                         /organization/netbase        60600000.0\n",
       "                                         /organization/lotame         59700000.0\n",
       "Name: raised_amount_usd, dtype: float64"
      ]
     },
     "execution_count": 90,
     "metadata": {},
     "output_type": "execute_result"
    }
   ],
   "source": [
    "\n",
    "D1[D1['main_sector']=='Social, Finance, Analytics, Advertising'].groupby(['main_sector','permalink']).raised_amount_usd.sum().sort_values(ascending=False).head()"
   ]
  },
  {
   "cell_type": "markdown",
   "metadata": {},
   "source": [
    " Data frame D2 analysis for country United Kingdom"
   ]
  },
  {
   "cell_type": "code",
   "execution_count": 91,
   "metadata": {},
   "outputs": [
    {
     "name": "stdout",
     "output_type": "stream",
     "text": [
      "                   permalink       name               homepage_url  \\\n",
      "99   /organization/365scores  365Scores   http://biz.365scores.com   \n",
      "216   /organization/7digital   7digital  http://about.7digital.com   \n",
      "217   /organization/7digital   7digital  http://about.7digital.com   \n",
      "235      /organization/90min      90min       http://www.90min.com   \n",
      "236      /organization/90min      90min       http://www.90min.com   \n",
      "\n",
      "        category_list     status country_code state_code  region    city  \\\n",
      "99            android  operating          GBR         H9  London  London   \n",
      "216  content creators   acquired          GBR         H9  London  London   \n",
      "217  content creators   acquired          GBR         H9  London  London   \n",
      "235             media  operating          GBR         H9  London  London   \n",
      "236             media  operating          GBR         H9  London  London   \n",
      "\n",
      "     founded_at        company_permalink  \\\n",
      "99   01-01-2008  /organization/365scores   \n",
      "216  01-01-2004   /organization/7digital   \n",
      "217  01-01-2004   /organization/7digital   \n",
      "235  01-01-2011      /organization/90min   \n",
      "236  01-01-2011      /organization/90min   \n",
      "\n",
      "                             funding_round_permalink funding_round_type  \\\n",
      "99   /funding-round/48212f931f542fdef78810bc87aef086            venture   \n",
      "216  /funding-round/b5ad7ed7baddd3974bd51403f17dd88f            venture   \n",
      "217  /funding-round/eafacfcceb1fbc4fd605f641b603313e            venture   \n",
      "235  /funding-round/21a2cbf6f2fb2a1c2a61e04bf930dfe6            venture   \n",
      "236  /funding-round/bd626ed022f5c66574b1afe234f3c90d            venture   \n",
      "\n",
      "      funded_at  raised_amount_usd                              main_sector  \n",
      "99   29-09-2014          5500000.0  Social, Finance, Analytics, Advertising  \n",
      "216  01-01-2008          8468328.0                            Entertainment  \n",
      "217  19-10-2012         10000000.0                            Entertainment  \n",
      "235  06-10-2015         15000000.0                            Entertainment  \n",
      "236  07-05-2013          5800000.0                            Entertainment  \n"
     ]
    }
   ],
   "source": [
    "print(D2.head())"
   ]
  },
  {
   "cell_type": "code",
   "execution_count": 92,
   "metadata": {},
   "outputs": [
    {
     "data": {
      "text/plain": [
       "4909164104.0"
      ]
     },
     "execution_count": 92,
     "metadata": {},
     "output_type": "execute_result"
    }
   ],
   "source": [
    "D2.raised_amount_usd.sum()"
   ]
  },
  {
   "cell_type": "code",
   "execution_count": 93,
   "metadata": {},
   "outputs": [
    {
     "data": {
      "text/plain": [
       "564"
      ]
     },
     "execution_count": 93,
     "metadata": {},
     "output_type": "execute_result"
    }
   ],
   "source": [
    "D2.raised_amount_usd.count()"
   ]
  },
  {
   "cell_type": "code",
   "execution_count": 94,
   "metadata": {},
   "outputs": [
    {
     "data": {
      "text/plain": [
       "(564, 16)"
      ]
     },
     "execution_count": 94,
     "metadata": {},
     "output_type": "execute_result"
    }
   ],
   "source": [
    "D2.shape"
   ]
  },
  {
   "cell_type": "code",
   "execution_count": 95,
   "metadata": {},
   "outputs": [
    {
     "name": "stdout",
     "output_type": "stream",
     "text": [
      "                                           permalink  \\\n",
      "99                           /organization/365scores   \n",
      "216                           /organization/7digital   \n",
      "217                           /organization/7digital   \n",
      "235                              /organization/90min   \n",
      "236                              /organization/90min   \n",
      "281                            /organization/abcodia   \n",
      "354                      /organization/acacia-pharma   \n",
      "366                        /organization/acal-energy   \n",
      "369          /organization/acal-enterprise-solutions   \n",
      "398                   /organization/accent-media-ltd   \n",
      "482                  /organization/accumuli-security   \n",
      "483                        /organization/accunostics   \n",
      "579                       /organization/acs-clothing   \n",
      "580                       /organization/acs-clothing   \n",
      "793                            /organization/adbrain   \n",
      "869                          /organization/adinsight   \n",
      "875                              /organization/adjug   \n",
      "1075                            /organization/aepona   \n",
      "1076                            /organization/aepona   \n",
      "1306                 /organization/air-semiconductor   \n",
      "1537                          /organization/alfresco   \n",
      "1871                              /organization/amee   \n",
      "2014                           /organization/anadigm   \n",
      "2138                          /organization/antenova   \n",
      "2139                          /organization/antenova   \n",
      "2140                          /organization/antenova   \n",
      "3290                         /organization/autoquake   \n",
      "3291                         /organization/autoquake   \n",
      "3292                         /organization/autoquake   \n",
      "3293                         /organization/autoquake   \n",
      "3585                             /organization/azimo   \n",
      "3645                          /organization/babelgum   \n",
      "3767                  /organization/basekit-platform   \n",
      "4322                          /organization/biomonde   \n",
      "5633   /organization/cambridge-communication-systems   \n",
      "5695                           /organization/canburg   \n",
      "6029                            /organization/carwow   \n",
      "9978                      /organization/dysismedical   \n",
      "13327                          /organization/glysure   \n",
      "13328                          /organization/glysure   \n",
      "\n",
      "                                  name                        homepage_url  \\\n",
      "99                           365Scores            http://biz.365scores.com   \n",
      "216                           7digital           http://about.7digital.com   \n",
      "217                           7digital           http://about.7digital.com   \n",
      "235                              90min                http://www.90min.com   \n",
      "236                              90min                http://www.90min.com   \n",
      "281                            Abcodia                  http://abcodia.com   \n",
      "354                      Acacia Pharma         http://www.acaciapharma.com   \n",
      "366                        ACAL Energy         http://www.acalenergy.co.uk   \n",
      "369          Acal Enterprise Solutions  http://acalenterprisesolutions.com   \n",
      "398               Accent Media Limited                 http://accent.media   \n",
      "482                  Accumuli Security             http://www.accumuli.com   \n",
      "483                        AccuNostics        http://www.accunostics.co.uk   \n",
      "579                       ACS Clothing               http://hirewear.co.uk   \n",
      "580                       ACS Clothing               http://hirewear.co.uk   \n",
      "793                            Adbrain                  http://adbrain.com   \n",
      "869                        ResponseTap          http://www.responsetap.com   \n",
      "875                              Adjug                http://www.adjug.com   \n",
      "1075                            Aepona               http://www.aepona.com   \n",
      "1076                            Aepona               http://www.aepona.com   \n",
      "1306                 Air Semiconductor             http://www.air-semi.com   \n",
      "1537                          Alfresco             http://www.alfresco.com   \n",
      "1871                              AMEE                 http://www.amee.com   \n",
      "2014                           Anadigm             http://www.anadigm.com/   \n",
      "2138                          Antenova         http://www.antenova-m2m.com   \n",
      "2139                          Antenova         http://www.antenova-m2m.com   \n",
      "2140                          Antenova         http://www.antenova-m2m.com   \n",
      "3290                         Autoquake            http://www.autoquake.com   \n",
      "3291                         Autoquake            http://www.autoquake.com   \n",
      "3292                         Autoquake            http://www.autoquake.com   \n",
      "3293                         Autoquake            http://www.autoquake.com   \n",
      "3585                             Azimo                    http://azimo.com   \n",
      "3645                          Babelgum                 http://babelgum.com   \n",
      "3767                           BaseKit              http://www.basekit.com   \n",
      "4322                          Biomonde                http://biomonde.com/   \n",
      "5633   Cambridge Communication Systems                 http://www.ccsl.com   \n",
      "5695                           Canburg                  http://canburg.com   \n",
      "6029                            Carwow             http://www.carwow.co.uk   \n",
      "9978                      DySISmedical         http://www.dysismedical.com   \n",
      "13327                          GlySure              http://www.glysure.com   \n",
      "13328                          GlySure              http://www.glysure.com   \n",
      "\n",
      "                category_list     status country_code state_code       region  \\\n",
      "99                    android  operating          GBR         H9       London   \n",
      "216          content creators   acquired          GBR         H9       London   \n",
      "217          content creators   acquired          GBR         H9       London   \n",
      "235                     media  operating          GBR         H9       London   \n",
      "236                     media  operating          GBR         H9       London   \n",
      "281             biotechnology  operating          GBR         H9       London   \n",
      "354             biotechnology  operating          GBR         C3       London   \n",
      "366          clean technology  operating          GBR         C5      Runcorn   \n",
      "369    information technology  operating          GBR         J8   Nottingham   \n",
      "398                   domains  operating          GBR         H9       London   \n",
      "482                   content  operating          GBR         F2       London   \n",
      "483               health care  operating          GBR         V6  GBR - Other   \n",
      "579                e-commerce  operating          GBR         V2      Glasgow   \n",
      "580                e-commerce  operating          GBR         V2      Glasgow   \n",
      "793               advertising  operating          GBR         H9       London   \n",
      "869               advertising  operating          GBR         I2   Manchester   \n",
      "875               advertising   acquired          GBR         H9       London   \n",
      "1075              web hosting   acquired          GBR         R3      Belfast   \n",
      "1076              web hosting   acquired          GBR         R3      Belfast   \n",
      "1306                      gps     closed          GBR         P8      Swindon   \n",
      "1537      document management  operating          GBR         P9       London   \n",
      "1871                   carbon   acquired          GBR         H9       London   \n",
      "2014           semiconductors     closed          GBR         Z7  GBR - Other   \n",
      "2138      hardware + software  operating          GBR         C3  GBR - Other   \n",
      "2139      hardware + software  operating          GBR         C3  GBR - Other   \n",
      "2140      hardware + software  operating          GBR         C3  GBR - Other   \n",
      "3290               automotive   acquired          GBR         H9       London   \n",
      "3291               automotive   acquired          GBR         H9       London   \n",
      "3292               automotive   acquired          GBR         H9       London   \n",
      "3293               automotive   acquired          GBR         H9       London   \n",
      "3585              curated web  operating          GBR         H9       London   \n",
      "3645                   mobile     closed          GBR         H9       London   \n",
      "3767              curated web  operating          GBR         H9       London   \n",
      "4322      health and wellness  operating          GBR         X3     Bridgend   \n",
      "5633      hardware + software  operating          GBR         C3       London   \n",
      "5695                furniture  operating          GBR         P8  GBR - Other   \n",
      "6029               automotive  operating          GBR         H9       London   \n",
      "9978              health care  operating          GBR         W9   Livingston   \n",
      "13327             health care  operating          GBR         K2       London   \n",
      "13328             health care  operating          GBR         K2       London   \n",
      "\n",
      "               city  founded_at  \\\n",
      "99           London  01-01-2008   \n",
      "216          London  01-01-2004   \n",
      "217          London  01-01-2004   \n",
      "235          London  01-01-2011   \n",
      "236          London  01-01-2011   \n",
      "281          London  01-01-2010   \n",
      "354       Cambridge  01-01-2006   \n",
      "366         Runcorn  01-08-2004   \n",
      "369      Nottingham  01-01-1990   \n",
      "398          London  21-02-2012   \n",
      "482     Basingstoke  01-01-1996   \n",
      "483          Forres  01-01-2008   \n",
      "579         Glasgow  01-01-1997   \n",
      "580         Glasgow  01-01-1997   \n",
      "793          London  01-01-2012   \n",
      "869      Manchester  01-06-2008   \n",
      "875          London  01-01-2007   \n",
      "1075        Belfast  01-01-1999   \n",
      "1076        Belfast  01-01-1999   \n",
      "1306        Swindon  15-05-2006   \n",
      "1537     Maidenhead  01-01-2005   \n",
      "1871         London  01-01-2007   \n",
      "2014          Crewe  01-01-2012   \n",
      "2138   Stow Cum Quy  01-01-1999   \n",
      "2139   Stow Cum Quy  01-01-1999   \n",
      "2140   Stow Cum Quy  01-01-1999   \n",
      "3290         London  07-08-2005   \n",
      "3291         London  07-08-2005   \n",
      "3292         London  07-08-2005   \n",
      "3293         London  07-08-2005   \n",
      "3585         London  29-10-2012   \n",
      "3645         London  01-03-2007   \n",
      "3767         London  01-01-2008   \n",
      "4322       Bridgend  01-01-2012   \n",
      "5633      Cambridge  01-01-2010   \n",
      "5695        Devizes  01-01-2012   \n",
      "6029         London  01-11-2010   \n",
      "9978     Livingston  01-01-2002   \n",
      "13327      Abingdon  01-01-2012   \n",
      "13328      Abingdon  01-01-2012   \n",
      "\n",
      "                                   company_permalink  \\\n",
      "99                           /organization/365scores   \n",
      "216                           /organization/7digital   \n",
      "217                           /organization/7digital   \n",
      "235                              /organization/90min   \n",
      "236                              /organization/90min   \n",
      "281                            /organization/abcodia   \n",
      "354                      /organization/acacia-pharma   \n",
      "366                        /organization/acal-energy   \n",
      "369          /organization/acal-enterprise-solutions   \n",
      "398                   /organization/accent-media-ltd   \n",
      "482                  /organization/accumuli-security   \n",
      "483                        /organization/accunostics   \n",
      "579                       /organization/acs-clothing   \n",
      "580                       /organization/acs-clothing   \n",
      "793                            /organization/adbrain   \n",
      "869                          /organization/adinsight   \n",
      "875                              /organization/adjug   \n",
      "1075                            /organization/aepona   \n",
      "1076                            /organization/aepona   \n",
      "1306                 /organization/air-semiconductor   \n",
      "1537                          /organization/alfresco   \n",
      "1871                              /organization/amee   \n",
      "2014                           /organization/anadigm   \n",
      "2138                          /organization/antenova   \n",
      "2139                          /organization/antenova   \n",
      "2140                          /organization/antenova   \n",
      "3290                         /organization/autoquake   \n",
      "3291                         /organization/autoquake   \n",
      "3292                         /organization/autoquake   \n",
      "3293                         /organization/autoquake   \n",
      "3585                             /organization/azimo   \n",
      "3645                          /organization/babelgum   \n",
      "3767                  /organization/basekit-platform   \n",
      "4322                          /organization/biomonde   \n",
      "5633   /organization/cambridge-communication-systems   \n",
      "5695                           /organization/canburg   \n",
      "6029                            /organization/carwow   \n",
      "9978                      /organization/dysismedical   \n",
      "13327                          /organization/glysure   \n",
      "13328                          /organization/glysure   \n",
      "\n",
      "                               funding_round_permalink funding_round_type  \\\n",
      "99     /funding-round/48212f931f542fdef78810bc87aef086            venture   \n",
      "216    /funding-round/b5ad7ed7baddd3974bd51403f17dd88f            venture   \n",
      "217    /funding-round/eafacfcceb1fbc4fd605f641b603313e            venture   \n",
      "235    /funding-round/21a2cbf6f2fb2a1c2a61e04bf930dfe6            venture   \n",
      "236    /funding-round/bd626ed022f5c66574b1afe234f3c90d            venture   \n",
      "281    /funding-round/3d20c23d203134ed86c0d1b2bec288b2            venture   \n",
      "354    /funding-round/26eac8a3875e1a7bc68d36ceb7a71b05            venture   \n",
      "366    /funding-round/16817efd4bbef10f63cccdf158f47a41            venture   \n",
      "369    /funding-round/0f9a693d9686330c5c2724215e0048e2            venture   \n",
      "398    /funding-round/9dc643fa45031a46ffcfaa061d94e3e3            venture   \n",
      "482    /funding-round/f7b76bf555e5619fbe259f697f5fd97e            venture   \n",
      "483    /funding-round/dee5892854258f2cd7cf0ec144080ca1            venture   \n",
      "579    /funding-round/064999587157b0ceae7843204a105d6d            venture   \n",
      "580    /funding-round/875b4295af2381558cec9d97f86fe3e4            venture   \n",
      "793    /funding-round/71f1b5903874817292d67e1ac6aa66b2            venture   \n",
      "869    /funding-round/5bcca548aeccd5acdea0d0edb086db8d            venture   \n",
      "875    /funding-round/83653befbf3c473ec97a1617479448c8            venture   \n",
      "1075   /funding-round/57ca5d05989850fb1109b277cb6ae54e            venture   \n",
      "1076   /funding-round/ad79a10f4c3f231375454da6393ec564            venture   \n",
      "1306   /funding-round/84f49f20518fc52681209bb28f29b2f9            venture   \n",
      "1537   /funding-round/0db504d02c87c2b963283fd3c6d17594            venture   \n",
      "1871   /funding-round/e4e6f9b7344ca6349943bd26332042fd            venture   \n",
      "2014   /funding-round/d66a723ef94efb39e450f62b6df312c4            venture   \n",
      "2138   /funding-round/0f5b23faa3fc155f50e679237f2b38f8            venture   \n",
      "2139   /funding-round/1750b93d061a4539de278a4384ed220f            venture   \n",
      "2140   /funding-round/47c0b4eac099171d3c5c0f9170428485            venture   \n",
      "3290   /funding-round/067d143de46ec298cfa1893682f9911a            venture   \n",
      "3291   /funding-round/4c8372dfdea687c5f5fbab39b3e44dab            venture   \n",
      "3292   /funding-round/721aefa6f7e5bc71eb9d744359941958            venture   \n",
      "3293   /funding-round/a4d5080cbda34c2ef4295d8fbe4e9ad5            venture   \n",
      "3585   /funding-round/5eb768935cf9c60b402944b0f476baae            venture   \n",
      "3645   /funding-round/77fa462f42a6d077b315a67ceb8dad9a            venture   \n",
      "3767   /funding-round/8252cd70860ec66a1c7d13b6a2519dc6            venture   \n",
      "4322   /funding-round/73784f50ba5435d073621d08e6ef4b50            venture   \n",
      "5633   /funding-round/752f5792832c5ea9ccac167213a4ffbd            venture   \n",
      "5695   /funding-round/03b21f985fbae27d9ace931e02f2a7cd            venture   \n",
      "6029   /funding-round/76b8bfeb7ef05fb7c0be2b9a70e7d2ed            venture   \n",
      "9978   /funding-round/63b23b5bee42c96e5d3cd49605ad5e85            venture   \n",
      "13327  /funding-round/3b2878073273ff5692cae8a87549a6e8            venture   \n",
      "13328  /funding-round/6cdd80986ff4c3da408ab6093ce7c096            venture   \n",
      "\n",
      "        funded_at  raised_amount_usd                              main_sector  \n",
      "99     29-09-2014          5500000.0  Social, Finance, Analytics, Advertising  \n",
      "216    01-01-2008          8468328.0                            Entertainment  \n",
      "217    19-10-2012         10000000.0                            Entertainment  \n",
      "235    06-10-2015         15000000.0                            Entertainment  \n",
      "236    07-05-2013          5800000.0                            Entertainment  \n",
      "281    18-05-2015          8259067.0               Cleantech / Semiconductors  \n",
      "354    31-03-2011         10000000.0               Cleantech / Semiconductors  \n",
      "366    15-06-2011          9910333.0               Cleantech / Semiconductors  \n",
      "369    03-06-2014         10720178.0  Social, Finance, Analytics, Advertising  \n",
      "398    01-07-2013          8300000.0               News, Search and Messaging  \n",
      "482    01-11-2010          8033458.0                            Entertainment  \n",
      "483    15-09-2011          6321095.0                                   Health  \n",
      "579    28-09-2015         13359377.0                                   Others  \n",
      "580    02-03-2014         12879637.0                                   Others  \n",
      "793    11-03-2014          7500000.0  Social, Finance, Analytics, Advertising  \n",
      "869    07-05-2014          6772812.0  Social, Finance, Analytics, Advertising  \n",
      "875    01-03-2008          6500000.0  Social, Finance, Analytics, Advertising  \n",
      "1075   30-06-2010         10000000.0                                   Others  \n",
      "1076   05-02-2007         10000000.0                                   Others  \n",
      "1306   11-04-2006         10000000.0               News, Search and Messaging  \n",
      "1537   22-01-2008         13000000.0                                   Others  \n",
      "1871   08-02-2010          5500000.0               Cleantech / Semiconductors  \n",
      "2014   02-10-2003         15000000.0               Cleantech / Semiconductors  \n",
      "2138   06-06-2007         10000000.0                            Manufacturing  \n",
      "2139   20-01-2005         12000000.0                            Manufacturing  \n",
      "2140   21-10-2008          6500000.0                            Manufacturing  \n",
      "3290   11-05-2008         11890000.0                      Automotive & Sports  \n",
      "3291   01-07-2006          6000000.0                      Automotive & Sports  \n",
      "3292   01-04-2009          5755376.0                      Automotive & Sports  \n",
      "3293   01-04-2008         11911764.0                      Automotive & Sports  \n",
      "3585   11-03-2014         10000000.0               News, Search and Messaging  \n",
      "3645   01-06-2005         13200000.0               News, Search and Messaging  \n",
      "3767   13-05-2014          7000000.0               News, Search and Messaging  \n",
      "4322   02-06-2014          5864512.0                                   Health  \n",
      "5633   24-03-2013          6832317.0                            Manufacturing  \n",
      "5695   15-09-2014         13010774.0                            Manufacturing  \n",
      "6029   14-12-2014          7230241.0                      Automotive & Sports  \n",
      "9978   15-04-2013         11349443.0                                   Health  \n",
      "13327  28-11-2012         13600000.0                                   Health  \n",
      "13328  09-01-2012         10812621.0                                   Health  \n"
     ]
    }
   ],
   "source": [
    "D2_by_sector=D2.groupby('main_sector')\n",
    "print(D2_by_sector.head())"
   ]
  },
  {
   "cell_type": "code",
   "execution_count": 96,
   "metadata": {},
   "outputs": [
    {
     "data": {
      "text/plain": [
       "main_sector\n",
       "Others                                     1.155156e+09\n",
       "Social, Finance, Analytics, Advertising    1.042295e+09\n",
       "Cleantech / Semiconductors                 1.030611e+09\n",
       "News, Search and Messaging                 5.779207e+08\n",
       "Entertainment                              4.647237e+08\n",
       "Manufacturing                              3.046903e+08\n",
       "Health                                     1.867220e+08\n",
       "Automotive & Sports                        1.470452e+08\n",
       "Name: raised_amount_usd, dtype: float64"
      ]
     },
     "execution_count": 96,
     "metadata": {},
     "output_type": "execute_result"
    }
   ],
   "source": [
    "D2_by_sector['raised_amount_usd'].sum().sort_values(ascending = False)"
   ]
  },
  {
   "cell_type": "code",
   "execution_count": 97,
   "metadata": {},
   "outputs": [
    {
     "data": {
      "text/plain": [
       "main_sector\n",
       "Others                                     132\n",
       "Social, Finance, Analytics, Advertising    127\n",
       "Cleantech / Semiconductors                 115\n",
       "News, Search and Messaging                  68\n",
       "Entertainment                               54\n",
       "Manufacturing                               34\n",
       "Health                                      20\n",
       "Automotive & Sports                         14\n",
       "Name: raised_amount_usd, dtype: int64"
      ]
     },
     "execution_count": 97,
     "metadata": {},
     "output_type": "execute_result"
    }
   ],
   "source": [
    "D2_by_sector['raised_amount_usd'].count().sort_values(ascending = False)"
   ]
  },
  {
   "cell_type": "code",
   "execution_count": 98,
   "metadata": {},
   "outputs": [
    {
     "data": {
      "text/plain": [
       "main_sector  permalink                            \n",
       "Others       /organization/electric-cloud             37000000.0\n",
       "             /organization/sensage                    36250000.0\n",
       "             /organization/enigmatic                  32500000.0\n",
       "             /organization/silverrail-technologies    29000000.0\n",
       "             /organization/opencloud                  27972766.0\n",
       "Name: raised_amount_usd, dtype: float64"
      ]
     },
     "execution_count": 98,
     "metadata": {},
     "output_type": "execute_result"
    }
   ],
   "source": [
    "D2[D2['main_sector']=='Others'].groupby(['main_sector','permalink']).raised_amount_usd.sum().sort_values(ascending=False).head()"
   ]
  },
  {
   "cell_type": "code",
   "execution_count": 99,
   "metadata": {},
   "outputs": [
    {
     "data": {
      "text/plain": [
       "main_sector                              permalink                          \n",
       "Social, Finance, Analytics, Advertising  /organization/celltick-technologies    37500000.0\n",
       "                                         /organization/mythings                 34000000.0\n",
       "                                         /organization/zopa                     32900000.0\n",
       "                                         /organization/imagini                  28550000.0\n",
       "                                         /organization/marketinvoice            25553007.0\n",
       "Name: raised_amount_usd, dtype: float64"
      ]
     },
     "execution_count": 99,
     "metadata": {},
     "output_type": "execute_result"
    }
   ],
   "source": [
    "\n",
    "D2[D2['main_sector']=='Social, Finance, Analytics, Advertising'].groupby(['main_sector','permalink']).raised_amount_usd.sum().sort_values(ascending=False).head()"
   ]
  },
  {
   "cell_type": "markdown",
   "metadata": {},
   "source": [
    " Data frame D3 analysis for country India"
   ]
  },
  {
   "cell_type": "code",
   "execution_count": 100,
   "metadata": {},
   "outputs": [
    {
     "name": "stdout",
     "output_type": "stream",
     "text": [
      "                           permalink            name  \\\n",
      "0                /organization/-fame           #fame   \n",
      "49    /organization/21diamonds-india      21Diamonds   \n",
      "255     /organization/a-little-world  A LITTLE WORLD   \n",
      "881     /organization/adlabs-imagica  Adlabs Imagica   \n",
      "1200             /organization/agile           Agile   \n",
      "\n",
      "                      homepage_url  category_list     status country_code  \\\n",
      "0               http://livfame.com          media  operating          IND   \n",
      "49        http://www.21diamonds.de     e-commerce  operating          IND   \n",
      "255        http://alittleworld.com        finance  operating          IND   \n",
      "881   http://www.adlabsimagica.com  entertainment  operating          IND   \n",
      "1200       http://www.agile-ft.com        finance  operating          IND   \n",
      "\n",
      "     state_code       region     city  founded_at  \\\n",
      "0            16       Mumbai   Mumbai  01-01-2012   \n",
      "49           10    New Delhi  Gurgaon  01-06-2012   \n",
      "255          16       Mumbai   Mumbai  02-03-2000   \n",
      "881          16  IND - Other  Khopoli  01-01-2012   \n",
      "1200         16       Mumbai   Mumbai  01-01-2012   \n",
      "\n",
      "                   company_permalink  \\\n",
      "0                /organization/-fame   \n",
      "49    /organization/21diamonds-india   \n",
      "255     /organization/a-little-world   \n",
      "881     /organization/adlabs-imagica   \n",
      "1200             /organization/agile   \n",
      "\n",
      "                              funding_round_permalink funding_round_type  \\\n",
      "0     /funding-round/9a01d05418af9f794eebff7ace91f638            venture   \n",
      "49    /funding-round/6de7ffef8091ba9f33821f4b861f434a            venture   \n",
      "255   /funding-round/18d98f82ed392b1609975b81f3e8b3fb            venture   \n",
      "881   /funding-round/508d3c83daaae9fda3ba6f9682c78f6c            venture   \n",
      "1200  /funding-round/cd3dd1c98ce9d0f632d8752163941674            venture   \n",
      "\n",
      "       funded_at  raised_amount_usd                              main_sector  \n",
      "0     05-01-2015         10000000.0                            Entertainment  \n",
      "49    15-11-2012          6369507.0                                   Others  \n",
      "255   09-09-2008          6410000.0  Social, Finance, Analytics, Advertising  \n",
      "881   28-10-2014          8180000.0                            Entertainment  \n",
      "1200  01-05-2011          5740000.0  Social, Finance, Analytics, Advertising  \n"
     ]
    }
   ],
   "source": [
    "print(D3.head())"
   ]
  },
  {
   "cell_type": "code",
   "execution_count": 101,
   "metadata": {},
   "outputs": [
    {
     "data": {
      "text/plain": [
       "2905543602.0"
      ]
     },
     "execution_count": 101,
     "metadata": {},
     "output_type": "execute_result"
    }
   ],
   "source": [
    "D3.raised_amount_usd.sum()"
   ]
  },
  {
   "cell_type": "code",
   "execution_count": 102,
   "metadata": {},
   "outputs": [
    {
     "data": {
      "text/plain": [
       "324"
      ]
     },
     "execution_count": 102,
     "metadata": {},
     "output_type": "execute_result"
    }
   ],
   "source": [
    "D3.raised_amount_usd.count()"
   ]
  },
  {
   "cell_type": "code",
   "execution_count": 103,
   "metadata": {},
   "outputs": [
    {
     "data": {
      "text/plain": [
       "(324, 16)"
      ]
     },
     "execution_count": 103,
     "metadata": {},
     "output_type": "execute_result"
    }
   ],
   "source": [
    "D3.shape"
   ]
  },
  {
   "cell_type": "code",
   "execution_count": 104,
   "metadata": {},
   "outputs": [
    {
     "name": "stdout",
     "output_type": "stream",
     "text": [
      "                                permalink                           name  \\\n",
      "3                    /organization/0xdata                         H2O.ai   \n",
      "4              /organization/1-mainstream                   1 Mainstream   \n",
      "17           /organization/128-technology                 128 Technology   \n",
      "20        /organization/1366-technologies              1366 Technologies   \n",
      "21        /organization/1366-technologies              1366 Technologies   \n",
      "22        /organization/1366-technologies              1366 Technologies   \n",
      "23        /organization/1366-technologies              1366 Technologies   \n",
      "24        /organization/1366-technologies              1366 Technologies   \n",
      "28              /organization/170-systems                    170 Systems   \n",
      "30                  /organization/17zuoye                        17zuoye   \n",
      "31                  /organization/17zuoye                        17zuoye   \n",
      "34                     /organization/1bog  One Block Off the Grid (1BOG)   \n",
      "39                  /organization/1stdibs                        1stdibs   \n",
      "51                     /organization/21e6                         21 Inc   \n",
      "52       /organization/22nd-century-group             22nd Century Group   \n",
      "57                  /organization/23andme                        23andMe   \n",
      "58                  /organization/23andme                        23andMe   \n",
      "60                  /organization/23andme                        23andMe   \n",
      "64                   /organization/28msec                         28msec   \n",
      "69                /organization/2nd-watch                      2nd Watch   \n",
      "92                 /organization/33across                       33Across   \n",
      "94                 /organization/33across                       33Across   \n",
      "112             /organization/3d-robotics                    3D Robotics   \n",
      "113             /organization/3d-robotics                    3D Robotics   \n",
      "137          /organization/3pillar-global                 3Pillar Global   \n",
      "165                /organization/42floors                       42Floors   \n",
      "166                /organization/42floors                       42Floors   \n",
      "211    /organization/7-star-entertainment           7 Star Entertainment   \n",
      "227                 /organization/8dworld                       8D World   \n",
      "228                 /organization/8dworld                       8D World   \n",
      "246             /organization/a-bit-lucky                    A Bit Lucky   \n",
      "295         /organization/ability-network                ABILITY Network   \n",
      "346   /organization/abt-molecular-imaging          ABT Molecular Imaging   \n",
      "347   /organization/abt-molecular-imaging          ABT Molecular Imaging   \n",
      "348   /organization/abt-molecular-imaging          ABT Molecular Imaging   \n",
      "373              /organization/accelecare       AcceleCare Wound Centers   \n",
      "568                  /organization/acquia                         Acquia   \n",
      "817                /organization/additech                       Additech   \n",
      "1254         /organization/agm-automotive                 AGM Automotive   \n",
      "1316             /organization/airbiquity                     Airbiquity   \n",
      "\n",
      "                                  homepage_url           category_list  \\\n",
      "3                               http://h2o.ai/               analytics   \n",
      "4                   http://www.1mainstream.com                    apps   \n",
      "17               http://www.128technology.com/       service providers   \n",
      "20                     http://www.1366tech.com           manufacturing   \n",
      "21                     http://www.1366tech.com           manufacturing   \n",
      "22                     http://www.1366tech.com           manufacturing   \n",
      "23                     http://www.1366tech.com           manufacturing   \n",
      "24                     http://www.1366tech.com           manufacturing   \n",
      "28                   http://www.170systems.com                software   \n",
      "30                     http://www.17zuoye.com/               education   \n",
      "31                     http://www.17zuoye.com/               education   \n",
      "34                             http://1bog.org        clean technology   \n",
      "39                      http://www.1stdibs.com              e-commerce   \n",
      "51                               https://21.co                big data   \n",
      "52                  http://www.xxiicentury.com           biotechnology   \n",
      "57                          http://23andme.com           biotechnology   \n",
      "58                          http://23andme.com           biotechnology   \n",
      "60                          http://23andme.com           biotechnology   \n",
      "64                       http://www.28msec.com         cloud computing   \n",
      "69                         http://2ndwatch.com    cloud infrastructure   \n",
      "92                     http://www.33across.com             advertising   \n",
      "94                     http://www.33across.com             advertising   \n",
      "112                      http://3drobotics.com                  drones   \n",
      "113                      http://3drobotics.com                  drones   \n",
      "137               http://www.3pillarglobal.com              consulting   \n",
      "165                        http://42floors.com  commercial real estate   \n",
      "166                        http://42floors.com  commercial real estate   \n",
      "211                    http://www.7starent.com                   games   \n",
      "227   http://www.8dworld.com/English/Home.html                   games   \n",
      "228   http://www.8dworld.com/English/Home.html                   games   \n",
      "246                   http://www.abitlucky.com                   games   \n",
      "295              http://www.abilitynetwork.com             health care   \n",
      "346               http://advancedbiomarker.com             health care   \n",
      "347               http://advancedbiomarker.com             health care   \n",
      "348               http://advancedbiomarker.com             health care   \n",
      "373                      http://accelecare.com             health care   \n",
      "568                          http://acquia.com                 content   \n",
      "817                    http://www.additech.com              automotive   \n",
      "1254                  http://agmautomotive.com              automotive   \n",
      "1316                 http://www.airbiquity.com              automotive   \n",
      "\n",
      "         status country_code state_code            region           city  \\\n",
      "3     operating          USA         CA       SF Bay Area  Mountain View   \n",
      "4      acquired          USA         CA       SF Bay Area      Cupertino   \n",
      "17    operating          USA         MA            Boston     Burlington   \n",
      "20    operating          USA         MA            Boston        Bedford   \n",
      "21    operating          USA         MA            Boston        Bedford   \n",
      "22    operating          USA         MA            Boston        Bedford   \n",
      "23    operating          USA         MA            Boston        Bedford   \n",
      "24    operating          USA         MA            Boston        Bedford   \n",
      "28     acquired          USA         MA            Boston        Bedford   \n",
      "30    operating          USA         VA        VA - Other       Shanghai   \n",
      "31    operating          USA         VA        VA - Other       Shanghai   \n",
      "34       closed          USA         CA       SF Bay Area  San Francisco   \n",
      "39    operating          USA         NY     New York City       New York   \n",
      "51    operating          USA         CA       SF Bay Area  San Francisco   \n",
      "52          ipo          USA         NY        NY - Other       Clarence   \n",
      "57    operating          USA         CA       SF Bay Area  Mountain View   \n",
      "58    operating          USA         CA       SF Bay Area  Mountain View   \n",
      "60    operating          USA         CA       SF Bay Area  Mountain View   \n",
      "64    operating          USA         CA       SF Bay Area      Palo Alto   \n",
      "69    operating          USA         WA           Seattle        Seattle   \n",
      "92    operating          USA         NY     New York City       New York   \n",
      "94    operating          USA         NY     New York City       New York   \n",
      "112   operating          USA         CA         San Diego      San Diego   \n",
      "113   operating          USA         CA         San Diego      San Diego   \n",
      "137   operating          USA         VA  Washington, D.C.        Fairfax   \n",
      "165   operating          USA         CA       SF Bay Area  San Francisco   \n",
      "166   operating          USA         CA       SF Bay Area  San Francisco   \n",
      "211   operating          USA         FL    Ft. Lauderdale  Pompano Beach   \n",
      "227      closed          USA         MA            Boston         Woburn   \n",
      "228      closed          USA         MA            Boston         Woburn   \n",
      "246      closed          USA         CA       SF Bay Area      San Mateo   \n",
      "295   operating          USA         MN       Minneapolis    Minneapolis   \n",
      "346   operating          USA         TN         Knoxville      Knoxville   \n",
      "347   operating          USA         TN         Knoxville      Knoxville   \n",
      "348   operating          USA         TN         Knoxville      Knoxville   \n",
      "373    acquired          USA         WA           Seattle       Bellevue   \n",
      "568   operating          USA         MA            Boston     Burlington   \n",
      "817   operating          USA         TX           Houston        Houston   \n",
      "1254  operating          USA         MI           Detroit           Troy   \n",
      "1316  operating          USA         WA           Seattle        Seattle   \n",
      "\n",
      "      founded_at                    company_permalink  \\\n",
      "3     01-01-2011                 /organization/0xdata   \n",
      "4     01-03-2012           /organization/1-mainstream   \n",
      "17    07-07-2014         /organization/128-technology   \n",
      "20    01-01-2007      /organization/1366-technologies   \n",
      "21    01-01-2007      /organization/1366-technologies   \n",
      "22    01-01-2007      /organization/1366-technologies   \n",
      "23    01-01-2007      /organization/1366-technologies   \n",
      "24    01-01-2007      /organization/1366-technologies   \n",
      "28    01-01-1990            /organization/170-systems   \n",
      "30    01-01-2007                /organization/17zuoye   \n",
      "31    01-01-2007                /organization/17zuoye   \n",
      "34    01-11-2008                   /organization/1bog   \n",
      "39    01-01-2001                /organization/1stdibs   \n",
      "51    01-05-2013                   /organization/21e6   \n",
      "52    01-01-1998     /organization/22nd-century-group   \n",
      "57    01-04-2006                /organization/23andme   \n",
      "58    01-04-2006                /organization/23andme   \n",
      "60    01-04-2006                /organization/23andme   \n",
      "64    01-01-2008                 /organization/28msec   \n",
      "69    01-01-2010              /organization/2nd-watch   \n",
      "92    01-09-2007               /organization/33across   \n",
      "94    01-09-2007               /organization/33across   \n",
      "112   01-01-2009            /organization/3d-robotics   \n",
      "113   01-01-2009            /organization/3d-robotics   \n",
      "137   01-08-2006         /organization/3pillar-global   \n",
      "165   01-01-2011               /organization/42floors   \n",
      "166   01-01-2011               /organization/42floors   \n",
      "211   01-01-2012   /organization/7-star-entertainment   \n",
      "227   01-01-2012                /organization/8dworld   \n",
      "228   01-01-2012                /organization/8dworld   \n",
      "246   01-10-2009            /organization/a-bit-lucky   \n",
      "295   01-01-2000        /organization/ability-network   \n",
      "346   01-01-2006  /organization/abt-molecular-imaging   \n",
      "347   01-01-2006  /organization/abt-molecular-imaging   \n",
      "348   01-01-2006  /organization/abt-molecular-imaging   \n",
      "373   01-01-2012             /organization/accelecare   \n",
      "568   01-05-2007                 /organization/acquia   \n",
      "817   01-01-1995               /organization/additech   \n",
      "1254  01-02-2001         /organization/agm-automotive   \n",
      "1316  01-01-1997             /organization/airbiquity   \n",
      "\n",
      "                              funding_round_permalink funding_round_type  \\\n",
      "3     /funding-round/e1cfcbe1bdf4c70277c5f29a3482f24e            venture   \n",
      "4     /funding-round/b952cbaf401f310927430c97b68162ea            venture   \n",
      "17    /funding-round/fb6216a30cb566ede89e0bee0623a634            venture   \n",
      "20    /funding-round/424129ce1235cfab2655ee81305f7c2b            venture   \n",
      "21    /funding-round/6d3f3797371956ece035b8478c1441b2            venture   \n",
      "22    /funding-round/786f61aa9866f4471151285f5c56be36            venture   \n",
      "23    /funding-round/82ace97530965cd2be8f262836b43ff5            venture   \n",
      "24    /funding-round/ab99fc5a53717b1b53fd6aa5687c5fa9            venture   \n",
      "28    /funding-round/b84bb882ca873f5fb96535671981196d            venture   \n",
      "30    /funding-round/69690484f51e15bc27ff52bfe472cd96            venture   \n",
      "31    /funding-round/8d87f771e938e0f31641bd600abbafca            venture   \n",
      "34    /funding-round/3d2463c9b97f32b3be8747fbd629961f            venture   \n",
      "39    /funding-round/292b074d073fdd9c7e9d8f372c3aa5f6            venture   \n",
      "51    /funding-round/bdf9f5bf67ee51155eae223acac57ec5            venture   \n",
      "52    /funding-round/50617d7ea8eaa838e2fd8eb8dfe06054            venture   \n",
      "57    /funding-round/97062e0d50c2955cbe40bf8220d87b08            venture   \n",
      "58    /funding-round/c27c1b420dfb34677a6ba449524f1c88            venture   \n",
      "60    /funding-round/f261366b4fbf1840ad71b20ea0d9c7ce            venture   \n",
      "64    /funding-round/ce3a68e4a52892784f1ad085e5d7035a            venture   \n",
      "69    /funding-round/08108acd1a58480a1331ee7d4bc9abda            venture   \n",
      "92    /funding-round/a45d977b48cb54216eb705d59b24ca19            venture   \n",
      "94    /funding-round/bfc2233768b7c79ed58ad7561423e555            venture   \n",
      "112   /funding-round/2785595770e91ab8fd4854ef125ec563            venture   \n",
      "113   /funding-round/7ca0d4dc119b6d65eebfb352c3544542            venture   \n",
      "137   /funding-round/5e3af748b15d27446e226604e4600531            venture   \n",
      "165   /funding-round/b9050f1052d6caa5fbca1a1a9f86f93f            venture   \n",
      "166   /funding-round/cc48bd0e08605c35cf4d67942b20321f            venture   \n",
      "211   /funding-round/7db2e0412185f592d15df25f0e76c313            venture   \n",
      "227   /funding-round/ab2db8ac1e851867a37b3880a2eda6b0            venture   \n",
      "228   /funding-round/ca5833d22f42a788838850faf2774f3e            venture   \n",
      "246   /funding-round/fd5a8098be07e043d04a9c024f70fa56            venture   \n",
      "295   /funding-round/b8cc7365f0609dcf1fc9b915c7bcf3bb            venture   \n",
      "346   /funding-round/048d5b8e1a020bdc218ab8167661cf2c            venture   \n",
      "347   /funding-round/5bea4f293613a8d5495b86d782838200            venture   \n",
      "348   /funding-round/ac3ed053f5adbd2bda4da4172e1fa6bf            venture   \n",
      "373   /funding-round/bcef57a54867923b45c7c3f3062afcfd            venture   \n",
      "568   /funding-round/38f0821e995d3ff2bf9557fce2eb9e4f            venture   \n",
      "817   /funding-round/c1c50ebc27ce45adbdd21e0b121fd23a            venture   \n",
      "1254  /funding-round/0ac85ce267380a3fd4a7e0cea153dfe1            venture   \n",
      "1316  /funding-round/c6909a12d18862ebd5173dd1ee6abd6a            venture   \n",
      "\n",
      "       funded_at  raised_amount_usd                              main_sector  \n",
      "3     19-07-2014          8900000.0  Social, Finance, Analytics, Advertising  \n",
      "4     17-03-2015          5000000.0               News, Search and Messaging  \n",
      "17    16-12-2014         11999347.0                                   Others  \n",
      "20    15-10-2013         15000000.0                            Manufacturing  \n",
      "21    09-04-2015          5000000.0                            Manufacturing  \n",
      "22    03-02-2010          5150000.0                            Manufacturing  \n",
      "23    27-03-2008         12400000.0                            Manufacturing  \n",
      "24    16-12-2010          6000000.0                            Manufacturing  \n",
      "28    16-04-2002         14000000.0                                   Others  \n",
      "30    01-01-2011          5000000.0                                   Others  \n",
      "31    01-09-2013         10000000.0                                   Others  \n",
      "34    11-02-2010          5000000.0               Cleantech / Semiconductors  \n",
      "39    24-01-2014         15000000.0                                   Others  \n",
      "51    17-11-2013          5050000.0  Social, Finance, Analytics, Advertising  \n",
      "52    18-09-2014         10000000.0               Cleantech / Semiconductors  \n",
      "57    07-01-2011          9000000.0               Cleantech / Semiconductors  \n",
      "58    18-06-2009         12600000.0               Cleantech / Semiconductors  \n",
      "60    03-10-2007          9000000.0               Cleantech / Semiconductors  \n",
      "64    28-10-2013          5844811.0               News, Search and Messaging  \n",
      "69    14-10-2014         10000000.0               News, Search and Messaging  \n",
      "92    19-07-2012         13100000.0  Social, Finance, Analytics, Advertising  \n",
      "94    05-01-2011          9000000.0  Social, Finance, Analytics, Advertising  \n",
      "112   05-11-2012          5000000.0                      Automotive & Sports  \n",
      "113   23-04-2015         14000000.0                      Automotive & Sports  \n",
      "137   06-06-2013         12000000.0  Social, Finance, Analytics, Advertising  \n",
      "165   31-01-2013         12000000.0               News, Search and Messaging  \n",
      "166   16-11-2012          5000000.0               News, Search and Messaging  \n",
      "211   14-07-2010         10000000.0                            Entertainment  \n",
      "227   09-12-2010          5250000.0                            Entertainment  \n",
      "228   01-03-2008          7000000.0                            Entertainment  \n",
      "246   25-03-2011          7712103.0                            Entertainment  \n",
      "295   01-01-2007          5000000.0                                   Health  \n",
      "346   21-01-2010          9000000.0                                   Health  \n",
      "347   06-10-2009          6000000.0                                   Health  \n",
      "348   13-09-2012          6000000.0                                   Health  \n",
      "373   03-07-2007         10000000.0                                   Health  \n",
      "568   20-07-2011         15000000.0                            Entertainment  \n",
      "817   09-08-2006          6000000.0                      Automotive & Sports  \n",
      "1254  30-04-2014         12500000.0                      Automotive & Sports  \n",
      "1316  13-09-2012         10419873.0                      Automotive & Sports  \n"
     ]
    }
   ],
   "source": [
    "D3_by_sector=D3.groupby('main_sector')\n",
    "print(D1_by_sector.head())"
   ]
  },
  {
   "cell_type": "code",
   "execution_count": 105,
   "metadata": {},
   "outputs": [
    {
     "data": {
      "text/plain": [
       "main_sector\n",
       "Others                                     1.013410e+09\n",
       "Social, Finance, Analytics, Advertising    5.355496e+08\n",
       "News, Search and Messaging                 4.198345e+08\n",
       "Entertainment                              2.808300e+08\n",
       "Manufacturing                              2.009000e+08\n",
       "Health                                     1.677400e+08\n",
       "Cleantech / Semiconductors                 1.653800e+08\n",
       "Automotive & Sports                        1.219000e+08\n",
       "Name: raised_amount_usd, dtype: float64"
      ]
     },
     "execution_count": 105,
     "metadata": {},
     "output_type": "execute_result"
    }
   ],
   "source": [
    "D3_by_sector['raised_amount_usd'].sum().sort_values(ascending = False)"
   ]
  },
  {
   "cell_type": "markdown",
   "metadata": {},
   "source": [
    "Hence top sector is Othersfor all three countries."
   ]
  },
  {
   "cell_type": "code",
   "execution_count": 106,
   "metadata": {},
   "outputs": [
    {
     "data": {
      "text/plain": [
       "main_sector\n",
       "Others                                     110\n",
       "Social, Finance, Analytics, Advertising     59\n",
       "News, Search and Messaging                  50\n",
       "Entertainment                               33\n",
       "Manufacturing                               21\n",
       "Cleantech / Semiconductors                  20\n",
       "Health                                      19\n",
       "Automotive & Sports                         12\n",
       "Name: raised_amount_usd, dtype: int64"
      ]
     },
     "execution_count": 106,
     "metadata": {},
     "output_type": "execute_result"
    }
   ],
   "source": [
    "D3_by_sector['raised_amount_usd'].count().sort_values(ascending = False)"
   ]
  },
  {
   "cell_type": "code",
   "execution_count": 107,
   "metadata": {},
   "outputs": [
    {
     "data": {
      "text/plain": [
       "main_sector  permalink                     \n",
       "Others       /organization/firstcry-com        39000000.0\n",
       "             /organization/myntra              38000000.0\n",
       "             /organization/commonfloor         32900000.0\n",
       "             /organization/pepperfry-com       28000000.0\n",
       "             /organization/itzcash-card-ltd    25000000.0\n",
       "Name: raised_amount_usd, dtype: float64"
      ]
     },
     "execution_count": 107,
     "metadata": {},
     "output_type": "execute_result"
    }
   ],
   "source": [
    "D3[D3['main_sector']=='Others'].groupby(['main_sector','permalink']).raised_amount_usd.sum().sort_values(ascending=False).head()"
   ]
  },
  {
   "cell_type": "code",
   "execution_count": 108,
   "metadata": {},
   "outputs": [
    {
     "data": {
      "text/plain": [
       "main_sector                              permalink                               \n",
       "Social, Finance, Analytics, Advertising  /organization/manthan-systems               50700000.0\n",
       "                                         /organization/komli-media                   28000000.0\n",
       "                                         /organization/shopclues-com                 25000000.0\n",
       "                                         /organization/intarvo                       21900000.0\n",
       "                                         /organization/grameen-financial-services    21556050.0\n",
       "Name: raised_amount_usd, dtype: float64"
      ]
     },
     "execution_count": 108,
     "metadata": {},
     "output_type": "execute_result"
    }
   ],
   "source": [
    "\n",
    "D3[D3['main_sector']=='Social, Finance, Analytics, Advertising'].groupby(['main_sector','permalink']).raised_amount_usd.sum().sort_values(ascending=False).head()"
   ]
  },
  {
   "cell_type": "markdown",
   "metadata": {},
   "source": [
    "A plot showing the number of investments in the top 3 sectors of the top 3 countries on one chart "
   ]
  },
  {
   "cell_type": "code",
   "execution_count": 111,
   "metadata": {},
   "outputs": [
    {
     "data": {
      "text/html": [
       "<div>\n",
       "<style scoped>\n",
       "    .dataframe tbody tr th:only-of-type {\n",
       "        vertical-align: middle;\n",
       "    }\n",
       "\n",
       "    .dataframe tbody tr th {\n",
       "        vertical-align: top;\n",
       "    }\n",
       "\n",
       "    .dataframe thead th {\n",
       "        text-align: right;\n",
       "    }\n",
       "</style>\n",
       "<table border=\"1\" class=\"dataframe\">\n",
       "  <thead>\n",
       "    <tr style=\"text-align: right;\">\n",
       "      <th></th>\n",
       "      <th>permalink</th>\n",
       "      <th>name</th>\n",
       "      <th>homepage_url</th>\n",
       "      <th>category_list</th>\n",
       "      <th>status</th>\n",
       "      <th>country_code</th>\n",
       "      <th>state_code</th>\n",
       "      <th>region</th>\n",
       "      <th>city</th>\n",
       "      <th>founded_at</th>\n",
       "      <th>company_permalink</th>\n",
       "      <th>funding_round_permalink</th>\n",
       "      <th>funding_round_type</th>\n",
       "      <th>funded_at</th>\n",
       "      <th>raised_amount_usd</th>\n",
       "      <th>main_sector</th>\n",
       "    </tr>\n",
       "  </thead>\n",
       "  <tbody>\n",
       "    <tr>\n",
       "      <td>3</td>\n",
       "      <td>/organization/0xdata</td>\n",
       "      <td>H2O.ai</td>\n",
       "      <td>http://h2o.ai/</td>\n",
       "      <td>analytics</td>\n",
       "      <td>operating</td>\n",
       "      <td>USA</td>\n",
       "      <td>CA</td>\n",
       "      <td>SF Bay Area</td>\n",
       "      <td>Mountain View</td>\n",
       "      <td>01-01-2011</td>\n",
       "      <td>/organization/0xdata</td>\n",
       "      <td>/funding-round/e1cfcbe1bdf4c70277c5f29a3482f24e</td>\n",
       "      <td>venture</td>\n",
       "      <td>19-07-2014</td>\n",
       "      <td>8900000.0</td>\n",
       "      <td>Social, Finance, Analytics, Advertising</td>\n",
       "    </tr>\n",
       "    <tr>\n",
       "      <td>17</td>\n",
       "      <td>/organization/128-technology</td>\n",
       "      <td>128 Technology</td>\n",
       "      <td>http://www.128technology.com/</td>\n",
       "      <td>service providers</td>\n",
       "      <td>operating</td>\n",
       "      <td>USA</td>\n",
       "      <td>MA</td>\n",
       "      <td>Boston</td>\n",
       "      <td>Burlington</td>\n",
       "      <td>07-07-2014</td>\n",
       "      <td>/organization/128-technology</td>\n",
       "      <td>/funding-round/fb6216a30cb566ede89e0bee0623a634</td>\n",
       "      <td>venture</td>\n",
       "      <td>16-12-2014</td>\n",
       "      <td>11999347.0</td>\n",
       "      <td>Others</td>\n",
       "    </tr>\n",
       "    <tr>\n",
       "      <td>28</td>\n",
       "      <td>/organization/170-systems</td>\n",
       "      <td>170 Systems</td>\n",
       "      <td>http://www.170systems.com</td>\n",
       "      <td>software</td>\n",
       "      <td>acquired</td>\n",
       "      <td>USA</td>\n",
       "      <td>MA</td>\n",
       "      <td>Boston</td>\n",
       "      <td>Bedford</td>\n",
       "      <td>01-01-1990</td>\n",
       "      <td>/organization/170-systems</td>\n",
       "      <td>/funding-round/b84bb882ca873f5fb96535671981196d</td>\n",
       "      <td>venture</td>\n",
       "      <td>16-04-2002</td>\n",
       "      <td>14000000.0</td>\n",
       "      <td>Others</td>\n",
       "    </tr>\n",
       "    <tr>\n",
       "      <td>30</td>\n",
       "      <td>/organization/17zuoye</td>\n",
       "      <td>17zuoye</td>\n",
       "      <td>http://www.17zuoye.com/</td>\n",
       "      <td>education</td>\n",
       "      <td>operating</td>\n",
       "      <td>USA</td>\n",
       "      <td>VA</td>\n",
       "      <td>VA - Other</td>\n",
       "      <td>Shanghai</td>\n",
       "      <td>01-01-2007</td>\n",
       "      <td>/organization/17zuoye</td>\n",
       "      <td>/funding-round/69690484f51e15bc27ff52bfe472cd96</td>\n",
       "      <td>venture</td>\n",
       "      <td>01-01-2011</td>\n",
       "      <td>5000000.0</td>\n",
       "      <td>Others</td>\n",
       "    </tr>\n",
       "    <tr>\n",
       "      <td>31</td>\n",
       "      <td>/organization/17zuoye</td>\n",
       "      <td>17zuoye</td>\n",
       "      <td>http://www.17zuoye.com/</td>\n",
       "      <td>education</td>\n",
       "      <td>operating</td>\n",
       "      <td>USA</td>\n",
       "      <td>VA</td>\n",
       "      <td>VA - Other</td>\n",
       "      <td>Shanghai</td>\n",
       "      <td>01-01-2007</td>\n",
       "      <td>/organization/17zuoye</td>\n",
       "      <td>/funding-round/8d87f771e938e0f31641bd600abbafca</td>\n",
       "      <td>venture</td>\n",
       "      <td>01-09-2013</td>\n",
       "      <td>10000000.0</td>\n",
       "      <td>Others</td>\n",
       "    </tr>\n",
       "    <tr>\n",
       "      <td>...</td>\n",
       "      <td>...</td>\n",
       "      <td>...</td>\n",
       "      <td>...</td>\n",
       "      <td>...</td>\n",
       "      <td>...</td>\n",
       "      <td>...</td>\n",
       "      <td>...</td>\n",
       "      <td>...</td>\n",
       "      <td>...</td>\n",
       "      <td>...</td>\n",
       "      <td>...</td>\n",
       "      <td>...</td>\n",
       "      <td>...</td>\n",
       "      <td>...</td>\n",
       "      <td>...</td>\n",
       "      <td>...</td>\n",
       "    </tr>\n",
       "    <tr>\n",
       "      <td>36859</td>\n",
       "      <td>/organization/zynga</td>\n",
       "      <td>Zynga</td>\n",
       "      <td>http://www.zynga.com</td>\n",
       "      <td>facebook applications</td>\n",
       "      <td>ipo</td>\n",
       "      <td>USA</td>\n",
       "      <td>CA</td>\n",
       "      <td>SF Bay Area</td>\n",
       "      <td>San Francisco</td>\n",
       "      <td>01-07-2007</td>\n",
       "      <td>/organization/zynga</td>\n",
       "      <td>/funding-round/8411431b5a0389a874e3fae93016c089</td>\n",
       "      <td>venture</td>\n",
       "      <td>24-04-2010</td>\n",
       "      <td>15000000.0</td>\n",
       "      <td>Social, Finance, Analytics, Advertising</td>\n",
       "    </tr>\n",
       "    <tr>\n",
       "      <td>36862</td>\n",
       "      <td>/organization/zynga</td>\n",
       "      <td>Zynga</td>\n",
       "      <td>http://www.zynga.com</td>\n",
       "      <td>facebook applications</td>\n",
       "      <td>ipo</td>\n",
       "      <td>USA</td>\n",
       "      <td>CA</td>\n",
       "      <td>SF Bay Area</td>\n",
       "      <td>San Francisco</td>\n",
       "      <td>01-07-2007</td>\n",
       "      <td>/organization/zynga</td>\n",
       "      <td>/funding-round/eb198261da812bc8d3bf475ccec44000</td>\n",
       "      <td>venture</td>\n",
       "      <td>12-02-2008</td>\n",
       "      <td>5026000.0</td>\n",
       "      <td>Social, Finance, Analytics, Advertising</td>\n",
       "    </tr>\n",
       "    <tr>\n",
       "      <td>36866</td>\n",
       "      <td>/organization/zyomyx-inc</td>\n",
       "      <td>ZYOMYX</td>\n",
       "      <td>http://www.zyomyx.com</td>\n",
       "      <td>biotechnology</td>\n",
       "      <td>operating</td>\n",
       "      <td>USA</td>\n",
       "      <td>MO</td>\n",
       "      <td>MO - Other</td>\n",
       "      <td>Fremont</td>\n",
       "      <td>01-01-1998</td>\n",
       "      <td>/organization/zyomyx-inc</td>\n",
       "      <td>/funding-round/4191cb5258d3863b0212d1083881da64</td>\n",
       "      <td>venture</td>\n",
       "      <td>30-06-2013</td>\n",
       "      <td>12000000.0</td>\n",
       "      <td>Cleantech / Semiconductors</td>\n",
       "    </tr>\n",
       "    <tr>\n",
       "      <td>36867</td>\n",
       "      <td>/organization/zyomyx-inc</td>\n",
       "      <td>ZYOMYX</td>\n",
       "      <td>http://www.zyomyx.com</td>\n",
       "      <td>biotechnology</td>\n",
       "      <td>operating</td>\n",
       "      <td>USA</td>\n",
       "      <td>MO</td>\n",
       "      <td>MO - Other</td>\n",
       "      <td>Fremont</td>\n",
       "      <td>01-01-1998</td>\n",
       "      <td>/organization/zyomyx-inc</td>\n",
       "      <td>/funding-round/b4fce7f8a13267353d57db09099800e8</td>\n",
       "      <td>venture</td>\n",
       "      <td>11-07-2013</td>\n",
       "      <td>14219999.0</td>\n",
       "      <td>Cleantech / Semiconductors</td>\n",
       "    </tr>\n",
       "    <tr>\n",
       "      <td>36870</td>\n",
       "      <td>/organization/zystor</td>\n",
       "      <td>Zystor</td>\n",
       "      <td>http://www.zystor.com</td>\n",
       "      <td>biotechnology</td>\n",
       "      <td>acquired</td>\n",
       "      <td>USA</td>\n",
       "      <td>WI</td>\n",
       "      <td>Milwaukee</td>\n",
       "      <td>Milwaukee</td>\n",
       "      <td>01-01-2012</td>\n",
       "      <td>/organization/zystor</td>\n",
       "      <td>/funding-round/7ea37c0ff4132b084832039a9380d34e</td>\n",
       "      <td>venture</td>\n",
       "      <td>16-12-2004</td>\n",
       "      <td>8500000.0</td>\n",
       "      <td>Cleantech / Semiconductors</td>\n",
       "    </tr>\n",
       "  </tbody>\n",
       "</table>\n",
       "<p>7612 rows × 16 columns</p>\n",
       "</div>"
      ],
      "text/plain": [
       "                          permalink            name  \\\n",
       "3              /organization/0xdata          H2O.ai   \n",
       "17     /organization/128-technology  128 Technology   \n",
       "28        /organization/170-systems     170 Systems   \n",
       "30            /organization/17zuoye         17zuoye   \n",
       "31            /organization/17zuoye         17zuoye   \n",
       "...                             ...             ...   \n",
       "36859           /organization/zynga           Zynga   \n",
       "36862           /organization/zynga           Zynga   \n",
       "36866      /organization/zyomyx-inc          ZYOMYX   \n",
       "36867      /organization/zyomyx-inc          ZYOMYX   \n",
       "36870          /organization/zystor          Zystor   \n",
       "\n",
       "                        homepage_url          category_list     status  \\\n",
       "3                     http://h2o.ai/              analytics  operating   \n",
       "17     http://www.128technology.com/      service providers  operating   \n",
       "28         http://www.170systems.com               software   acquired   \n",
       "30           http://www.17zuoye.com/              education  operating   \n",
       "31           http://www.17zuoye.com/              education  operating   \n",
       "...                              ...                    ...        ...   \n",
       "36859           http://www.zynga.com  facebook applications        ipo   \n",
       "36862           http://www.zynga.com  facebook applications        ipo   \n",
       "36866          http://www.zyomyx.com          biotechnology  operating   \n",
       "36867          http://www.zyomyx.com          biotechnology  operating   \n",
       "36870          http://www.zystor.com          biotechnology   acquired   \n",
       "\n",
       "      country_code state_code       region           city  founded_at  \\\n",
       "3              USA         CA  SF Bay Area  Mountain View  01-01-2011   \n",
       "17             USA         MA       Boston     Burlington  07-07-2014   \n",
       "28             USA         MA       Boston        Bedford  01-01-1990   \n",
       "30             USA         VA   VA - Other       Shanghai  01-01-2007   \n",
       "31             USA         VA   VA - Other       Shanghai  01-01-2007   \n",
       "...            ...        ...          ...            ...         ...   \n",
       "36859          USA         CA  SF Bay Area  San Francisco  01-07-2007   \n",
       "36862          USA         CA  SF Bay Area  San Francisco  01-07-2007   \n",
       "36866          USA         MO   MO - Other        Fremont  01-01-1998   \n",
       "36867          USA         MO   MO - Other        Fremont  01-01-1998   \n",
       "36870          USA         WI    Milwaukee      Milwaukee  01-01-2012   \n",
       "\n",
       "                  company_permalink  \\\n",
       "3              /organization/0xdata   \n",
       "17     /organization/128-technology   \n",
       "28        /organization/170-systems   \n",
       "30            /organization/17zuoye   \n",
       "31            /organization/17zuoye   \n",
       "...                             ...   \n",
       "36859           /organization/zynga   \n",
       "36862           /organization/zynga   \n",
       "36866      /organization/zyomyx-inc   \n",
       "36867      /organization/zyomyx-inc   \n",
       "36870          /organization/zystor   \n",
       "\n",
       "                               funding_round_permalink funding_round_type  \\\n",
       "3      /funding-round/e1cfcbe1bdf4c70277c5f29a3482f24e            venture   \n",
       "17     /funding-round/fb6216a30cb566ede89e0bee0623a634            venture   \n",
       "28     /funding-round/b84bb882ca873f5fb96535671981196d            venture   \n",
       "30     /funding-round/69690484f51e15bc27ff52bfe472cd96            venture   \n",
       "31     /funding-round/8d87f771e938e0f31641bd600abbafca            venture   \n",
       "...                                                ...                ...   \n",
       "36859  /funding-round/8411431b5a0389a874e3fae93016c089            venture   \n",
       "36862  /funding-round/eb198261da812bc8d3bf475ccec44000            venture   \n",
       "36866  /funding-round/4191cb5258d3863b0212d1083881da64            venture   \n",
       "36867  /funding-round/b4fce7f8a13267353d57db09099800e8            venture   \n",
       "36870  /funding-round/7ea37c0ff4132b084832039a9380d34e            venture   \n",
       "\n",
       "        funded_at  raised_amount_usd                              main_sector  \n",
       "3      19-07-2014          8900000.0  Social, Finance, Analytics, Advertising  \n",
       "17     16-12-2014         11999347.0                                   Others  \n",
       "28     16-04-2002         14000000.0                                   Others  \n",
       "30     01-01-2011          5000000.0                                   Others  \n",
       "31     01-09-2013         10000000.0                                   Others  \n",
       "...           ...                ...                                      ...  \n",
       "36859  24-04-2010         15000000.0  Social, Finance, Analytics, Advertising  \n",
       "36862  12-02-2008          5026000.0  Social, Finance, Analytics, Advertising  \n",
       "36866  30-06-2013         12000000.0               Cleantech / Semiconductors  \n",
       "36867  11-07-2013         14219999.0               Cleantech / Semiconductors  \n",
       "36870  16-12-2004          8500000.0               Cleantech / Semiconductors  \n",
       "\n",
       "[7612 rows x 16 columns]"
      ]
     },
     "execution_count": 111,
     "metadata": {},
     "output_type": "execute_result"
    }
   ],
   "source": [
    "D1 = D1[D1['main_sector'].isin([\"Others\",\"Social, Finance, Analytics, Advertising\", \"Cleantech / Semiconductors\"])]\n",
    "D1"
   ]
  },
  {
   "cell_type": "code",
   "execution_count": 1,
   "metadata": {},
   "outputs": [
    {
     "ename": "NameError",
     "evalue": "name 'D2' is not defined",
     "output_type": "error",
     "traceback": [
      "\u001b[1;31m---------------------------------------------------------------------------\u001b[0m",
      "\u001b[1;31mNameError\u001b[0m                                 Traceback (most recent call last)",
      "\u001b[1;32m<ipython-input-1-b4b6d10fe3f3>\u001b[0m in \u001b[0;36m<module>\u001b[1;34m\u001b[0m\n\u001b[1;32m----> 1\u001b[1;33m \u001b[0mD2\u001b[0m \u001b[1;33m=\u001b[0m \u001b[0mD2\u001b[0m\u001b[1;33m[\u001b[0m\u001b[0mD2\u001b[0m\u001b[1;33m[\u001b[0m\u001b[1;34m'main_sector'\u001b[0m\u001b[1;33m]\u001b[0m\u001b[1;33m.\u001b[0m\u001b[0misin\u001b[0m\u001b[1;33m(\u001b[0m\u001b[1;33m[\u001b[0m\u001b[1;34m\"Others\"\u001b[0m\u001b[1;33m,\u001b[0m\u001b[1;34m\"Social, Finance, Analytics, Advertising\"\u001b[0m\u001b[1;33m,\u001b[0m \u001b[1;34m\"Cleantech / Semiconductors\"\u001b[0m\u001b[1;33m]\u001b[0m\u001b[1;33m)\u001b[0m\u001b[1;33m]\u001b[0m\u001b[1;33m\u001b[0m\u001b[1;33m\u001b[0m\u001b[0m\n\u001b[0m\u001b[0;32m      2\u001b[0m \u001b[0mD2\u001b[0m\u001b[1;33m\u001b[0m\u001b[1;33m\u001b[0m\u001b[0m\n",
      "\u001b[1;31mNameError\u001b[0m: name 'D2' is not defined"
     ]
    }
   ],
   "source": [
    "D2 = D2[D2['main_sector'].isin([\"Others\",\"Social, Finance, Analytics, Advertising\", \"Cleantech / Semiconductors\"])]\n",
    "D2"
   ]
  },
  {
   "cell_type": "code",
   "execution_count": 113,
   "metadata": {},
   "outputs": [
    {
     "data": {
      "text/html": [
       "<div>\n",
       "<style scoped>\n",
       "    .dataframe tbody tr th:only-of-type {\n",
       "        vertical-align: middle;\n",
       "    }\n",
       "\n",
       "    .dataframe tbody tr th {\n",
       "        vertical-align: top;\n",
       "    }\n",
       "\n",
       "    .dataframe thead th {\n",
       "        text-align: right;\n",
       "    }\n",
       "</style>\n",
       "<table border=\"1\" class=\"dataframe\">\n",
       "  <thead>\n",
       "    <tr style=\"text-align: right;\">\n",
       "      <th></th>\n",
       "      <th>permalink</th>\n",
       "      <th>name</th>\n",
       "      <th>homepage_url</th>\n",
       "      <th>category_list</th>\n",
       "      <th>status</th>\n",
       "      <th>country_code</th>\n",
       "      <th>state_code</th>\n",
       "      <th>region</th>\n",
       "      <th>city</th>\n",
       "      <th>founded_at</th>\n",
       "      <th>company_permalink</th>\n",
       "      <th>funding_round_permalink</th>\n",
       "      <th>funding_round_type</th>\n",
       "      <th>funded_at</th>\n",
       "      <th>raised_amount_usd</th>\n",
       "      <th>main_sector</th>\n",
       "    </tr>\n",
       "  </thead>\n",
       "  <tbody>\n",
       "    <tr>\n",
       "      <td>49</td>\n",
       "      <td>/organization/21diamonds-india</td>\n",
       "      <td>21Diamonds</td>\n",
       "      <td>http://www.21diamonds.de</td>\n",
       "      <td>e-commerce</td>\n",
       "      <td>operating</td>\n",
       "      <td>IND</td>\n",
       "      <td>10</td>\n",
       "      <td>New Delhi</td>\n",
       "      <td>Gurgaon</td>\n",
       "      <td>01-06-2012</td>\n",
       "      <td>/organization/21diamonds-india</td>\n",
       "      <td>/funding-round/6de7ffef8091ba9f33821f4b861f434a</td>\n",
       "      <td>venture</td>\n",
       "      <td>15-11-2012</td>\n",
       "      <td>6369507.0</td>\n",
       "      <td>Others</td>\n",
       "    </tr>\n",
       "    <tr>\n",
       "      <td>255</td>\n",
       "      <td>/organization/a-little-world</td>\n",
       "      <td>A LITTLE WORLD</td>\n",
       "      <td>http://alittleworld.com</td>\n",
       "      <td>finance</td>\n",
       "      <td>operating</td>\n",
       "      <td>IND</td>\n",
       "      <td>16</td>\n",
       "      <td>Mumbai</td>\n",
       "      <td>Mumbai</td>\n",
       "      <td>02-03-2000</td>\n",
       "      <td>/organization/a-little-world</td>\n",
       "      <td>/funding-round/18d98f82ed392b1609975b81f3e8b3fb</td>\n",
       "      <td>venture</td>\n",
       "      <td>09-09-2008</td>\n",
       "      <td>6410000.0</td>\n",
       "      <td>Social, Finance, Analytics, Advertising</td>\n",
       "    </tr>\n",
       "    <tr>\n",
       "      <td>1200</td>\n",
       "      <td>/organization/agile</td>\n",
       "      <td>Agile</td>\n",
       "      <td>http://www.agile-ft.com</td>\n",
       "      <td>finance</td>\n",
       "      <td>operating</td>\n",
       "      <td>IND</td>\n",
       "      <td>16</td>\n",
       "      <td>Mumbai</td>\n",
       "      <td>Mumbai</td>\n",
       "      <td>01-01-2012</td>\n",
       "      <td>/organization/agile</td>\n",
       "      <td>/funding-round/cd3dd1c98ce9d0f632d8752163941674</td>\n",
       "      <td>venture</td>\n",
       "      <td>01-05-2011</td>\n",
       "      <td>5740000.0</td>\n",
       "      <td>Social, Finance, Analytics, Advertising</td>\n",
       "    </tr>\n",
       "    <tr>\n",
       "      <td>1448</td>\n",
       "      <td>/organization/akosha</td>\n",
       "      <td>Akosha</td>\n",
       "      <td>http://www.akosha.com</td>\n",
       "      <td>consumer internet</td>\n",
       "      <td>operating</td>\n",
       "      <td>IND</td>\n",
       "      <td>7</td>\n",
       "      <td>New Delhi</td>\n",
       "      <td>New Delhi</td>\n",
       "      <td>01-06-2010</td>\n",
       "      <td>/organization/akosha</td>\n",
       "      <td>/funding-round/908a8813e2273a2bc604bf40a45c15ff</td>\n",
       "      <td>venture</td>\n",
       "      <td>01-07-2014</td>\n",
       "      <td>5000000.0</td>\n",
       "      <td>Social, Finance, Analytics, Advertising</td>\n",
       "    </tr>\n",
       "    <tr>\n",
       "      <td>1819</td>\n",
       "      <td>/organization/amagi-media-labs</td>\n",
       "      <td>Amagi Media Labs</td>\n",
       "      <td>http://amagi.com</td>\n",
       "      <td>advertising</td>\n",
       "      <td>operating</td>\n",
       "      <td>IND</td>\n",
       "      <td>19</td>\n",
       "      <td>Bangalore</td>\n",
       "      <td>Bangalore</td>\n",
       "      <td>01-01-2008</td>\n",
       "      <td>/organization/amagi-media-labs</td>\n",
       "      <td>/funding-round/f244a91cc714317f6fbbc80dcc1d5135</td>\n",
       "      <td>venture</td>\n",
       "      <td>17-06-2013</td>\n",
       "      <td>5500000.0</td>\n",
       "      <td>Social, Finance, Analytics, Advertising</td>\n",
       "    </tr>\n",
       "    <tr>\n",
       "      <td>...</td>\n",
       "      <td>...</td>\n",
       "      <td>...</td>\n",
       "      <td>...</td>\n",
       "      <td>...</td>\n",
       "      <td>...</td>\n",
       "      <td>...</td>\n",
       "      <td>...</td>\n",
       "      <td>...</td>\n",
       "      <td>...</td>\n",
       "      <td>...</td>\n",
       "      <td>...</td>\n",
       "      <td>...</td>\n",
       "      <td>...</td>\n",
       "      <td>...</td>\n",
       "      <td>...</td>\n",
       "      <td>...</td>\n",
       "    </tr>\n",
       "    <tr>\n",
       "      <td>35021</td>\n",
       "      <td>/organization/vriti-infocom</td>\n",
       "      <td>Vriti Infocom</td>\n",
       "      <td>http://www.vriti.com</td>\n",
       "      <td>education</td>\n",
       "      <td>operating</td>\n",
       "      <td>IND</td>\n",
       "      <td>36</td>\n",
       "      <td>New Delhi</td>\n",
       "      <td>Noida</td>\n",
       "      <td>01-01-2012</td>\n",
       "      <td>/organization/vriti-infocom</td>\n",
       "      <td>/funding-round/67aac706a82108fc0f6068901b6293e2</td>\n",
       "      <td>venture</td>\n",
       "      <td>25-08-2010</td>\n",
       "      <td>5000000.0</td>\n",
       "      <td>Others</td>\n",
       "    </tr>\n",
       "    <tr>\n",
       "      <td>35029</td>\n",
       "      <td>/organization/vserv</td>\n",
       "      <td>Vserv</td>\n",
       "      <td>http://vserv.com</td>\n",
       "      <td>emerging markets</td>\n",
       "      <td>operating</td>\n",
       "      <td>IND</td>\n",
       "      <td>16</td>\n",
       "      <td>Mumbai</td>\n",
       "      <td>Mumbai</td>\n",
       "      <td>04-01-2010</td>\n",
       "      <td>/organization/vserv</td>\n",
       "      <td>/funding-round/6442af712aaab254abcae2fe3fea9bc9</td>\n",
       "      <td>venture</td>\n",
       "      <td>02-03-2015</td>\n",
       "      <td>11000000.0</td>\n",
       "      <td>Others</td>\n",
       "    </tr>\n",
       "    <tr>\n",
       "      <td>35078</td>\n",
       "      <td>/organization/vyome-biosciences</td>\n",
       "      <td>Vyome Biosciences</td>\n",
       "      <td>http://www.vyome.in/</td>\n",
       "      <td>biotechnology</td>\n",
       "      <td>operating</td>\n",
       "      <td>IND</td>\n",
       "      <td>7</td>\n",
       "      <td>Delhi</td>\n",
       "      <td>Delhi</td>\n",
       "      <td>01-01-2010</td>\n",
       "      <td>/organization/vyome-biosciences</td>\n",
       "      <td>/funding-round/339647785b60e71ab176256b8a062774</td>\n",
       "      <td>venture</td>\n",
       "      <td>12-08-2014</td>\n",
       "      <td>8000000.0</td>\n",
       "      <td>Cleantech / Semiconductors</td>\n",
       "    </tr>\n",
       "    <tr>\n",
       "      <td>36211</td>\n",
       "      <td>/organization/yepme-com</td>\n",
       "      <td>yepme.com</td>\n",
       "      <td>http://yepme.com</td>\n",
       "      <td>brand marketing</td>\n",
       "      <td>operating</td>\n",
       "      <td>IND</td>\n",
       "      <td>10</td>\n",
       "      <td>New Delhi</td>\n",
       "      <td>Gurgaon</td>\n",
       "      <td>01-01-2010</td>\n",
       "      <td>/organization/yepme-com</td>\n",
       "      <td>/funding-round/cf179033074390a33c0b1cdc3a9f14b9</td>\n",
       "      <td>venture</td>\n",
       "      <td>09-01-2015</td>\n",
       "      <td>12700000.0</td>\n",
       "      <td>Social, Finance, Analytics, Advertising</td>\n",
       "    </tr>\n",
       "    <tr>\n",
       "      <td>36680</td>\n",
       "      <td>/organization/zo-rooms</td>\n",
       "      <td>ZO Rooms</td>\n",
       "      <td>http://bit.ly/1HTcZ90</td>\n",
       "      <td>hospitality</td>\n",
       "      <td>operating</td>\n",
       "      <td>IND</td>\n",
       "      <td>7</td>\n",
       "      <td>New Delhi</td>\n",
       "      <td>New Delhi</td>\n",
       "      <td>01-01-2014</td>\n",
       "      <td>/organization/zo-rooms</td>\n",
       "      <td>/funding-round/c88cfb5fe8cc31d33a07b73aa97c0e04</td>\n",
       "      <td>venture</td>\n",
       "      <td>20-07-2015</td>\n",
       "      <td>15000000.0</td>\n",
       "      <td>Others</td>\n",
       "    </tr>\n",
       "  </tbody>\n",
       "</table>\n",
       "<p>189 rows × 16 columns</p>\n",
       "</div>"
      ],
      "text/plain": [
       "                             permalink               name  \\\n",
       "49      /organization/21diamonds-india         21Diamonds   \n",
       "255       /organization/a-little-world     A LITTLE WORLD   \n",
       "1200               /organization/agile              Agile   \n",
       "1448              /organization/akosha             Akosha   \n",
       "1819    /organization/amagi-media-labs   Amagi Media Labs   \n",
       "...                                ...                ...   \n",
       "35021      /organization/vriti-infocom      Vriti Infocom   \n",
       "35029              /organization/vserv              Vserv   \n",
       "35078  /organization/vyome-biosciences  Vyome Biosciences   \n",
       "36211          /organization/yepme-com          yepme.com   \n",
       "36680           /organization/zo-rooms           ZO Rooms   \n",
       "\n",
       "                   homepage_url      category_list     status country_code  \\\n",
       "49     http://www.21diamonds.de         e-commerce  operating          IND   \n",
       "255     http://alittleworld.com            finance  operating          IND   \n",
       "1200    http://www.agile-ft.com            finance  operating          IND   \n",
       "1448      http://www.akosha.com  consumer internet  operating          IND   \n",
       "1819           http://amagi.com        advertising  operating          IND   \n",
       "...                         ...                ...        ...          ...   \n",
       "35021      http://www.vriti.com          education  operating          IND   \n",
       "35029          http://vserv.com   emerging markets  operating          IND   \n",
       "35078      http://www.vyome.in/      biotechnology  operating          IND   \n",
       "36211          http://yepme.com    brand marketing  operating          IND   \n",
       "36680     http://bit.ly/1HTcZ90        hospitality  operating          IND   \n",
       "\n",
       "      state_code     region       city  founded_at  \\\n",
       "49            10  New Delhi    Gurgaon  01-06-2012   \n",
       "255           16     Mumbai     Mumbai  02-03-2000   \n",
       "1200          16     Mumbai     Mumbai  01-01-2012   \n",
       "1448           7  New Delhi  New Delhi  01-06-2010   \n",
       "1819          19  Bangalore  Bangalore  01-01-2008   \n",
       "...          ...        ...        ...         ...   \n",
       "35021         36  New Delhi      Noida  01-01-2012   \n",
       "35029         16     Mumbai     Mumbai  04-01-2010   \n",
       "35078          7      Delhi      Delhi  01-01-2010   \n",
       "36211         10  New Delhi    Gurgaon  01-01-2010   \n",
       "36680          7  New Delhi  New Delhi  01-01-2014   \n",
       "\n",
       "                     company_permalink  \\\n",
       "49      /organization/21diamonds-india   \n",
       "255       /organization/a-little-world   \n",
       "1200               /organization/agile   \n",
       "1448              /organization/akosha   \n",
       "1819    /organization/amagi-media-labs   \n",
       "...                                ...   \n",
       "35021      /organization/vriti-infocom   \n",
       "35029              /organization/vserv   \n",
       "35078  /organization/vyome-biosciences   \n",
       "36211          /organization/yepme-com   \n",
       "36680           /organization/zo-rooms   \n",
       "\n",
       "                               funding_round_permalink funding_round_type  \\\n",
       "49     /funding-round/6de7ffef8091ba9f33821f4b861f434a            venture   \n",
       "255    /funding-round/18d98f82ed392b1609975b81f3e8b3fb            venture   \n",
       "1200   /funding-round/cd3dd1c98ce9d0f632d8752163941674            venture   \n",
       "1448   /funding-round/908a8813e2273a2bc604bf40a45c15ff            venture   \n",
       "1819   /funding-round/f244a91cc714317f6fbbc80dcc1d5135            venture   \n",
       "...                                                ...                ...   \n",
       "35021  /funding-round/67aac706a82108fc0f6068901b6293e2            venture   \n",
       "35029  /funding-round/6442af712aaab254abcae2fe3fea9bc9            venture   \n",
       "35078  /funding-round/339647785b60e71ab176256b8a062774            venture   \n",
       "36211  /funding-round/cf179033074390a33c0b1cdc3a9f14b9            venture   \n",
       "36680  /funding-round/c88cfb5fe8cc31d33a07b73aa97c0e04            venture   \n",
       "\n",
       "        funded_at  raised_amount_usd                              main_sector  \n",
       "49     15-11-2012          6369507.0                                   Others  \n",
       "255    09-09-2008          6410000.0  Social, Finance, Analytics, Advertising  \n",
       "1200   01-05-2011          5740000.0  Social, Finance, Analytics, Advertising  \n",
       "1448   01-07-2014          5000000.0  Social, Finance, Analytics, Advertising  \n",
       "1819   17-06-2013          5500000.0  Social, Finance, Analytics, Advertising  \n",
       "...           ...                ...                                      ...  \n",
       "35021  25-08-2010          5000000.0                                   Others  \n",
       "35029  02-03-2015         11000000.0                                   Others  \n",
       "35078  12-08-2014          8000000.0               Cleantech / Semiconductors  \n",
       "36211  09-01-2015         12700000.0  Social, Finance, Analytics, Advertising  \n",
       "36680  20-07-2015         15000000.0                                   Others  \n",
       "\n",
       "[189 rows x 16 columns]"
      ]
     },
     "execution_count": 113,
     "metadata": {},
     "output_type": "execute_result"
    }
   ],
   "source": [
    "D3 = D3[D3['main_sector'].isin([\"Others\",\"Social, Finance, Analytics, Advertising\", \"Cleantech / Semiconductors\"])]\n",
    "D3"
   ]
  },
  {
   "cell_type": "code",
   "execution_count": 131,
   "metadata": {},
   "outputs": [
    {
     "data": {
      "image/png": "[encoded data removed]",
      "text/plain": [
       "<Figure size 1440x720 with 1 Axes>"
      ]
     },
     "metadata": {
      "needs_background": "light"
     },
     "output_type": "display_data"
    }
   ],
   "source": [
    "frames = [D1, D2, D3]\n",
    "result = pd.concat(frames)\n",
    "plt.figure(figsize=(20, 10))\n",
    "g=sns.barplot(y='country_code', x='raised_amount_usd', hue=\"main_sector\", width=.005, data=result, estimator=np.sum)\n",
    "g.set_xscale('log')\n",
    "g.set_yscale('log')\n",
    "plt.show()"
   ]
  },
  {
   "cell_type": "code",
   "execution_count": null,
   "metadata": {},
   "outputs": [],
   "source": []
  }
 ],
 "metadata": {
  "kernelspec": {
   "display_name": "Python 3",
   "language": "python",
   "name": "python3"
  },
  "language_info": {
   "codemirror_mode": {
    "name": "ipython",
    "version": 3
   },
   "file_extension": ".py",
   "mimetype": "text/x-python",
   "name": "python",
   "nbconvert_exporter": "python",
   "pygments_lexer": "ipython3",
   "version": "3.7.4"
  }
 },
 "nbformat": 4,
 "nbformat_minor": 2
}
